{
 "cells": [
  {
   "cell_type": "markdown",
   "metadata": {
    "colab_type": "text",
    "id": "view-in-github"
   },
   "source": [
    "<a href=\"https://colab.research.google.com/github/kuzmvs/mda/blob/master/Hometask_01_Gradient_Descent.ipynb\" target=\"_parent\"><img src=\"https://colab.research.google.com/assets/colab-badge.svg\" alt=\"Open In Colab\"/></a>"
   ]
  },
  {
   "cell_type": "markdown",
   "metadata": {
    "id": "fdTH3pxXFLxw"
   },
   "source": [
    "# Домашнее задание.\n",
    "\n",
    "На всякий случай напомним, что использование открытых источников (medium, towardsdatascience и т. д.) разрешено только при указании ссылки первоисточника. Вполне вероятно, что более одного человека нагуглят одинаковый код. Указание ссылки позволит нам не помечать такие работы как списывание.\n",
    "\n",
    "Не забывайте и правила использования моделей по типу Copilot/ChatGPT и их аналогов: не более 30% кода и полное указание промпта для модели. Если просили модель что-то корректировать, или же сами что-то правили -- всё нужно указывать."
   ]
  },
  {
   "cell_type": "markdown",
   "metadata": {
    "id": "kqVyveO4FLxx"
   },
   "source": [
    "## Часть 1. Библиотека NumPy"
   ]
  },
  {
   "cell_type": "markdown",
   "metadata": {
    "id": "zNja-u8vFLx0"
   },
   "source": [
    "### Формат сдачи"
   ]
  },
  {
   "cell_type": "markdown",
   "metadata": {
    "id": "_H-cf8uaFLx0"
   },
   "source": [
    "Задание выполняем в Google Colab и присылаем ссылку с включенным режимом комментирования."
   ]
  },
  {
   "cell_type": "markdown",
   "metadata": {
    "id": "TEVawss2FLxy"
   },
   "source": [
    "### О задании"
   ]
  },
  {
   "cell_type": "markdown",
   "metadata": {
    "id": "NXNpYAFdFLxz"
   },
   "source": [
    "В данном домашнем задании вы попрактикуетесь в работе с библиотекой numpy!"
   ]
  },
  {
   "cell_type": "code",
   "execution_count": 84,
   "metadata": {
    "ExecuteTime": {
     "end_time": "2024-11-09T15:11:27.859262Z",
     "start_time": "2024-11-09T15:11:27.857651Z"
    },
    "collapsed": true,
    "id": "4gsWSgTIFLx1"
   },
   "outputs": [],
   "source": [
    "import numpy as np\n",
    "import copy as cp"
   ]
  },
  {
   "cell_type": "markdown",
   "metadata": {
    "id": "ApiPWJygFLx2"
   },
   "source": [
    "Во всех задачах необходимо написать код решения внутри функции и проверить его работу, вызвав функцию для данных из условия.\n",
    "\n",
    "При решении задач запрещается использовать циклы (`for`, `while`) и оператор `if`.\n",
    "\n",
    "Везде, где встречаются массивы или матрицы, подразумевается, что это `numpy.array`."
   ]
  },
  {
   "cell_type": "markdown",
   "metadata": {
    "id": "8fc_z7yNFLx2"
   },
   "source": [
    "### Задание 1"
   ]
  },
  {
   "cell_type": "markdown",
   "metadata": {
    "id": "ETNlMgiZFLx3"
   },
   "source": [
    "Напишите функцию, возвращающую округленную взвешенную сумму оценок по данным оценкам и весам. Можете посчитать свою оценку за курс :)"
   ]
  },
  {
   "cell_type": "code",
   "execution_count": 18,
   "metadata": {
    "ExecuteTime": {
     "end_time": "2024-11-09T15:13:07.280933Z",
     "start_time": "2024-11-09T15:13:07.279115Z"
    },
    "collapsed": true,
    "id": "VDEhJbQ-FLx3"
   },
   "outputs": [],
   "source": [
    "def result_mark(weights, marks):\n",
    "    return sum(weights[::] * marks[::])"
   ]
  },
  {
   "cell_type": "code",
   "execution_count": 19,
   "metadata": {
    "ExecuteTime": {
     "end_time": "2024-11-09T15:13:09.232044Z",
     "start_time": "2024-11-09T15:13:09.229745Z"
    },
    "id": "NcaSNNLNFLx3"
   },
   "outputs": [
    {
     "data": {
      "text/plain": [
       "np.float64(7.6)"
      ]
     },
     "execution_count": 19,
     "metadata": {},
     "output_type": "execute_result"
    }
   ],
   "source": [
    "weights = np.array([0.35, 0.4, 0.15, 0.1])\n",
    "marks = np.array([6, 9, 8, 7])\n",
    "result_mark(weights, marks)"
   ]
  },
  {
   "cell_type": "markdown",
   "metadata": {
    "id": "J0V1vikQFLx3"
   },
   "source": [
    "### Задание 2"
   ]
  },
  {
   "cell_type": "markdown",
   "metadata": {
    "id": "-7GYYXZ-FLx4"
   },
   "source": [
    "Напишите функцию, меняющую каждое третье (начиная с 0) значение массива целых чисел на заданное число. Например, если на вход поступает массив `array([3, 5, 1, 0, -3, 22, 213436])` и число `-111`, то на выходе должен получиться массив `array([-111, 5, 1, -111, -3, 22, -111])`."
   ]
  },
  {
   "cell_type": "code",
   "execution_count": 20,
   "metadata": {
    "ExecuteTime": {
     "end_time": "2024-11-09T15:11:31.776745Z",
     "start_time": "2024-11-09T15:11:31.775105Z"
    },
    "collapsed": true,
    "id": "bCl2jHbqFLx4"
   },
   "outputs": [],
   "source": [
    "def change_array(array, number):\n",
    "    array[::3] = number"
   ]
  },
  {
   "cell_type": "code",
   "execution_count": 21,
   "metadata": {
    "ExecuteTime": {
     "end_time": "2024-11-09T15:11:32.850267Z",
     "start_time": "2024-11-09T15:11:32.847866Z"
    },
    "collapsed": true,
    "id": "Gpq8NhDLFLx4"
   },
   "outputs": [
    {
     "data": {
      "text/plain": [
       "array([-111,    5,    1, -111,   -3,   22, -111])"
      ]
     },
     "execution_count": 21,
     "metadata": {},
     "output_type": "execute_result"
    }
   ],
   "source": [
    "array = np.array([3, 5, 1, 0, -3, 22, 213436])\n",
    "number = -111\n",
    "change_array(array, number)\n",
    "array"
   ]
  },
  {
   "cell_type": "markdown",
   "metadata": {
    "id": "Sal1bM6RFLx4"
   },
   "source": [
    "### Задание 3"
   ]
  },
  {
   "cell_type": "markdown",
   "metadata": {
    "id": "au8Az2JjFLx5"
   },
   "source": [
    "Напишите функцию, выдающую индексы «близких» элементов заданных массивов, а именно тех пар элементов, чей модуль разницы не превосходит заданного значения. Например, если на вход поступают массив `array([1.5, 0.5, 2, -4.1, -3, 6, -1])`, массив `array([1.2, 0.5, 1, -4, 3, 0, -1.2])` и число `0.5`, то на выходе должен получиться массив `array([0, 1, 3, 6])` (_**важно: не `tuple`, а одномерный массив типа `numpy.ndarray` (то есть `.ndim` от него равно 1)!**_)."
   ]
  },
  {
   "cell_type": "code",
   "execution_count": 22,
   "metadata": {
    "collapsed": true,
    "id": "WacJagotFLx5"
   },
   "outputs": [],
   "source": [
    "def find_close(array1, array2, precision):\n",
    "    return np.where(np.abs(array1 - array2) <= precision)[0]"
   ]
  },
  {
   "cell_type": "code",
   "execution_count": 23,
   "metadata": {
    "collapsed": true,
    "id": "zFLktJlAFLx5"
   },
   "outputs": [
    {
     "data": {
      "text/plain": [
       "array([0, 1, 3, 6])"
      ]
     },
     "execution_count": 23,
     "metadata": {},
     "output_type": "execute_result"
    }
   ],
   "source": [
    "array1 = np.array([1.5, 0.5, 2, -4.1, -3, 6, -1])\n",
    "array2 = np.array([1.2, 0.5, 1, -4, 3, 0, -1.2])\n",
    "precision = 0.5\n",
    "find_close(array1, array2, precision)"
   ]
  },
  {
   "cell_type": "markdown",
   "metadata": {
    "id": "vIuNrOzMFLx6"
   },
   "source": [
    "### Задание 4"
   ]
  },
  {
   "cell_type": "markdown",
   "metadata": {
    "id": "ygLvIXXaFLx6"
   },
   "source": [
    "Напишите функцию, которая составляет блочную матрицу из четырех блоков, где каждый блок - это заданная матрица. Например, если на вход поступает матрица\n",
    "$$\n",
    "\\begin{pmatrix}\n",
    "0 & 1 & 2\\\\\n",
    "3 & 4 & 5\\\\\n",
    "\\end{pmatrix},\n",
    "$$\n",
    "то ответом будет матрица\n",
    "$$\n",
    "\\begin{pmatrix}\n",
    "0 & 1 & 2 & 0 & 1 & 2\\\\\n",
    "3 & 4 & 5 & 3 & 4 & 5\\\\\n",
    "0 & 1 & 2 & 0 & 1 & 2\\\\\n",
    "3 & 4 & 5 & 3 & 4 & 5\\\\\n",
    "\\end{pmatrix}\n",
    "$$"
   ]
  },
  {
   "cell_type": "code",
   "execution_count": 24,
   "metadata": {
    "collapsed": true,
    "id": "3ZSvD5CbFLx6"
   },
   "outputs": [],
   "source": [
    "def block_matrix(block):\n",
    "    # Через стэки\n",
    "    return np.vstack([np.hstack([block, block]), np.hstack([block, block])])"
   ]
  },
  {
   "cell_type": "code",
   "execution_count": 25,
   "metadata": {
    "collapsed": true,
    "id": "x2zSnETKFLx6"
   },
   "outputs": [
    {
     "data": {
      "text/plain": [
       "array([[0, 1, 2, 0, 1, 2],\n",
       "       [3, 4, 5, 3, 4, 5],\n",
       "       [0, 1, 2, 0, 1, 2],\n",
       "       [3, 4, 5, 3, 4, 5]])"
      ]
     },
     "execution_count": 25,
     "metadata": {},
     "output_type": "execute_result"
    }
   ],
   "source": [
    "block = np.array([[0, 1, 2], [3, 4, 5]])\n",
    "block_matrix(block)"
   ]
  },
  {
   "cell_type": "markdown",
   "metadata": {
    "id": "4Bjhe8y1FLx7"
   },
   "source": [
    "### Задание 5"
   ]
  },
  {
   "cell_type": "markdown",
   "metadata": {
    "id": "-U82db8IFLx7"
   },
   "source": [
    "Напишите функцию, вычисляющую произведение всех ненулевых диагональных элементов на диагонали данной квадратной матрицы. Например, если на вход поступает матрица\n",
    "$$\n",
    "\\begin{pmatrix}\n",
    "0 & 1 & 2\\\\\n",
    "3 & 4 & 5\\\\\n",
    "6 & 7 & 8\\\\\n",
    "\\end{pmatrix},\n",
    "$$\n",
    "то ответом будет 32."
   ]
  },
  {
   "cell_type": "code",
   "execution_count": 26,
   "metadata": {
    "collapsed": true,
    "id": "KXSqcJtDFLx7"
   },
   "outputs": [],
   "source": [
    "def diag_prod(matrix):\n",
    "    return np.prod(np.diag(matrix)[np.diag(matrix) != 0])"
   ]
  },
  {
   "cell_type": "code",
   "execution_count": 27,
   "metadata": {
    "collapsed": true,
    "id": "tVMMGkuwFLx7"
   },
   "outputs": [
    {
     "data": {
      "text/plain": [
       "np.int64(32)"
      ]
     },
     "execution_count": 27,
     "metadata": {},
     "output_type": "execute_result"
    }
   ],
   "source": [
    "matrix = np.array([[0, 1, 2], [3, 4, 5], [6, 7, 8]])\n",
    "diag_prod(matrix)"
   ]
  },
  {
   "cell_type": "markdown",
   "metadata": {
    "id": "N4x5oKBqFLx8"
   },
   "source": [
    "### Задание 6"
   ]
  },
  {
   "cell_type": "markdown",
   "metadata": {
    "id": "X_KxN00rFLx8"
   },
   "source": [
    "Для улучшения качества работы некоторых алгоритмов машинного обучения может быть полезно использовать [нормализацию данных](https://vk.cc/8xmfQk), чтобы привести признаки в выборке к одному масштабу — а именно, из каждого столбца вычесть среднее его значений и поделить на их стандартное отклонение. Напишите функцию, нормализующую входящую матрицу (по столбцам). Например, если на вход подается матрица\n",
    "$$\n",
    "\\begin{pmatrix}\n",
    "1 & 4 & 4200\\\\\n",
    "0 & 10 & 5000\\\\\n",
    "1 & 2 & 1000\\\\\n",
    "\\end{pmatrix},\n",
    "$$\n",
    "то результатом с точностью до сотых будет матрица\n",
    "$$\n",
    "\\begin{pmatrix}\n",
    "0.71 & -0.39 & 0.46\\\\\n",
    "-1.41 & 1.37 & 0.93\\\\\n",
    "0.71 & -0.98 & -1.39\\\\\n",
    "\\end{pmatrix}\n",
    "$$\n",
    "\n",
    "_Подсказка. Учтите, что в вашей матрице не должно получаться никаких nan. Подумайте, в каком случае они могут возникнуть и как обойти эту проблему._\n"
   ]
  },
  {
   "cell_type": "code",
   "execution_count": 29,
   "metadata": {
    "collapsed": true,
    "id": "8-1UM3LqFLx8"
   },
   "outputs": [],
   "source": [
    "def normalize(matrix):\n",
    "    # Расчет среднего и выборочного стандартного отклонения для столбцов, т.к.не ген.совокупность\n",
    "    mean = np.mean(matrix, axis=0)\n",
    "    std = np.std(matrix, axis=0, ddof=1)  # ddof=1 т.к. выборка, а не ген.совокупность данных\n",
    "    \n",
    "    # Замена стандартных отклонений с 0 на 1, чтобы избежать деления на 0\n",
    "    std[std == 0] = 1\n",
    "    \n",
    "    # Нормализация по https://en.wikipedia.org/wiki/Standard_score\n",
    "    return (matrix - mean) / std"
   ]
  },
  {
   "cell_type": "code",
   "execution_count": 30,
   "metadata": {
    "collapsed": true,
    "id": "5s0nCZJNFLx8"
   },
   "outputs": [
    {
     "data": {
      "text/plain": [
       "array([[ 0.57735027, -0.32025631,  0.37796447],\n",
       "       [-1.15470054,  1.12089708,  0.75592895],\n",
       "       [ 0.57735027, -0.80064077, -1.13389342]])"
      ]
     },
     "execution_count": 30,
     "metadata": {},
     "output_type": "execute_result"
    }
   ],
   "source": [
    "matrix = np.array([[1, 4, 4200], [0, 10, 5000], [1, 2, 1000]])\n",
    "normalize(matrix)"
   ]
  },
  {
   "cell_type": "markdown",
   "metadata": {
    "id": "GGezY0NEFLx9"
   },
   "source": [
    "### Задание 7"
   ]
  },
  {
   "cell_type": "markdown",
   "metadata": {
    "id": "yBWZF7a5FLx9"
   },
   "source": [
    "Напишите функцию, вычисляющую какую-нибудь первообразную данного полинома (в качестве константы возьмите ваше любимое число). Например, если на вход поступает массив коэффициентов `array([4, 6, 0, 1])`, что соответствует полиному $4x^3 + 6x^2 + 1$, на выходе получается массив коэффициентов `array([1, 2, 0, 1, -2])`, соответствующий полиному $x^4 + 2x^3 + x - 2$."
   ]
  },
  {
   "cell_type": "code",
   "execution_count": 31,
   "metadata": {
    "collapsed": true,
    "id": "IWU9ISN_FLx9"
   },
   "outputs": [],
   "source": [
    "def antiderivative(coefs):\n",
    "    # Определение степеней для деления\n",
    "    powers = np.arange(len(coefs), 0, -1)\n",
    "    \n",
    "    # Создание нового массива коэффициентов с добавлением константы\n",
    "    new_coefs = np.zeros(len(coefs) + 1)\n",
    "    \n",
    "    # Присвоение коэффициентов, деленных на степени\n",
    "    new_coefs[:-1] = coefs / powers\n",
    "    \n",
    "    # Пусть -2 будет константой (как в примере)\n",
    "    new_coefs[-1] = -2\n",
    "    \n",
    "    return new_coefs"
   ]
  },
  {
   "cell_type": "code",
   "execution_count": 32,
   "metadata": {
    "collapsed": true,
    "id": "9G2gNNZxFLx9"
   },
   "outputs": [
    {
     "name": "stdout",
     "output_type": "stream",
     "text": [
      "powers: [4 3 2 1]\n",
      "new_coefs: [0. 0. 0. 0. 0.]\n",
      "new_coefs: [ 1.  2.  0.  1. -2.]\n"
     ]
    },
    {
     "data": {
      "text/plain": [
       "array([ 1.,  2.,  0.,  1., -2.])"
      ]
     },
     "execution_count": 32,
     "metadata": {},
     "output_type": "execute_result"
    }
   ],
   "source": [
    "coefs = np.array([4, 6, 0, 1])\n",
    "antiderivative(coefs)"
   ]
  },
  {
   "cell_type": "markdown",
   "metadata": {
    "id": "6LtnZ4T1FLx9"
   },
   "source": [
    "### Задание 8"
   ]
  },
  {
   "cell_type": "markdown",
   "metadata": {
    "id": "vGq8Aao0FLx-"
   },
   "source": [
    "Напишите функцию, делающую данную [треугольную матрицу](https://ru.wikipedia.org/wiki/%D0%A2%D1%80%D0%B5%D1%83%D0%B3%D0%BE%D0%BB%D1%8C%D0%BD%D0%B0%D1%8F_%D0%BC%D0%B0%D1%82%D1%80%D0%B8%D1%86%D0%B0) симметричной. Например, если на вход поступает матрица\n",
    "$$\n",
    "\\begin{pmatrix}\n",
    "1 & 2 & 3 & 4\\\\\n",
    "0 & 5 & 6 & 7\\\\\n",
    "0 & 0 & 8 & 9\\\\\n",
    "0 & 0 & 0 & 10\\\\\n",
    "\\end{pmatrix},\n",
    "$$\n",
    "то на выходе должна быть матрица\n",
    "$$\n",
    "\\begin{pmatrix}\n",
    "1 & 2 & 3 & 4\\\\\n",
    "2 & 5 & 6 & 7\\\\\n",
    "3 & 6 & 8 & 9\\\\\n",
    "4 & 7 & 9 & 10\\\\\n",
    "\\end{pmatrix}.\n",
    "$$"
   ]
  },
  {
   "cell_type": "code",
   "execution_count": 33,
   "metadata": {
    "collapsed": true,
    "id": "X9YCwhUxFLx-"
   },
   "outputs": [],
   "source": [
    "def make_symmetric(matrix):\n",
    "    # Создаение копии матрицы\n",
    "    result = cp.deepcopy(matrix)\n",
    "    \n",
    "    # Получение индексов верхнего треугольника\n",
    "    i_upper, j_upper = np.triu_indices_from(matrix)\n",
    "    \n",
    "    # Присваивание элементов верхнего треугольника элементам нижнего треугольника\n",
    "    result[j_upper, i_upper] = matrix[i_upper, j_upper]\n",
    "    \n",
    "    return result"
   ]
  },
  {
   "cell_type": "code",
   "execution_count": 34,
   "metadata": {
    "collapsed": true,
    "id": "ShNVSsM-FLx-"
   },
   "outputs": [
    {
     "data": {
      "text/plain": [
       "array([[ 1,  2,  3,  4],\n",
       "       [ 2,  5,  6,  7],\n",
       "       [ 3,  6,  8,  9],\n",
       "       [ 4,  7,  9, 10]])"
      ]
     },
     "execution_count": 34,
     "metadata": {},
     "output_type": "execute_result"
    }
   ],
   "source": [
    "matrix = np.array([[1, 2, 3, 4], [0, 5, 6, 7], [0, 0, 8, 9], [0, 0, 0, 10]])\n",
    "make_symmetric(matrix)"
   ]
  },
  {
   "cell_type": "markdown",
   "metadata": {
    "id": "JV_y8k8rFLx-"
   },
   "source": [
    "### Задание 9"
   ]
  },
  {
   "cell_type": "markdown",
   "metadata": {
    "id": "7pX12jtoFLx_"
   },
   "source": [
    "Напишите функцию, создающую прямоугольную матрицу из m одинаковых строк, заполненных последовательными натуральными числами от a до b включительно в возрастающем порядке. Например, если m = 5, a = 3, b = 10, то на выходе будет матрица\n",
    "$$\n",
    "\\begin{pmatrix}\n",
    "3 & 4 & 5 & 6 & 7 & 8 & 9 & 10\\\\\n",
    "3 & 4 & 5 & 6 & 7 & 8 & 9 & 10\\\\\n",
    "3 & 4 & 5 & 6 & 7 & 8 & 9 & 10\\\\\n",
    "3 & 4 & 5 & 6 & 7 & 8 & 9 & 10\\\\\n",
    "3 & 4 & 5 & 6 & 7 & 8 & 9 & 10\\\\\n",
    "\\end{pmatrix}\n",
    "$$"
   ]
  },
  {
   "cell_type": "code",
   "execution_count": 35,
   "metadata": {
    "collapsed": true,
    "id": "g2yZmQ4gFLx_"
   },
   "outputs": [],
   "source": [
    "def construct_matrix(m, a, b):\n",
    "    # Создание одной новой строки с числами от a до b включительно\n",
    "    row = np.arange(a, b + 1)\n",
    "    \n",
    "    # Создание дубликата строки row m-раз по вертикали и 1 по горизонтали\n",
    "    return np.tile(row, (m, 1))"
   ]
  },
  {
   "cell_type": "code",
   "execution_count": 36,
   "metadata": {
    "collapsed": true,
    "id": "bsaKjkvOFLx_"
   },
   "outputs": [
    {
     "data": {
      "text/plain": [
       "array([[ 3,  4,  5,  6,  7,  8,  9, 10],\n",
       "       [ 3,  4,  5,  6,  7,  8,  9, 10],\n",
       "       [ 3,  4,  5,  6,  7,  8,  9, 10],\n",
       "       [ 3,  4,  5,  6,  7,  8,  9, 10],\n",
       "       [ 3,  4,  5,  6,  7,  8,  9, 10]])"
      ]
     },
     "execution_count": 36,
     "metadata": {},
     "output_type": "execute_result"
    }
   ],
   "source": [
    "m = 5\n",
    "a = 3\n",
    "b = 10\n",
    "construct_matrix(m, a, b)"
   ]
  },
  {
   "cell_type": "markdown",
   "metadata": {
    "id": "G9vWLQZWFLx_"
   },
   "source": [
    "### Задание 10"
   ]
  },
  {
   "cell_type": "markdown",
   "metadata": {
    "id": "USWqm0x7FLx_"
   },
   "source": [
    "Напишите функцию, вычисляющую [косинусную близость](https://en.wikipedia.org/wiki/Cosine_similarity) двух векторов. Например, если на вход поступают вектора `array([-2, 1, 0, -5, 4, 3, -3])` и `array([0, 2, -2, 10, 6, 0, 0])`, ответом будет -0.25."
   ]
  },
  {
   "cell_type": "code",
   "execution_count": 37,
   "metadata": {
    "collapsed": true,
    "id": "48XiDQTBFLyA"
   },
   "outputs": [],
   "source": [
    "def cosine_similarity(vec1, vec2):\n",
    "    # Вычисление скалярного произведения векторов\n",
    "    dot_product = np.dot(vec1, vec2)\n",
    "    \n",
    "    # Вычисление длины векторов\n",
    "    norm_vec1 = np.sqrt(np.sum(vec1**2))\n",
    "    norm_vec2 = np.sqrt(np.sum(vec2**2))\n",
    "    \n",
    "    # Вычисление косинусного расстояния (близости)\n",
    "    return dot_product / (norm_vec1 * norm_vec2)"
   ]
  },
  {
   "cell_type": "code",
   "execution_count": 38,
   "metadata": {
    "collapsed": true,
    "id": "YmEsEYHrFLyA"
   },
   "outputs": [
    {
     "data": {
      "text/plain": [
       "np.float64(-0.25)"
      ]
     },
     "execution_count": 38,
     "metadata": {},
     "output_type": "execute_result"
    }
   ],
   "source": [
    "vec1 = np.array([-2, 1, 0, -5, 4, 3, -3])\n",
    "vec2 = np.array([0, 2, -2, 10, 6, 0, 0])\n",
    "cosine_similarity(vec1, vec2)"
   ]
  },
  {
   "cell_type": "markdown",
   "metadata": {
    "id": "hBRiwTKEkl7p"
   },
   "source": [
    "## Часть 2. Градиентный спуск"
   ]
  },
  {
   "cell_type": "markdown",
   "metadata": {
    "id": "uMEQJuNGlEE4"
   },
   "source": [
    "Имеем 1000 объектов и 10 признаков у каждого (+таргет)!\n",
    "\n",
    "Обучим модель линейной регрессии:\n",
    "\n",
    "$$\n",
    "a(x) = \\beta_1 d_{1} + \\beta_2 d_{2} + \\beta_3 d_{3} + \\beta_4 d_{4} + \\beta_5 d_{5} + \\beta_6 d_{6} + \\beta_7 d_{7} + \\beta_8 d_{8} + \\beta_9 d_{9} + \\beta_{10} d_{10} + \\beta_0\n",
    "$$\n",
    "\n",
    "Которая минимизирует MSE:\n",
    "\n",
    "$$\n",
    "Q(a(X), Y) = \\sum_i^{1000} (a(x_i) - y_i)^2\n",
    "$$"
   ]
  },
  {
   "cell_type": "code",
   "execution_count": 85,
   "metadata": {
    "id": "e3VciAFDlDRW"
   },
   "outputs": [
    {
     "data": {
      "text/html": [
       "<div>\n",
       "<style scoped>\n",
       "    .dataframe tbody tr th:only-of-type {\n",
       "        vertical-align: middle;\n",
       "    }\n",
       "\n",
       "    .dataframe tbody tr th {\n",
       "        vertical-align: top;\n",
       "    }\n",
       "\n",
       "    .dataframe thead th {\n",
       "        text-align: right;\n",
       "    }\n",
       "</style>\n",
       "<table border=\"1\" class=\"dataframe\">\n",
       "  <thead>\n",
       "    <tr style=\"text-align: right;\">\n",
       "      <th></th>\n",
       "      <th>feature_1</th>\n",
       "      <th>feature_2</th>\n",
       "      <th>feature_3</th>\n",
       "      <th>feature_4</th>\n",
       "      <th>feature_5</th>\n",
       "      <th>feature_6</th>\n",
       "      <th>feature_7</th>\n",
       "      <th>feature_8</th>\n",
       "      <th>feature_9</th>\n",
       "      <th>feature_10</th>\n",
       "      <th>target</th>\n",
       "    </tr>\n",
       "  </thead>\n",
       "  <tbody>\n",
       "    <tr>\n",
       "      <th>0</th>\n",
       "      <td>0.113768</td>\n",
       "      <td>0.930064</td>\n",
       "      <td>0.330528</td>\n",
       "      <td>0.010987</td>\n",
       "      <td>0.265703</td>\n",
       "      <td>0.699462</td>\n",
       "      <td>0.058465</td>\n",
       "      <td>0.431643</td>\n",
       "      <td>0.650958</td>\n",
       "      <td>0.751820</td>\n",
       "      <td>30.147094</td>\n",
       "    </tr>\n",
       "    <tr>\n",
       "      <th>1</th>\n",
       "      <td>0.380048</td>\n",
       "      <td>0.485946</td>\n",
       "      <td>0.870232</td>\n",
       "      <td>0.473401</td>\n",
       "      <td>0.454516</td>\n",
       "      <td>0.500864</td>\n",
       "      <td>0.471723</td>\n",
       "      <td>0.234329</td>\n",
       "      <td>0.072982</td>\n",
       "      <td>0.008372</td>\n",
       "      <td>21.424402</td>\n",
       "    </tr>\n",
       "    <tr>\n",
       "      <th>2</th>\n",
       "      <td>0.768462</td>\n",
       "      <td>0.217706</td>\n",
       "      <td>0.727438</td>\n",
       "      <td>0.718377</td>\n",
       "      <td>0.452155</td>\n",
       "      <td>0.434638</td>\n",
       "      <td>0.043989</td>\n",
       "      <td>0.972489</td>\n",
       "      <td>0.450133</td>\n",
       "      <td>0.378157</td>\n",
       "      <td>31.422056</td>\n",
       "    </tr>\n",
       "    <tr>\n",
       "      <th>3</th>\n",
       "      <td>0.606637</td>\n",
       "      <td>0.604335</td>\n",
       "      <td>0.540332</td>\n",
       "      <td>0.491236</td>\n",
       "      <td>0.325632</td>\n",
       "      <td>0.206348</td>\n",
       "      <td>0.825767</td>\n",
       "      <td>0.332475</td>\n",
       "      <td>0.955518</td>\n",
       "      <td>0.162811</td>\n",
       "      <td>31.308588</td>\n",
       "    </tr>\n",
       "    <tr>\n",
       "      <th>4</th>\n",
       "      <td>0.119770</td>\n",
       "      <td>0.469718</td>\n",
       "      <td>0.632829</td>\n",
       "      <td>0.504207</td>\n",
       "      <td>0.238259</td>\n",
       "      <td>0.452457</td>\n",
       "      <td>0.775360</td>\n",
       "      <td>0.174262</td>\n",
       "      <td>0.117621</td>\n",
       "      <td>0.218883</td>\n",
       "      <td>23.322751</td>\n",
       "    </tr>\n",
       "  </tbody>\n",
       "</table>\n",
       "</div>"
      ],
      "text/plain": [
       "   feature_1  feature_2  feature_3  feature_4  feature_5  feature_6  \\\n",
       "0   0.113768   0.930064   0.330528   0.010987   0.265703   0.699462   \n",
       "1   0.380048   0.485946   0.870232   0.473401   0.454516   0.500864   \n",
       "2   0.768462   0.217706   0.727438   0.718377   0.452155   0.434638   \n",
       "3   0.606637   0.604335   0.540332   0.491236   0.325632   0.206348   \n",
       "4   0.119770   0.469718   0.632829   0.504207   0.238259   0.452457   \n",
       "\n",
       "   feature_7  feature_8  feature_9  feature_10     target  \n",
       "0   0.058465   0.431643   0.650958    0.751820  30.147094  \n",
       "1   0.471723   0.234329   0.072982    0.008372  21.424402  \n",
       "2   0.043989   0.972489   0.450133    0.378157  31.422056  \n",
       "3   0.825767   0.332475   0.955518    0.162811  31.308588  \n",
       "4   0.775360   0.174262   0.117621    0.218883  23.322751  "
      ]
     },
     "execution_count": 85,
     "metadata": {},
     "output_type": "execute_result"
    }
   ],
   "source": [
    "import pandas as pd\n",
    "data = pd.read_csv('https://www.dropbox.com/scl/fi/kn9ow3wg470op7svd4j4f/gd_practice_data.csv?rlkey=bods94fgcndn6vuydsm0bao7v&st=ei4otwq6&dl=1')\n",
    "\n",
    "data.head()"
   ]
  },
  {
   "cell_type": "code",
   "execution_count": 86,
   "metadata": {
    "id": "QYZ_byWOnmH-"
   },
   "outputs": [
    {
     "data": {
      "text/html": [
       "<div>\n",
       "<style scoped>\n",
       "    .dataframe tbody tr th:only-of-type {\n",
       "        vertical-align: middle;\n",
       "    }\n",
       "\n",
       "    .dataframe tbody tr th {\n",
       "        vertical-align: top;\n",
       "    }\n",
       "\n",
       "    .dataframe thead th {\n",
       "        text-align: right;\n",
       "    }\n",
       "</style>\n",
       "<table border=\"1\" class=\"dataframe\">\n",
       "  <thead>\n",
       "    <tr style=\"text-align: right;\">\n",
       "      <th></th>\n",
       "      <th>count</th>\n",
       "      <th>mean</th>\n",
       "      <th>std</th>\n",
       "      <th>min</th>\n",
       "      <th>25%</th>\n",
       "      <th>50%</th>\n",
       "      <th>75%</th>\n",
       "      <th>max</th>\n",
       "    </tr>\n",
       "  </thead>\n",
       "  <tbody>\n",
       "    <tr>\n",
       "      <th>feature_1</th>\n",
       "      <td>1000.0</td>\n",
       "      <td>0.517324</td>\n",
       "      <td>0.287517</td>\n",
       "      <td>0.000666</td>\n",
       "      <td>0.276309</td>\n",
       "      <td>0.522711</td>\n",
       "      <td>0.763972</td>\n",
       "      <td>0.999786</td>\n",
       "    </tr>\n",
       "    <tr>\n",
       "      <th>feature_2</th>\n",
       "      <td>1000.0</td>\n",
       "      <td>0.504317</td>\n",
       "      <td>0.292191</td>\n",
       "      <td>0.002137</td>\n",
       "      <td>0.239439</td>\n",
       "      <td>0.506636</td>\n",
       "      <td>0.760484</td>\n",
       "      <td>0.999431</td>\n",
       "    </tr>\n",
       "    <tr>\n",
       "      <th>feature_3</th>\n",
       "      <td>1000.0</td>\n",
       "      <td>0.474539</td>\n",
       "      <td>0.284589</td>\n",
       "      <td>0.001914</td>\n",
       "      <td>0.225862</td>\n",
       "      <td>0.469790</td>\n",
       "      <td>0.701349</td>\n",
       "      <td>0.999283</td>\n",
       "    </tr>\n",
       "    <tr>\n",
       "      <th>feature_4</th>\n",
       "      <td>1000.0</td>\n",
       "      <td>0.477866</td>\n",
       "      <td>0.288384</td>\n",
       "      <td>0.000553</td>\n",
       "      <td>0.226439</td>\n",
       "      <td>0.489351</td>\n",
       "      <td>0.709410</td>\n",
       "      <td>0.999438</td>\n",
       "    </tr>\n",
       "    <tr>\n",
       "      <th>feature_5</th>\n",
       "      <td>1000.0</td>\n",
       "      <td>0.486847</td>\n",
       "      <td>0.293399</td>\n",
       "      <td>0.000296</td>\n",
       "      <td>0.233616</td>\n",
       "      <td>0.476104</td>\n",
       "      <td>0.742801</td>\n",
       "      <td>0.999815</td>\n",
       "    </tr>\n",
       "    <tr>\n",
       "      <th>feature_6</th>\n",
       "      <td>1000.0</td>\n",
       "      <td>0.509389</td>\n",
       "      <td>0.286867</td>\n",
       "      <td>0.000385</td>\n",
       "      <td>0.272332</td>\n",
       "      <td>0.511387</td>\n",
       "      <td>0.745637</td>\n",
       "      <td>0.999629</td>\n",
       "    </tr>\n",
       "    <tr>\n",
       "      <th>feature_7</th>\n",
       "      <td>1000.0</td>\n",
       "      <td>0.495281</td>\n",
       "      <td>0.297307</td>\n",
       "      <td>0.000411</td>\n",
       "      <td>0.233966</td>\n",
       "      <td>0.496892</td>\n",
       "      <td>0.759601</td>\n",
       "      <td>0.999155</td>\n",
       "    </tr>\n",
       "    <tr>\n",
       "      <th>feature_8</th>\n",
       "      <td>1000.0</td>\n",
       "      <td>0.512353</td>\n",
       "      <td>0.291120</td>\n",
       "      <td>0.000500</td>\n",
       "      <td>0.252427</td>\n",
       "      <td>0.532131</td>\n",
       "      <td>0.767321</td>\n",
       "      <td>0.997396</td>\n",
       "    </tr>\n",
       "    <tr>\n",
       "      <th>feature_9</th>\n",
       "      <td>1000.0</td>\n",
       "      <td>0.489876</td>\n",
       "      <td>0.290901</td>\n",
       "      <td>0.000433</td>\n",
       "      <td>0.239756</td>\n",
       "      <td>0.487143</td>\n",
       "      <td>0.742749</td>\n",
       "      <td>0.999661</td>\n",
       "    </tr>\n",
       "    <tr>\n",
       "      <th>feature_10</th>\n",
       "      <td>1000.0</td>\n",
       "      <td>0.493783</td>\n",
       "      <td>0.288601</td>\n",
       "      <td>0.000029</td>\n",
       "      <td>0.248617</td>\n",
       "      <td>0.489517</td>\n",
       "      <td>0.736359</td>\n",
       "      <td>0.998055</td>\n",
       "    </tr>\n",
       "    <tr>\n",
       "      <th>target</th>\n",
       "      <td>1000.0</td>\n",
       "      <td>31.637275</td>\n",
       "      <td>5.622988</td>\n",
       "      <td>14.259712</td>\n",
       "      <td>27.580542</td>\n",
       "      <td>31.695601</td>\n",
       "      <td>35.703913</td>\n",
       "      <td>46.371807</td>\n",
       "    </tr>\n",
       "  </tbody>\n",
       "</table>\n",
       "</div>"
      ],
      "text/plain": [
       "             count       mean       std        min        25%        50%  \\\n",
       "feature_1   1000.0   0.517324  0.287517   0.000666   0.276309   0.522711   \n",
       "feature_2   1000.0   0.504317  0.292191   0.002137   0.239439   0.506636   \n",
       "feature_3   1000.0   0.474539  0.284589   0.001914   0.225862   0.469790   \n",
       "feature_4   1000.0   0.477866  0.288384   0.000553   0.226439   0.489351   \n",
       "feature_5   1000.0   0.486847  0.293399   0.000296   0.233616   0.476104   \n",
       "feature_6   1000.0   0.509389  0.286867   0.000385   0.272332   0.511387   \n",
       "feature_7   1000.0   0.495281  0.297307   0.000411   0.233966   0.496892   \n",
       "feature_8   1000.0   0.512353  0.291120   0.000500   0.252427   0.532131   \n",
       "feature_9   1000.0   0.489876  0.290901   0.000433   0.239756   0.487143   \n",
       "feature_10  1000.0   0.493783  0.288601   0.000029   0.248617   0.489517   \n",
       "target      1000.0  31.637275  5.622988  14.259712  27.580542  31.695601   \n",
       "\n",
       "                  75%        max  \n",
       "feature_1    0.763972   0.999786  \n",
       "feature_2    0.760484   0.999431  \n",
       "feature_3    0.701349   0.999283  \n",
       "feature_4    0.709410   0.999438  \n",
       "feature_5    0.742801   0.999815  \n",
       "feature_6    0.745637   0.999629  \n",
       "feature_7    0.759601   0.999155  \n",
       "feature_8    0.767321   0.997396  \n",
       "feature_9    0.742749   0.999661  \n",
       "feature_10   0.736359   0.998055  \n",
       "target      35.703913  46.371807  "
      ]
     },
     "execution_count": 86,
     "metadata": {},
     "output_type": "execute_result"
    }
   ],
   "source": [
    "data.describe().T # выводим описательные статистики"
   ]
  },
  {
   "cell_type": "markdown",
   "metadata": {
    "id": "dTYtTrfTnpxd"
   },
   "source": [
    "Обучим коэффициенты линейной регрессии с помощью библиотеки <a href=\"https://scikit-learn.org/stable/modules/generated/sklearn.linear_model.LinearRegression.html\"> **sklearn** </a>\n",
    "\n",
    "Отдельно выведем оценку свободного коэффициента  ($\\beta_0$ при $d_0 = 1$)"
   ]
  },
  {
   "cell_type": "code",
   "execution_count": 87,
   "metadata": {
    "id": "zs7ER3K3noy_"
   },
   "outputs": [
    {
     "data": {
      "text/html": [
       "<style>#sk-container-id-4 {\n",
       "  /* Definition of color scheme common for light and dark mode */\n",
       "  --sklearn-color-text: #000;\n",
       "  --sklearn-color-text-muted: #666;\n",
       "  --sklearn-color-line: gray;\n",
       "  /* Definition of color scheme for unfitted estimators */\n",
       "  --sklearn-color-unfitted-level-0: #fff5e6;\n",
       "  --sklearn-color-unfitted-level-1: #f6e4d2;\n",
       "  --sklearn-color-unfitted-level-2: #ffe0b3;\n",
       "  --sklearn-color-unfitted-level-3: chocolate;\n",
       "  /* Definition of color scheme for fitted estimators */\n",
       "  --sklearn-color-fitted-level-0: #f0f8ff;\n",
       "  --sklearn-color-fitted-level-1: #d4ebff;\n",
       "  --sklearn-color-fitted-level-2: #b3dbfd;\n",
       "  --sklearn-color-fitted-level-3: cornflowerblue;\n",
       "\n",
       "  /* Specific color for light theme */\n",
       "  --sklearn-color-text-on-default-background: var(--sg-text-color, var(--theme-code-foreground, var(--jp-content-font-color1, black)));\n",
       "  --sklearn-color-background: var(--sg-background-color, var(--theme-background, var(--jp-layout-color0, white)));\n",
       "  --sklearn-color-border-box: var(--sg-text-color, var(--theme-code-foreground, var(--jp-content-font-color1, black)));\n",
       "  --sklearn-color-icon: #696969;\n",
       "\n",
       "  @media (prefers-color-scheme: dark) {\n",
       "    /* Redefinition of color scheme for dark theme */\n",
       "    --sklearn-color-text-on-default-background: var(--sg-text-color, var(--theme-code-foreground, var(--jp-content-font-color1, white)));\n",
       "    --sklearn-color-background: var(--sg-background-color, var(--theme-background, var(--jp-layout-color0, #111)));\n",
       "    --sklearn-color-border-box: var(--sg-text-color, var(--theme-code-foreground, var(--jp-content-font-color1, white)));\n",
       "    --sklearn-color-icon: #878787;\n",
       "  }\n",
       "}\n",
       "\n",
       "#sk-container-id-4 {\n",
       "  color: var(--sklearn-color-text);\n",
       "}\n",
       "\n",
       "#sk-container-id-4 pre {\n",
       "  padding: 0;\n",
       "}\n",
       "\n",
       "#sk-container-id-4 input.sk-hidden--visually {\n",
       "  border: 0;\n",
       "  clip: rect(1px 1px 1px 1px);\n",
       "  clip: rect(1px, 1px, 1px, 1px);\n",
       "  height: 1px;\n",
       "  margin: -1px;\n",
       "  overflow: hidden;\n",
       "  padding: 0;\n",
       "  position: absolute;\n",
       "  width: 1px;\n",
       "}\n",
       "\n",
       "#sk-container-id-4 div.sk-dashed-wrapped {\n",
       "  border: 1px dashed var(--sklearn-color-line);\n",
       "  margin: 0 0.4em 0.5em 0.4em;\n",
       "  box-sizing: border-box;\n",
       "  padding-bottom: 0.4em;\n",
       "  background-color: var(--sklearn-color-background);\n",
       "}\n",
       "\n",
       "#sk-container-id-4 div.sk-container {\n",
       "  /* jupyter's `normalize.less` sets `[hidden] { display: none; }`\n",
       "     but bootstrap.min.css set `[hidden] { display: none !important; }`\n",
       "     so we also need the `!important` here to be able to override the\n",
       "     default hidden behavior on the sphinx rendered scikit-learn.org.\n",
       "     See: https://github.com/scikit-learn/scikit-learn/issues/21755 */\n",
       "  display: inline-block !important;\n",
       "  position: relative;\n",
       "}\n",
       "\n",
       "#sk-container-id-4 div.sk-text-repr-fallback {\n",
       "  display: none;\n",
       "}\n",
       "\n",
       "div.sk-parallel-item,\n",
       "div.sk-serial,\n",
       "div.sk-item {\n",
       "  /* draw centered vertical line to link estimators */\n",
       "  background-image: linear-gradient(var(--sklearn-color-text-on-default-background), var(--sklearn-color-text-on-default-background));\n",
       "  background-size: 2px 100%;\n",
       "  background-repeat: no-repeat;\n",
       "  background-position: center center;\n",
       "}\n",
       "\n",
       "/* Parallel-specific style estimator block */\n",
       "\n",
       "#sk-container-id-4 div.sk-parallel-item::after {\n",
       "  content: \"\";\n",
       "  width: 100%;\n",
       "  border-bottom: 2px solid var(--sklearn-color-text-on-default-background);\n",
       "  flex-grow: 1;\n",
       "}\n",
       "\n",
       "#sk-container-id-4 div.sk-parallel {\n",
       "  display: flex;\n",
       "  align-items: stretch;\n",
       "  justify-content: center;\n",
       "  background-color: var(--sklearn-color-background);\n",
       "  position: relative;\n",
       "}\n",
       "\n",
       "#sk-container-id-4 div.sk-parallel-item {\n",
       "  display: flex;\n",
       "  flex-direction: column;\n",
       "}\n",
       "\n",
       "#sk-container-id-4 div.sk-parallel-item:first-child::after {\n",
       "  align-self: flex-end;\n",
       "  width: 50%;\n",
       "}\n",
       "\n",
       "#sk-container-id-4 div.sk-parallel-item:last-child::after {\n",
       "  align-self: flex-start;\n",
       "  width: 50%;\n",
       "}\n",
       "\n",
       "#sk-container-id-4 div.sk-parallel-item:only-child::after {\n",
       "  width: 0;\n",
       "}\n",
       "\n",
       "/* Serial-specific style estimator block */\n",
       "\n",
       "#sk-container-id-4 div.sk-serial {\n",
       "  display: flex;\n",
       "  flex-direction: column;\n",
       "  align-items: center;\n",
       "  background-color: var(--sklearn-color-background);\n",
       "  padding-right: 1em;\n",
       "  padding-left: 1em;\n",
       "}\n",
       "\n",
       "\n",
       "/* Toggleable style: style used for estimator/Pipeline/ColumnTransformer box that is\n",
       "clickable and can be expanded/collapsed.\n",
       "- Pipeline and ColumnTransformer use this feature and define the default style\n",
       "- Estimators will overwrite some part of the style using the `sk-estimator` class\n",
       "*/\n",
       "\n",
       "/* Pipeline and ColumnTransformer style (default) */\n",
       "\n",
       "#sk-container-id-4 div.sk-toggleable {\n",
       "  /* Default theme specific background. It is overwritten whether we have a\n",
       "  specific estimator or a Pipeline/ColumnTransformer */\n",
       "  background-color: var(--sklearn-color-background);\n",
       "}\n",
       "\n",
       "/* Toggleable label */\n",
       "#sk-container-id-4 label.sk-toggleable__label {\n",
       "  cursor: pointer;\n",
       "  display: flex;\n",
       "  width: 100%;\n",
       "  margin-bottom: 0;\n",
       "  padding: 0.5em;\n",
       "  box-sizing: border-box;\n",
       "  text-align: center;\n",
       "  align-items: start;\n",
       "  justify-content: space-between;\n",
       "  gap: 0.5em;\n",
       "}\n",
       "\n",
       "#sk-container-id-4 label.sk-toggleable__label .caption {\n",
       "  font-size: 0.6rem;\n",
       "  font-weight: lighter;\n",
       "  color: var(--sklearn-color-text-muted);\n",
       "}\n",
       "\n",
       "#sk-container-id-4 label.sk-toggleable__label-arrow:before {\n",
       "  /* Arrow on the left of the label */\n",
       "  content: \"▸\";\n",
       "  float: left;\n",
       "  margin-right: 0.25em;\n",
       "  color: var(--sklearn-color-icon);\n",
       "}\n",
       "\n",
       "#sk-container-id-4 label.sk-toggleable__label-arrow:hover:before {\n",
       "  color: var(--sklearn-color-text);\n",
       "}\n",
       "\n",
       "/* Toggleable content - dropdown */\n",
       "\n",
       "#sk-container-id-4 div.sk-toggleable__content {\n",
       "  max-height: 0;\n",
       "  max-width: 0;\n",
       "  overflow: hidden;\n",
       "  text-align: left;\n",
       "  /* unfitted */\n",
       "  background-color: var(--sklearn-color-unfitted-level-0);\n",
       "}\n",
       "\n",
       "#sk-container-id-4 div.sk-toggleable__content.fitted {\n",
       "  /* fitted */\n",
       "  background-color: var(--sklearn-color-fitted-level-0);\n",
       "}\n",
       "\n",
       "#sk-container-id-4 div.sk-toggleable__content pre {\n",
       "  margin: 0.2em;\n",
       "  border-radius: 0.25em;\n",
       "  color: var(--sklearn-color-text);\n",
       "  /* unfitted */\n",
       "  background-color: var(--sklearn-color-unfitted-level-0);\n",
       "}\n",
       "\n",
       "#sk-container-id-4 div.sk-toggleable__content.fitted pre {\n",
       "  /* unfitted */\n",
       "  background-color: var(--sklearn-color-fitted-level-0);\n",
       "}\n",
       "\n",
       "#sk-container-id-4 input.sk-toggleable__control:checked~div.sk-toggleable__content {\n",
       "  /* Expand drop-down */\n",
       "  max-height: 200px;\n",
       "  max-width: 100%;\n",
       "  overflow: auto;\n",
       "}\n",
       "\n",
       "#sk-container-id-4 input.sk-toggleable__control:checked~label.sk-toggleable__label-arrow:before {\n",
       "  content: \"▾\";\n",
       "}\n",
       "\n",
       "/* Pipeline/ColumnTransformer-specific style */\n",
       "\n",
       "#sk-container-id-4 div.sk-label input.sk-toggleable__control:checked~label.sk-toggleable__label {\n",
       "  color: var(--sklearn-color-text);\n",
       "  background-color: var(--sklearn-color-unfitted-level-2);\n",
       "}\n",
       "\n",
       "#sk-container-id-4 div.sk-label.fitted input.sk-toggleable__control:checked~label.sk-toggleable__label {\n",
       "  background-color: var(--sklearn-color-fitted-level-2);\n",
       "}\n",
       "\n",
       "/* Estimator-specific style */\n",
       "\n",
       "/* Colorize estimator box */\n",
       "#sk-container-id-4 div.sk-estimator input.sk-toggleable__control:checked~label.sk-toggleable__label {\n",
       "  /* unfitted */\n",
       "  background-color: var(--sklearn-color-unfitted-level-2);\n",
       "}\n",
       "\n",
       "#sk-container-id-4 div.sk-estimator.fitted input.sk-toggleable__control:checked~label.sk-toggleable__label {\n",
       "  /* fitted */\n",
       "  background-color: var(--sklearn-color-fitted-level-2);\n",
       "}\n",
       "\n",
       "#sk-container-id-4 div.sk-label label.sk-toggleable__label,\n",
       "#sk-container-id-4 div.sk-label label {\n",
       "  /* The background is the default theme color */\n",
       "  color: var(--sklearn-color-text-on-default-background);\n",
       "}\n",
       "\n",
       "/* On hover, darken the color of the background */\n",
       "#sk-container-id-4 div.sk-label:hover label.sk-toggleable__label {\n",
       "  color: var(--sklearn-color-text);\n",
       "  background-color: var(--sklearn-color-unfitted-level-2);\n",
       "}\n",
       "\n",
       "/* Label box, darken color on hover, fitted */\n",
       "#sk-container-id-4 div.sk-label.fitted:hover label.sk-toggleable__label.fitted {\n",
       "  color: var(--sklearn-color-text);\n",
       "  background-color: var(--sklearn-color-fitted-level-2);\n",
       "}\n",
       "\n",
       "/* Estimator label */\n",
       "\n",
       "#sk-container-id-4 div.sk-label label {\n",
       "  font-family: monospace;\n",
       "  font-weight: bold;\n",
       "  display: inline-block;\n",
       "  line-height: 1.2em;\n",
       "}\n",
       "\n",
       "#sk-container-id-4 div.sk-label-container {\n",
       "  text-align: center;\n",
       "}\n",
       "\n",
       "/* Estimator-specific */\n",
       "#sk-container-id-4 div.sk-estimator {\n",
       "  font-family: monospace;\n",
       "  border: 1px dotted var(--sklearn-color-border-box);\n",
       "  border-radius: 0.25em;\n",
       "  box-sizing: border-box;\n",
       "  margin-bottom: 0.5em;\n",
       "  /* unfitted */\n",
       "  background-color: var(--sklearn-color-unfitted-level-0);\n",
       "}\n",
       "\n",
       "#sk-container-id-4 div.sk-estimator.fitted {\n",
       "  /* fitted */\n",
       "  background-color: var(--sklearn-color-fitted-level-0);\n",
       "}\n",
       "\n",
       "/* on hover */\n",
       "#sk-container-id-4 div.sk-estimator:hover {\n",
       "  /* unfitted */\n",
       "  background-color: var(--sklearn-color-unfitted-level-2);\n",
       "}\n",
       "\n",
       "#sk-container-id-4 div.sk-estimator.fitted:hover {\n",
       "  /* fitted */\n",
       "  background-color: var(--sklearn-color-fitted-level-2);\n",
       "}\n",
       "\n",
       "/* Specification for estimator info (e.g. \"i\" and \"?\") */\n",
       "\n",
       "/* Common style for \"i\" and \"?\" */\n",
       "\n",
       ".sk-estimator-doc-link,\n",
       "a:link.sk-estimator-doc-link,\n",
       "a:visited.sk-estimator-doc-link {\n",
       "  float: right;\n",
       "  font-size: smaller;\n",
       "  line-height: 1em;\n",
       "  font-family: monospace;\n",
       "  background-color: var(--sklearn-color-background);\n",
       "  border-radius: 1em;\n",
       "  height: 1em;\n",
       "  width: 1em;\n",
       "  text-decoration: none !important;\n",
       "  margin-left: 0.5em;\n",
       "  text-align: center;\n",
       "  /* unfitted */\n",
       "  border: var(--sklearn-color-unfitted-level-1) 1pt solid;\n",
       "  color: var(--sklearn-color-unfitted-level-1);\n",
       "}\n",
       "\n",
       ".sk-estimator-doc-link.fitted,\n",
       "a:link.sk-estimator-doc-link.fitted,\n",
       "a:visited.sk-estimator-doc-link.fitted {\n",
       "  /* fitted */\n",
       "  border: var(--sklearn-color-fitted-level-1) 1pt solid;\n",
       "  color: var(--sklearn-color-fitted-level-1);\n",
       "}\n",
       "\n",
       "/* On hover */\n",
       "div.sk-estimator:hover .sk-estimator-doc-link:hover,\n",
       ".sk-estimator-doc-link:hover,\n",
       "div.sk-label-container:hover .sk-estimator-doc-link:hover,\n",
       ".sk-estimator-doc-link:hover {\n",
       "  /* unfitted */\n",
       "  background-color: var(--sklearn-color-unfitted-level-3);\n",
       "  color: var(--sklearn-color-background);\n",
       "  text-decoration: none;\n",
       "}\n",
       "\n",
       "div.sk-estimator.fitted:hover .sk-estimator-doc-link.fitted:hover,\n",
       ".sk-estimator-doc-link.fitted:hover,\n",
       "div.sk-label-container:hover .sk-estimator-doc-link.fitted:hover,\n",
       ".sk-estimator-doc-link.fitted:hover {\n",
       "  /* fitted */\n",
       "  background-color: var(--sklearn-color-fitted-level-3);\n",
       "  color: var(--sklearn-color-background);\n",
       "  text-decoration: none;\n",
       "}\n",
       "\n",
       "/* Span, style for the box shown on hovering the info icon */\n",
       ".sk-estimator-doc-link span {\n",
       "  display: none;\n",
       "  z-index: 9999;\n",
       "  position: relative;\n",
       "  font-weight: normal;\n",
       "  right: .2ex;\n",
       "  padding: .5ex;\n",
       "  margin: .5ex;\n",
       "  width: min-content;\n",
       "  min-width: 20ex;\n",
       "  max-width: 50ex;\n",
       "  color: var(--sklearn-color-text);\n",
       "  box-shadow: 2pt 2pt 4pt #999;\n",
       "  /* unfitted */\n",
       "  background: var(--sklearn-color-unfitted-level-0);\n",
       "  border: .5pt solid var(--sklearn-color-unfitted-level-3);\n",
       "}\n",
       "\n",
       ".sk-estimator-doc-link.fitted span {\n",
       "  /* fitted */\n",
       "  background: var(--sklearn-color-fitted-level-0);\n",
       "  border: var(--sklearn-color-fitted-level-3);\n",
       "}\n",
       "\n",
       ".sk-estimator-doc-link:hover span {\n",
       "  display: block;\n",
       "}\n",
       "\n",
       "/* \"?\"-specific style due to the `<a>` HTML tag */\n",
       "\n",
       "#sk-container-id-4 a.estimator_doc_link {\n",
       "  float: right;\n",
       "  font-size: 1rem;\n",
       "  line-height: 1em;\n",
       "  font-family: monospace;\n",
       "  background-color: var(--sklearn-color-background);\n",
       "  border-radius: 1rem;\n",
       "  height: 1rem;\n",
       "  width: 1rem;\n",
       "  text-decoration: none;\n",
       "  /* unfitted */\n",
       "  color: var(--sklearn-color-unfitted-level-1);\n",
       "  border: var(--sklearn-color-unfitted-level-1) 1pt solid;\n",
       "}\n",
       "\n",
       "#sk-container-id-4 a.estimator_doc_link.fitted {\n",
       "  /* fitted */\n",
       "  border: var(--sklearn-color-fitted-level-1) 1pt solid;\n",
       "  color: var(--sklearn-color-fitted-level-1);\n",
       "}\n",
       "\n",
       "/* On hover */\n",
       "#sk-container-id-4 a.estimator_doc_link:hover {\n",
       "  /* unfitted */\n",
       "  background-color: var(--sklearn-color-unfitted-level-3);\n",
       "  color: var(--sklearn-color-background);\n",
       "  text-decoration: none;\n",
       "}\n",
       "\n",
       "#sk-container-id-4 a.estimator_doc_link.fitted:hover {\n",
       "  /* fitted */\n",
       "  background-color: var(--sklearn-color-fitted-level-3);\n",
       "}\n",
       "</style><div id=\"sk-container-id-4\" class=\"sk-top-container\"><div class=\"sk-text-repr-fallback\"><pre>LinearRegression()</pre><b>In a Jupyter environment, please rerun this cell to show the HTML representation or trust the notebook. <br />On GitHub, the HTML representation is unable to render, please try loading this page with nbviewer.org.</b></div><div class=\"sk-container\" hidden><div class=\"sk-item\"><div class=\"sk-estimator fitted sk-toggleable\"><input class=\"sk-toggleable__control sk-hidden--visually\" id=\"sk-estimator-id-4\" type=\"checkbox\" checked><label for=\"sk-estimator-id-4\" class=\"sk-toggleable__label fitted sk-toggleable__label-arrow\"><div><div>LinearRegression</div></div><div><a class=\"sk-estimator-doc-link fitted\" rel=\"noreferrer\" target=\"_blank\" href=\"https://scikit-learn.org/1.6/modules/generated/sklearn.linear_model.LinearRegression.html\">?<span>Documentation for LinearRegression</span></a><span class=\"sk-estimator-doc-link fitted\">i<span>Fitted</span></span></div></label><div class=\"sk-toggleable__content fitted\"><pre>LinearRegression()</pre></div> </div></div></div></div>"
      ],
      "text/plain": [
       "LinearRegression()"
      ]
     },
     "execution_count": 87,
     "metadata": {},
     "output_type": "execute_result"
    }
   ],
   "source": [
    "from sklearn.linear_model import LinearRegression\n",
    "X = data.drop('target', axis=1)\n",
    "Y = data.target\n",
    "\n",
    "model = LinearRegression()\n",
    "model.fit(X, Y)"
   ]
  },
  {
   "cell_type": "code",
   "execution_count": 88,
   "metadata": {},
   "outputs": [
    {
     "name": "stdout",
     "output_type": "stream",
     "text": [
      "   feature_1  feature_2  feature_3  feature_4  feature_5  feature_6  \\\n",
      "0   0.113768   0.930064   0.330528   0.010987   0.265703   0.699462   \n",
      "1   0.380048   0.485946   0.870232   0.473401   0.454516   0.500864   \n",
      "2   0.768462   0.217706   0.727438   0.718377   0.452155   0.434638   \n",
      "3   0.606637   0.604335   0.540332   0.491236   0.325632   0.206348   \n",
      "4   0.119770   0.469718   0.632829   0.504207   0.238259   0.452457   \n",
      "\n",
      "   feature_7  feature_8  feature_9  feature_10  \n",
      "0   0.058465   0.431643   0.650958    0.751820  \n",
      "1   0.471723   0.234329   0.072982    0.008372  \n",
      "2   0.043989   0.972489   0.450133    0.378157  \n",
      "3   0.825767   0.332475   0.955518    0.162811  \n",
      "4   0.775360   0.174262   0.117621    0.218883  \n",
      "\n",
      "\n",
      "0    30.147094\n",
      "1    21.424402\n",
      "2    31.422056\n",
      "3    31.308588\n",
      "4    23.322751\n",
      "Name: target, dtype: float64\n"
     ]
    }
   ],
   "source": [
    "print(X.head())\n",
    "print(\"\\n\")\n",
    "print(Y.head())"
   ]
  },
  {
   "cell_type": "markdown",
   "metadata": {
    "id": "1TzBwZaMoKds"
   },
   "source": [
    "Посмотрим на веса модели:"
   ]
  },
  {
   "cell_type": "code",
   "execution_count": 89,
   "metadata": {
    "id": "39E82x8_n1g8"
   },
   "outputs": [
    {
     "data": {
      "text/plain": [
       "array([ 1.,  2.,  3.,  4.,  5.,  6.,  7.,  8.,  9., 10.])"
      ]
     },
     "execution_count": 89,
     "metadata": {},
     "output_type": "execute_result"
    }
   ],
   "source": [
    "model.coef_"
   ]
  },
  {
   "cell_type": "code",
   "execution_count": 90,
   "metadata": {
    "id": "PVblorU_n3Qv"
   },
   "outputs": [
    {
     "data": {
      "text/plain": [
       "np.float64(4.37315703870712)"
      ]
     },
     "execution_count": 90,
     "metadata": {},
     "output_type": "execute_result"
    }
   ],
   "source": [
    "model.intercept_"
   ]
  },
  {
   "cell_type": "markdown",
   "metadata": {
    "id": "stEBZhnRoA_5"
   },
   "source": [
    "Теперь вам необходимо реализовать функции для оптимизации коэффициентов линейной регрессии МНК.\n",
    "Подразумевается, что на вход алгоритм будет принимать следующие параметры:\n",
    "\n",
    "- 2 pandas датафрейма **samples** и **targets**, содержащих матрицу объектов и ветор ответов соответственно\n",
    "- значение **learning rate**, который корректирует длину вектора-градиента (чтобы он не взорвался)\n",
    "- значение **threshold**'а для критерия останова (когда мы считаем, что мы сошлись к оптимуму)\n",
    "- значение **max_iter**, ограничивающее количество итераций градиентного спуска\n",
    "\n",
    "Ниже есть следующие заготовки функций, которые надо дополнить:\n",
    "\n",
    "- **add_constant_feature**: добавляет колонку с названием *constant* из единичек к переданному датафрейму **samples**. Это позволяет оценить свободный коэффициент $\\beta_0$.\n",
    "\n",
    "- **calculate_mse_loss**: вычисляет при текущих весах **self.beta** значение среднеквадратической ошибки.\n",
    "\n",
    "- **calculate_gradient**: вычисляет при текущих весах вектор-градиент по функционалу.\n",
    "\n",
    "- **iteration**: производит итерацию градиентного спуска, то есть обновляет веса модели, в соответствии с установленным **learning_rate = $\\eta$**: $\\beta^{(n+1)} = \\beta^{(n)} - \\eta \\cdot \\nabla Q(\\beta^{(n)})$\n",
    "\n",
    "- **learn**: производит итерации обучения до того момента, пока не сработает критерий останова обучения. В этот раз критерием останова будет следующее событие: во время крайней итерации изменение в функционале качества модели составило значение меньшее, чем **self.threshold**. Иными словами, $|Q(\\beta^{(n)}) - Q(\\beta^{(n+1)})| < threshold$."
   ]
  },
  {
   "cell_type": "markdown",
   "metadata": {
    "id": "i1RqHVKkoLok"
   },
   "source": [
    "### Hint: пример вычисления производной"
   ]
  },
  {
   "cell_type": "markdown",
   "metadata": {
    "id": "wS3LUn83oNYt"
   },
   "source": [
    "$$\n",
    "Q(a, X) = \\frac{1}{N}\\cdot\\sum_{i=1}^N (\\beta_1 \\cdot d_{i1} + ... + \\beta_n \\cdot d_{in} - y_i)^2\n",
    "$$\n",
    "\n",
    "Выше - минимизируемая функция. Она зависит от n переменных: $\\beta_1, ..., \\beta_n$. Вектор-градиент - матрица с одной строчкой, состоящей из производных 1го порядка по всем переменным.\n",
    "\n",
    "$$\n",
    "\\nabla Q(a, X) = (Q'_{\\beta_1} \\;\\;\\; Q'_{\\beta_2} \\;\\;\\; ... \\;\\;\\; Q'_{\\beta_{n-1}}  \\;\\;\\;  Q'_{\\beta_n})\n",
    "$$\n",
    "\n",
    "Пример вычисления производной по первой переменной:\n",
    "\n",
    "$$\n",
    "Q'_{\\beta_1} = \\frac{2}{N} \\cdot \\sum_{i=1}^N d_{i1} (\\beta_1 \\cdot d_{i1} + ... + \\beta_{n} \\cdot d_{in} - y_i)\n",
    "$$\n",
    "\n",
    "Скажем, для нашего датасета X, Y вычислим эту саму производную при начальных единичных коэффициентах $\\beta_{start} = (1 \\;\\;\\; 1 \\;\\;\\; ...)$\n",
    "\n",
    "\n",
    "\n",
    "Получим для каждого объекта в начале выражение из скобочек:\n",
    "$$\n",
    "\\beta_1 \\cdot d_{i1} + ... + \\beta_{n} \\cdot d_{in} - y_i\n",
    "$$"
   ]
  },
  {
   "cell_type": "code",
   "execution_count": 91,
   "metadata": {
    "id": "mGRysm7zoQCK"
   },
   "outputs": [],
   "source": [
    "### Инициализируем точку для коэффициентов в виде вектора из единичек\n",
    "initial_betas = np.ones(X.shape[1])\n",
    "\n",
    "### Получим выражение выше для каждого объекта.\n",
    "### Для этого скалярно перемножим строчки из X на наши beta\n",
    "\n",
    "scalar_value = np.dot(X, initial_betas.reshape(-1, 1)).ravel()\n",
    "scalar_value = (scalar_value - Y).values"
   ]
  },
  {
   "cell_type": "markdown",
   "metadata": {
    "id": "lr2ZpGO8oVv3"
   },
   "source": [
    "Теперь полученное значение для каждого объекта умножим на соответствующее значение признака $d_1$:\n",
    "\n",
    "$$\n",
    "d_{i1} \\cdot (\\beta_1 \\cdot d_{i1} + ... + \\beta_{n} \\cdot d_{in} - y_i)\n",
    "$$"
   ]
  },
  {
   "cell_type": "code",
   "execution_count": 92,
   "metadata": {
    "id": "h3vhALWKoYHq"
   },
   "outputs": [],
   "source": [
    "### Возьмем столбик со значениями 1 признака\n",
    "\n",
    "d_i1 = X.values[:, 0]\n",
    "\n",
    "### Умножим каждый объект на соответствующее значение признака\n",
    "scalar_value = scalar_value * d_i1"
   ]
  },
  {
   "cell_type": "code",
   "execution_count": 93,
   "metadata": {
    "id": "p_vKzsehokpF"
   },
   "outputs": [
    {
     "data": {
      "text/plain": [
       "np.float64(-27.62384887912409)"
      ]
     },
     "execution_count": 93,
     "metadata": {},
     "output_type": "execute_result"
    }
   ],
   "source": [
    "### Наконец, умножим все на 2 и усреднимся,\n",
    "### чтобы получить значение производной по первому параметру\n",
    "\n",
    "2 * np.mean(scalar_value)"
   ]
  },
  {
   "cell_type": "markdown",
   "metadata": {
    "id": "uAccsgScoouh"
   },
   "source": [
    "### Эта логика поможем Вам при реализации!"
   ]
  },
  {
   "cell_type": "code",
   "execution_count": null,
   "metadata": {},
   "outputs": [],
   "source": [
    "### FOR DEBUG ONLY ###\n",
    "# код только для отладки\n",
    "# перед чистовым запуском надо начать и импорта и загрузки данных\n",
    "# иначе будет ошибка"
   ]
  },
  {
   "cell_type": "markdown",
   "metadata": {
    "id": "Qw-QycT1u0So"
   },
   "source": [
    "Также старайтесь избегать циклов там, где они не нужны. Не забыли же, что циклы медленные в питоне? :)"
   ]
  },
  {
   "cell_type": "code",
   "execution_count": 95,
   "metadata": {},
   "outputs": [],
   "source": [
    "# вычисляет при текущих весах self.beta значение среднеквадратической ошибки.\n",
    "def calculate_mse_loss(beta: np.ndarray, samples: np.ndarray, targets: np.ndarray) -> float:\n",
    "    \"\"\"\n",
    "    Метод для расчета среднеквадратической ошибки.\n",
    "\n",
    "    :return: среднеквадратическая ошибка при текущих весах модели : float\n",
    "    \"\"\"\n",
    "    \n",
    "    # Предсказанные значения: X * beta\n",
    "    predictions = np.dot(samples, beta)\n",
    "    \n",
    "    # Вычисление разницы между предсказанными и фактическими значениями: X*beta - y\n",
    "    diff = predictions - targets\n",
    "    \n",
    "    # Вычисление MSE как среднее квадратов разницы между прогнозными и фактическими значениями\n",
    "    return np.mean(diff ** 2)"
   ]
  },
  {
   "cell_type": "code",
   "execution_count": 69,
   "metadata": {},
   "outputs": [
    {
     "name": "stdout",
     "output_type": "stream",
     "text": [
      "loss: 735.0202563905294\n"
     ]
    }
   ],
   "source": [
    "### FOR DEBUG ONLY ###\n",
    "# samples = X\n",
    "# targets = Y\n",
    "# beta = np.ones(samples.shape[1])\n",
    "\n",
    "# loss = calculate_mse_loss(beta, samples, targets)\n",
    "# print(\"loss:\", loss)"
   ]
  },
  {
   "cell_type": "code",
   "execution_count": 96,
   "metadata": {},
   "outputs": [],
   "source": [
    "# добавляет колонку с названием constant из единичек к переданному датафрейму samples. Это позволяет оценить свободный коэффициент  β0\n",
    "def add_constant_feature(samples: np.ndarray, beta: np.ndarray) -> tuple[np.ndarray, np.ndarray]:\n",
    "    \"\"\"\n",
    "    Функция для создания константной фичи в матрице объектов samples.\n",
    "    Добавляет колонку с единицами и обновляет вектор весов.\n",
    "    \"\"\"\n",
    "    # А здесь мы уже всё написали для Вас :)\n",
    "\n",
    "    # Добавление константной колонки к матрице признаков\n",
    "    samples['constants'] = 1\n",
    "\n",
    "    # Обновление вектора весов\n",
    "    beta = np.append(beta, 1)\n",
    "\n",
    "    return samples, beta"
   ]
  },
  {
   "cell_type": "code",
   "execution_count": 71,
   "metadata": {},
   "outputs": [
    {
     "name": "stdout",
     "output_type": "stream",
     "text": [
      "beta before:\n",
      " [1. 1. 1. 1. 1. 1. 1. 1. 1. 1.]\n",
      "samples before:\n",
      "    feature_1  feature_2  feature_3  feature_4  feature_5  feature_6  \\\n",
      "0   0.113768   0.930064   0.330528   0.010987   0.265703   0.699462   \n",
      "1   0.380048   0.485946   0.870232   0.473401   0.454516   0.500864   \n",
      "2   0.768462   0.217706   0.727438   0.718377   0.452155   0.434638   \n",
      "3   0.606637   0.604335   0.540332   0.491236   0.325632   0.206348   \n",
      "4   0.119770   0.469718   0.632829   0.504207   0.238259   0.452457   \n",
      "\n",
      "   feature_7  feature_8  feature_9  feature_10  \n",
      "0   0.058465   0.431643   0.650958    0.751820  \n",
      "1   0.471723   0.234329   0.072982    0.008372  \n",
      "2   0.043989   0.972489   0.450133    0.378157  \n",
      "3   0.825767   0.332475   0.955518    0.162811  \n",
      "4   0.775360   0.174262   0.117621    0.218883  \n",
      "beta after:\n",
      " [1. 1. 1. 1. 1. 1. 1. 1. 1. 1. 1.]\n",
      "samples after:\n",
      "    feature_1  feature_2  feature_3  feature_4  feature_5  feature_6  \\\n",
      "0   0.113768   0.930064   0.330528   0.010987   0.265703   0.699462   \n",
      "1   0.380048   0.485946   0.870232   0.473401   0.454516   0.500864   \n",
      "2   0.768462   0.217706   0.727438   0.718377   0.452155   0.434638   \n",
      "3   0.606637   0.604335   0.540332   0.491236   0.325632   0.206348   \n",
      "4   0.119770   0.469718   0.632829   0.504207   0.238259   0.452457   \n",
      "\n",
      "   feature_7  feature_8  feature_9  feature_10  constants  \n",
      "0   0.058465   0.431643   0.650958    0.751820          1  \n",
      "1   0.471723   0.234329   0.072982    0.008372          1  \n",
      "2   0.043989   0.972489   0.450133    0.378157          1  \n",
      "3   0.825767   0.332475   0.955518    0.162811          1  \n",
      "4   0.775360   0.174262   0.117621    0.218883          1  \n"
     ]
    }
   ],
   "source": [
    "### FOR DEBUG ONLY ###\n",
    "# # before\n",
    "# print(\"beta before:\\n\", beta)\n",
    "# print(\"samples before:\\n\", samples[:5])\n",
    "\n",
    "# #process\n",
    "# samples, beta = add_constant_feature(samples, beta)\n",
    "\n",
    "# # after\n",
    "# print(\"beta after:\\n\", beta)\n",
    "# print(\"samples after:\\n\", samples[:5])"
   ]
  },
  {
   "cell_type": "code",
   "execution_count": 97,
   "metadata": {},
   "outputs": [],
   "source": [
    "# вычисляет при текущих весах вектор-градиент по функционалу.\n",
    "def calculate_gradient(beta: np.ndarray, samples: np.ndarray, targets: np.ndarray) -> np.ndarray:\n",
    "    \"\"\"\n",
    "    Функция для вычисления вектора-градиента.\n",
    "\n",
    "    :return: вектор-градиент, содержащий производные по каждому признаку : np.ndarray\n",
    "    \"\"\"\n",
    "    \n",
    "    # Предсказанные значения: X * beta\n",
    "    predictions = np.dot(samples, beta)\n",
    "    \n",
    "    # Вычисление разницы между предсказанными и фактическими значениями: X*beta - y\n",
    "    diff = predictions - targets\n",
    "\n",
    "    # Вычисление градиента (не забудьте 2 и усреднить по количеству образцов!)\n",
    "    # Решение на полный балл предполагает запись в матричной форме, без циклов\n",
    "    # Градиент: 2/n * X^T * (X*beta - y)\n",
    "    gradient = 2 * np.mean(samples.T * diff, axis=1)\n",
    "\n",
    "    return gradient"
   ]
  },
  {
   "cell_type": "code",
   "execution_count": 74,
   "metadata": {},
   "outputs": [
    {
     "name": "stdout",
     "output_type": "stream",
     "text": [
      "Gradient:\n",
      " feature_1    -26.589201\n",
      "feature_2    -26.040621\n",
      "feature_3    -24.624356\n",
      "feature_4    -24.944763\n",
      "feature_5    -25.687455\n",
      "feature_6    -26.991700\n",
      "feature_7    -26.434731\n",
      "feature_8    -27.558301\n",
      "feature_9    -26.440213\n",
      "feature_10   -26.805695\n",
      "constants    -51.351398\n",
      "dtype: float64\n"
     ]
    }
   ],
   "source": [
    "### FOR DEBUG ONLY ###\n",
    "# gradient = calculate_gradient(beta, samples, targets)\n",
    "# print(\"Gradient:\\n\", gradient)"
   ]
  },
  {
   "cell_type": "code",
   "execution_count": 98,
   "metadata": {},
   "outputs": [],
   "source": [
    "#  производит итерацию градиентного спуска, то есть обновляет веса модели, в соответствии с установленным learning_rate\n",
    "def iteration(beta: np.ndarray, samples: np.ndarray, targets: np.ndarray, learning_rate: float) -> np.ndarray:\n",
    "    \"\"\"\n",
    "    Обновляем веса модели в соответствии с текущим вектором-градиентом.\n",
    "    \"\"\"\n",
    "\n",
    "    # Обновление весов на основе вычисленного градиента\n",
    "    gradient = calculate_gradient(beta, samples, targets)\n",
    "\n",
    "    # Обновите веса модели используя градиент выше. Не перепутайте знак :)\n",
    "    return beta - learning_rate * gradient"
   ]
  },
  {
   "cell_type": "code",
   "execution_count": 77,
   "metadata": {},
   "outputs": [
    {
     "name": "stdout",
     "output_type": "stream",
     "text": [
      "iter:\n",
      " feature_1     1.026589\n",
      "feature_2     1.026041\n",
      "feature_3     1.024624\n",
      "feature_4     1.024945\n",
      "feature_5     1.025687\n",
      "feature_6     1.026992\n",
      "feature_7     1.026435\n",
      "feature_8     1.027558\n",
      "feature_9     1.026440\n",
      "feature_10    1.026806\n",
      "constants     1.051351\n",
      "dtype: float64\n"
     ]
    }
   ],
   "source": [
    "# learning_rate: float = 1e-3\n",
    "# iter = iteration(beta, samples, targets, learning_rate)\n",
    "# print(\"iter:\\n\", iter)"
   ]
  },
  {
   "cell_type": "code",
   "execution_count": 80,
   "metadata": {},
   "outputs": [
    {
     "name": "stdout",
     "output_type": "stream",
     "text": [
      "Преобразование таргетов в одномерный массив: [30.14709445 21.42440247 31.4220562  31.30858777 23.32275116]\n"
     ]
    }
   ],
   "source": [
    "print(\"Преобразование таргетов в одномерный массив:\", targets.values.ravel()[:5])"
   ]
  },
  {
   "cell_type": "code",
   "execution_count": 99,
   "metadata": {
    "id": "s2JbSZ6-o4uN"
   },
   "outputs": [],
   "source": [
    "# производит итерации обучения до того момента, пока не сработает критерий останова обучения.\n",
    "def learn(samples: pd.DataFrame, targets: pd.DataFrame,\n",
    "                learning_rate: float = 1e-3, threshold: float=1e-6, max_iter: int = 100000) -> tuple[np.ndarray, int, dict]:\n",
    "    \"\"\"\n",
    "    Итеративное обучение весов модели до срабатывания критерия останова.\n",
    "\n",
    "    Запись mse и номера итерации в iteration_loss_dict.\n",
    "    \"\"\"\n",
    "\n",
    "    # Сохранение матрицы признаков и таргетов\n",
    "    samples = samples.copy()\n",
    "    targets = targets.copy()\n",
    "\n",
    "    # Инициализация весов\n",
    "    beta = np.ones(samples.shape[1])\n",
    "\n",
    "    # Добавим константу и перейдем к numpy\n",
    "    samples, beta = add_constant_feature(samples, beta)\n",
    "    samples = np.array(samples)\n",
    "\n",
    "    # Преобразование таргетов в одномерный массив\n",
    "    targets = targets.values.ravel()\n",
    "\n",
    "    # Инициализация словаря для хранения MSE\n",
    "    iteration_loss_dict = {0 : calculate_mse_loss(beta, samples, targets)}\n",
    "\n",
    "    for itera in range(1, max_iter+1):\n",
    "        start_betas = beta.copy()  # Фиксируем текущие веса\n",
    "\n",
    "        # Выполняем шаг градиентного спуска при помощи iteration\n",
    "        new_beta = iteration(beta, samples, targets, learning_rate)\n",
    "\n",
    "        # Рассчитываем новую MSE\n",
    "        new_mse = calculate_mse_loss(new_beta, samples, targets)\n",
    "\n",
    "        # Записываем MSE и номер итерации\n",
    "        iteration_loss_dict[itera] = new_mse\n",
    "\n",
    "        # Проверяем условие остановки по изменению MSE\n",
    "        if abs(iteration_loss_dict[itera] - iteration_loss_dict[itera-1]) < threshold:\n",
    "            break\n",
    "\n",
    "        # Обновляем предыдущее значение весов\n",
    "        beta = new_beta\n",
    "\n",
    "        # Выводим MSE в реальном времени\n",
    "        print(\"MSE:\", new_mse, \"                   \", end=\"\\r\")\n",
    "\n",
    "    if itera == max_iter:\n",
    "        print(\"Кажется алгоритм расходится. Возможно, у Вас где-то ошибка :(\")\n",
    "\n",
    "    return beta, itera, iteration_loss_dict"
   ]
  },
  {
   "cell_type": "markdown",
   "metadata": {
    "id": "BaGB7nVbotBC"
   },
   "source": [
    "Обучим коэффициенты линейной модели с помощью реализованного нами градиентного спуска, не забыв добавить свободную переменную. Получились ли такие же коэффициенты, как и при использовании **LinearRegression** из **sklearn**? Если нет, то почему они отличаются, на Ваш взгляд, и сильно ли?\n",
    "\n",
    "Последнее число соответствует свободному коэффициенту, он же **.intercept_** в **LinearRegression** из **sklearn**"
   ]
  },
  {
   "cell_type": "code",
   "execution_count": 100,
   "metadata": {
    "id": "wImC5NTpo96-"
   },
   "outputs": [
    {
     "name": "stdout",
     "output_type": "stream",
     "text": [
      "MSE: 0.010733740669611398                    \r"
     ]
    }
   ],
   "source": [
    "# Запустим обучение\n",
    "beta, iteration_num, iteration_loss_dict = learn(X, Y)"
   ]
  },
  {
   "cell_type": "code",
   "execution_count": 101,
   "metadata": {
    "id": "63sHnE55o_nK"
   },
   "outputs": [
    {
     "name": "stdout",
     "output_type": "stream",
     "text": [
      "Веса модели при переменных d1, d2, ..., d10 равны соответственно: \n",
      "\n",
      "[0.88732851 1.90100263 2.88063084 3.87662054 4.8962303  5.89125659\n",
      " 6.89254282 7.90311461 8.875795   9.86108916 4.94857411]\n"
     ]
    }
   ],
   "source": [
    "print('Веса модели при переменных d1, d2, ..., d10 равны соответственно: \\n\\n' + str(beta))"
   ]
  }
 ],
 "metadata": {
  "colab": {
   "include_colab_link": true,
   "provenance": []
  },
  "kernelspec": {
   "display_name": "base",
   "language": "python",
   "name": "python3"
  },
  "language_info": {
   "codemirror_mode": {
    "name": "ipython",
    "version": 3
   },
   "file_extension": ".py",
   "mimetype": "text/x-python",
   "name": "python",
   "nbconvert_exporter": "python",
   "pygments_lexer": "ipython3",
   "version": "3.12.7"
  }
 },
 "nbformat": 4,
 "nbformat_minor": 0
}
