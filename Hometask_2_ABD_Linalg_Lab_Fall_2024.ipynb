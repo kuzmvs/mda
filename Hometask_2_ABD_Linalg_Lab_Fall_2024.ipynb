{
  "cells": [
    {
      "cell_type": "markdown",
      "metadata": {
        "id": "EIuyp8N8r-C7"
      },
      "source": [
        "# Линейная алгебра. Лабораторная работа 1, осень 2024\n"
      ]
    },
    {
      "cell_type": "markdown",
      "metadata": {
        "id": "YaJV1GVyr-DE"
      },
      "source": [
        "## Часть 1. Библиотеки"
      ]
    },
    {
      "cell_type": "markdown",
      "metadata": {
        "id": "oM0ZiubOr-DF"
      },
      "source": [
        "В этой лабораторной работе вам понадобятся три библиотеки:\n",
        "\n",
        "- `numpy` – основная библиотека для работы с матрицами;\n",
        "- `scipy`, а точнее модуль `scipy.linalg`, содержащий множество функций линейной алгебры;\n",
        "- `matplotlib` – графическая библиотека\n",
        "\n",
        "Подключить их можно следующим образом:"
      ]
    },
    {
      "cell_type": "code",
      "execution_count": null,
      "metadata": {
        "id": "5cm7iy1ir-DH"
      },
      "outputs": [],
      "source": [
        "# Запустите этот код\n",
        "import numpy as np\n",
        "\n",
        "import scipy.linalg as sla\n",
        "\n",
        "import matplotlib.pyplot as plt\n",
        "%matplotlib inline"
      ]
    },
    {
      "cell_type": "markdown",
      "metadata": {
        "id": "V8NVWAhvr-DL"
      },
      "source": [
        "Теперь вы можете позвать, скажем, функцию `scipy.linalg.det()` с помощью кода `sla.det()`, а функцию `numpy.exp()` – с помощью кода `np.exp()`."
      ]
    },
    {
      "cell_type": "markdown",
      "metadata": {
        "id": "Pa6Hi2DFr-DM"
      },
      "source": [
        "**Основные объекты и операции линейной алгебры в NumPy и SciPy:**"
      ]
    },
    {
      "cell_type": "markdown",
      "metadata": {
        "id": "L4QhiVOOr-DN"
      },
      "source": [
        "Основной объект, с которым вам придётся работать и в этой, и в следующих лабораторных, – это, безусловно, матрицы. В библиотеке `numpy` они представлены классом `numpy.ndarray`. Матрицу можно создать из двумерного (а на самом деле и не только двумерного) массива следующим образом:"
      ]
    },
    {
      "cell_type": "code",
      "execution_count": null,
      "metadata": {
        "id": "TNI8AiJyr-DO",
        "colab": {
          "base_uri": "https://localhost:8080/"
        },
        "outputId": "f2ee012f-f778-4845-afc0-478d526c4367"
      },
      "outputs": [
        {
          "output_type": "stream",
          "name": "stdout",
          "text": [
            "[[1 2 3]\n",
            " [4 5 6]]\n",
            "(2, 3)\n"
          ]
        }
      ],
      "source": [
        "# Запустите этот код\n",
        "A = np.array([[1, 2, 3], [4, 5, 6]])\n",
        "\n",
        "print(A)\n",
        "print(A.shape) # пара (число строк, число столбцов)"
      ]
    },
    {
      "cell_type": "markdown",
      "metadata": {
        "id": "tzD9hz20r-DQ"
      },
      "source": [
        "Обратите внимание, что матрица заполняется по умолчанию *по строкам*.\n",
        "\n",
        "Есть и много других конструкторов матриц. Например, единичная матрица размера $n\\times n$ создаётся с помощью функции `numpy.eye(n)`. Со всем многообразием конструкторов можно ознакомиться [на этой странице](https://numpy.org/doc/stable/reference/routines.array-creation.html)."
      ]
    },
    {
      "cell_type": "markdown",
      "metadata": {
        "id": "dXBis6otr-DR"
      },
      "source": [
        "Зачастую бывает нужно получить доступ к подматрицам данной матрицы, и numpy предоставляет множество удобных средств, как это сделать, аналогичных slicing для списков базового Python, но отчасти расширяющих их (при желании см. [документацию](https://numpy.org/doc/stable/user/basics.indexing.html#basics-indexing)):\n",
        "- элемент с номером `(i,j)`: `A[i,j]`; <small>*работает и `A[i][j]`, но менее эффективно (создаётся промежуточный одномерный массив `A[i]`, прежде чем взять из него j-й элемент)*</small>\n",
        "- i-я строка матрицы: `A[i,:]`\n",
        "- j-й столбец матрицы: `A[:,j]`\n",
        "\n",
        "**Внимание!** Оба варианта, и `A[i,:]`, и `A[:,j]` дают не строку или столбец, а одномерный вектор. Если вы хотите получить вектор-строку или вектор-столбец соответственно, используйте вот такой синтаксис: `A[i:i+1,:]` и `A[:,j:j+1]`\n",
        "- строки с нулевой по i-ю: `A[:i+1,:]`\n",
        "- столбцы с j-го по последний: `A[:,j:]`\n",
        "- строки с i-й по k-ю: `A[i:k,:]`\n",
        "\n",
        "Обратите внимание, что эти методы как правило возвращают view, а не copy (<small>*есть исключения, при желании см. [advanced-indexing](https://numpy.org/doc/stable/user/basics.indexing.html#advanced-indexing)*</small>), то есть если, например, изменить что-то в `A[i, :]`, то изменится исходная матрица `A`.\n",
        "\n",
        "В некоторых случаях нужно получить доступ к (прямоугольной) подматрице, элементы которой находятся на пересечении строк из списка `rows` и столбцов из списка `columns`. В этом случае `A[rows, columns]` даст не то, что вы ожидаете (можете попробовать это сделать сами и увидеть, что получится; только возьмите `rows` и `columns` одного размера). Справиться с этой задачей позволяет код `A[np.ix_(rows, columns)]`"
      ]
    },
    {
      "cell_type": "markdown",
      "metadata": {
        "id": "UBq_ml2yr-DS"
      },
      "source": [
        "*Умножение матриц* производится с помощью функции `np.dot()` либо оператора `@`. Есть три варианта написания: `A.dot(B)`, `np.dot(A, B)` и `A @ B`.\n",
        "\n",
        "Обычные знаки арифметических действий (`+`, `-`, `*`) зарезервированы для поэлементных операций. Например, `A * B` – это матрица, элементами которой являются произведения $A_{ij}B_{ij}$. <small>*Помимо этих есть и множество других поэлементных операций. Например, `numpy.exp(A)` – это матрица, элементами которой являются экспоненты элементов матрицы `A`. Не путать с `sla.expm(A)` – настоящей матричной экспонентой.*</small>"
      ]
    },
    {
      "cell_type": "markdown",
      "metadata": {
        "id": "fZk9Fcmar-DT"
      },
      "source": [
        "Чтобы получить матрицу, *транспонированную* к матрице `A`, напишите просто `A.T`."
      ]
    },
    {
      "cell_type": "markdown",
      "metadata": {
        "id": "BklAT3MYr-DT"
      },
      "source": [
        "В некоторых случаях бывает нужно создавать *случайные матрицы*: например, при проведении экспериментов или для инициализации итеративных методов. Средства для этого предоставляет пакет [numpy.random](https://docs.scipy.org/doc/numpy/reference/routines.random.html). Так, `np.random.rand(m,n)` – это матрица $m\\times n$, элементы которой независимо выбраны из равномерного распределения на интервале `[0;1)`."
      ]
    },
    {
      "cell_type": "markdown",
      "metadata": {
        "id": "qEnErjp6r-DU"
      },
      "source": [
        "Для *решения систем линейных уравнений* в пакете `scipy.linalg` есть множество методов, рассмотрение которых выходит за пределы стандартного курса линейной алгебры. Мы вам пока предлагаем пользоваться функцией `scipy.linalg.solve`, основанной на методе Гаусса. Отметим, что `scipy.linalg.solve(A, B)` выдаёт решение уравнения $AX = B$ (или ошибку), где $B$ может быть как вектором, так и матрицей.\n",
        "\n",
        "Найти обратную матрицу для матрицы $A$ можно с помощью функции `sla.inv(A)`."
      ]
    },
    {
      "cell_type": "markdown",
      "metadata": {
        "id": "gKccN2XRr-DU"
      },
      "source": [
        "**Копирование сложных объектов в Python**"
      ]
    },
    {
      "cell_type": "markdown",
      "metadata": {
        "id": "hcYma3Ahr-DV"
      },
      "source": [
        "Когда вы делаете присваивание каких-то сложных объектов, как правило, оно происходит по ссылке. Например, код\n",
        "```\n",
        "B = A\n",
        "B[0,0] = 10\n",
        "```\n",
        "приведёт к изменению матрицы `A`.\n",
        "\n",
        "Не попадайтесь в эту ловушку! Если вы хотите работать с копией как с независимой матрицей, используйте метод `copy()`:\n",
        "```\n",
        "B = A.copy()\n",
        "```"
      ]
    },
    {
      "cell_type": "markdown",
      "metadata": {
        "id": "skr3SVKir-DW"
      },
      "source": [
        "**Где искать помощь**"
      ]
    },
    {
      "cell_type": "markdown",
      "metadata": {
        "id": "ZwzIfvS_r-DW"
      },
      "source": [
        "Библиотеки `numpy` и `scipy` снабжены прекрасной документацией. Если у вас возникают вопросы о том, как работает та или иная функция (или даже как называется функция, выполняющая то, что вам нужно), вы почти всегда можете найти там ответы.\n",
        "\n",
        "[Ссылка на документацию пакета scipy.linalg](https://docs.scipy.org/doc/scipy-0.18.1/reference/linalg.html)\n",
        "\n",
        "Если у вас возникает какая-то ошибка и вы не можете понять, что вы делаете не так, то\n",
        "\n",
        "1) в первую очередь попробуйте просто загуглить текст ошибки, наверняка в интернете кто-то уже сталкивался с такой ситуацией;  \n",
        "2) поспрашивайте своих одногруппников, не было ли у них такой ошибки, и если была, то как они справлялись;  \n",
        "3) попросите помощи у вашего учебного ассистента.\n",
        "\n",
        "\n"
      ]
    },
    {
      "cell_type": "markdown",
      "metadata": {
        "id": "PggwvCWer-DW"
      },
      "source": [
        "**И всё-таки задание**"
      ]
    },
    {
      "cell_type": "markdown",
      "metadata": {
        "id": "jA4ZWChmr-DX"
      },
      "source": [
        "**Задание 1.1 [0.25 балла за каждый пункт]** В качестве первого задания мы попросим вас отыскать соответствующие функции в библиотеке и сделать следующее:\n",
        "\n",
        "- создайте нулевую матрицу $Z$ размера $3\\times4$;\n",
        "\n",
        "- создайте нулевую матрицу $Y$ размера $4\\times1$ и найдите произведение $ZY$;\n",
        "\n",
        "- создайте диагональную матрицу $D$ размера $5\\times5$ с диагональными элементами 1, 2, 3, 4 и 5;\n",
        "\n",
        "- найдите её след $\\operatorname{tr}(D)$ (не силою мысли, а с помощью библиотечных функций, конечно);\n",
        "\n",
        "- найдите обратную к ней матрицу $D^{-1}$;\n",
        "\n",
        "- сгенерируйте случайную матрицу $X$ размера $4\\times5$;\n",
        "\n",
        "- найдите определитель подматрицы матрицы $X$, расположенной на пересечении 2-й и 3-й строк и 1-го и 2-го столбцов; считаем, что строки и столбцы нумеруются с единицы (используйте slicing!). Такой определитель называется **минором** матрицы $X$;\n",
        "\n",
        "- найдите произведение $X^TX$.\n",
        "\n",
        "Пожалуйста, каждый пункт делайте в новом блоке и не забывайте выводить результаты."
      ]
    },
    {
      "cell_type": "code",
      "execution_count": null,
      "metadata": {
        "id": "gmrs4RQCr-Db"
      },
      "outputs": [],
      "source": [
        "# Your code here"
      ]
    },
    {
      "cell_type": "markdown",
      "metadata": {
        "id": "Dq9CP3Tvr-Dc"
      },
      "source": [
        "## Часть 2. Время\n",
        "\n",
        "Питон мотивирует пользоваться библиотечными функциями, когда они доступны, а не писать собственные. Библиотечные функции основаны на современных алгоритмах, обычно пишутся на более эффективных языках, таких как C++ или Fortran, а кроме того, оптимизированы для работы на многопроцессорных устройствах, так что обогнать эти решения просто так вы не сможете. Мы предлагаем вам убедиться в этом самим. Напишите функцию `my_det`, которая вычисляла бы определитель матрицы с помощью элементарных преобразований над строками.\n",
        "\n",
        "**Задание 2.1 [0.1 балла]**\n",
        "Для разминки реализуйте одно элементарное преобразование: прибавьте третью строку данной матрицы ко второй с коэффициентом 3. Не используйте циклов; для естественного решения достаточно одной строки."
      ]
    },
    {
      "cell_type": "code",
      "source": [
        "A = np.array([[1,2,3],[4,5,6],[7,8,9]], dtype=np.float64)\n",
        "# Your code here\n",
        "print(A)"
      ],
      "metadata": {
        "id": "FGOR-wTqHMIT"
      },
      "execution_count": null,
      "outputs": []
    },
    {
      "cell_type": "markdown",
      "source": [
        "**Задание 2.2 [0.2 балла]** Теперь напишите функцию, принимающую на вход матрицу и находящую номер первого слева ненулевого столбца. Предусмотрите случай, что на вход подана нулевая матрица (например, удобно вывести ответ «-1» в таком случае)."
      ],
      "metadata": {
        "id": "U1h9MSL2_qBA"
      }
    },
    {
      "cell_type": "code",
      "source": [
        "def find_first_nonzero_column (A):\n",
        "  # Your code here\n",
        "  return k"
      ],
      "metadata": {
        "id": "9mM8qx89E-UW"
      },
      "execution_count": null,
      "outputs": []
    },
    {
      "cell_type": "code",
      "source": [
        "# Test cases\n",
        "A1 = np.array([[0, 0, 1], [0, 0, 0], [0, 0, 0]], dtype=np.float64)\n",
        "print(f\"First non-zero column of A1: {find_first_nonzero_column(A1)}\")  # Expected output: 2\n",
        "\n",
        "A2 = np.array([[0, 0, 0], [0, 0, 0], [0, 0, 0]], dtype=np.float64)\n",
        "print(f\"First non-zero column of A2: {find_first_nonzero_column(A2)}\")  # Expected output: -1\n",
        "\n",
        "A3 = np.array([[0, 1, 0], [0, 0, 0], [0, 0, 0]], dtype=np.float64)\n",
        "print(f\"First non-zero column of A3: {find_first_nonzero_column(A3)}\")  # Expected output: 1\n",
        "\n",
        "A4 = np.array([[0, 0, 0], [1, 0, 0], [0, 0, 0]], dtype=np.float64)\n",
        "print(f\"First non-zero column of A4: {find_first_nonzero_column(A4)}\")  # Expected output: 0\n",
        "\n",
        "A5 = np.array([[1,2,3],[4,5,6],[7,8,9]], dtype=np.float64)\n",
        "print(f\"First non-zero column of A5: {find_first_nonzero_column(A5)}\") # Expected output: 0"
      ],
      "metadata": {
        "id": "8gyii2oVFU-N"
      },
      "execution_count": null,
      "outputs": []
    },
    {
      "cell_type": "markdown",
      "source": [
        "**Задание 2.3 [0.3 балла]** Теперь напишите функцию, меняющую при необходимости строки матрицы местами так, чтобы в первом ненулевом столбце на первом месте было ненулевое число. Функция должна изменять исходную матрицу и возвращать число $\\pm 1$ в зависимости от того, был ли произведен обмен строк местами."
      ],
      "metadata": {
        "id": "8z6pNnMeALpf"
      }
    },
    {
      "cell_type": "code",
      "source": [
        "def swap_rows_if_needed (A):\n",
        "  k = find_first_nonzero_column(A)\n",
        "  if k == -1:\n",
        "    return 1\n",
        "  # Your code here"
      ],
      "metadata": {
        "id": "ZUobFOI8Fsal"
      },
      "execution_count": null,
      "outputs": []
    },
    {
      "cell_type": "code",
      "source": [
        "# Test cases\n",
        "A1 = np.array([[0, 0, 1], [0, 0, 0], [0, 0, 0]], dtype=np.float64)\n",
        "print(f\"Original A1:\\n{A1}\")\n",
        "print(f\"swap_rows_if_needed(A1): {swap_rows_if_needed(A1)}\") # Expected output: 1\n",
        "print(f\"Modified A1:\\n{A1}\")\n",
        "\n",
        "A2 = np.array([[0, 0, 0], [0, 0, 0], [0, 0, 0]], dtype=np.float64)\n",
        "print(f\"Original A2:\\n{A2}\")\n",
        "print(f\"swap_rows_if_needed(A2): {swap_rows_if_needed(A2)}\") # Expected output: 1\n",
        "print(f\"Modified A2:\\n{A2}\")\n",
        "\n",
        "A3 = np.array([[0, 1, 0], [0, 0, 0], [0, 0, 0]], dtype=np.float64)\n",
        "print(f\"Original A3:\\n{A3}\")\n",
        "print(f\"swap_rows_if_needed(A3): {swap_rows_if_needed(A3)}\") # Expected output: 1\n",
        "print(f\"Modified A3:\\n{A3}\")\n",
        "\n",
        "A4 = np.array([[0, 0, 0], [1, 0, 0], [0, 0, 0]], dtype=np.float64)\n",
        "print(f\"Original A4:\\n{A4}\")\n",
        "print(f\"swap_rows_if_needed(A4): {swap_rows_if_needed(A4)}\") # Expected output: -1\n",
        "print(f\"Modified A4:\\n{A4}\")\n",
        "\n",
        "A5 = np.array([[1,2,3],[4,5,6],[7,8,9]], dtype=np.float64)\n",
        "print(f\"Original A5:\\n{A5}\")\n",
        "print(f\"swap_rows_if_needed(A5): {swap_rows_if_needed(A5)}\") # Expected output: 1\n",
        "print(f\"Modified A5:\\n{A5}\")\n",
        "\n",
        "A6 = np.array([[0,2,3],[4,5,6],[7,8,9]], dtype=np.float64)\n",
        "print(f\"Original A6:\\n{A6}\")\n",
        "print(f\"swap_rows_if_needed(A6): {swap_rows_if_needed(A6)}\") # Expected output: -1\n",
        "print(f\"Modified A6:\\n{A6}\")\n",
        "\n",
        "print(f\"Original slice:\\n{A6[1:,1:]}\")\n",
        "print(f\"swap_rows_if_needed(A6): {swap_rows_if_needed(A6[1:,1:])}\") # Expected output: 1\n",
        "print(f\"Modified slice:\\n{A6[1:,1:]}\")"
      ],
      "metadata": {
        "id": "cG_vrVaPGDPr"
      },
      "execution_count": null,
      "outputs": []
    },
    {
      "cell_type": "markdown",
      "source": [
        "**Задание 2.4 [0.4 балла]** Теперь напишите функцию, принимающую на вход матрицу и номер строки $j$, и вычитающую первую строку из $j$-й с некоторым коэффициентом так, чтобы первый ненулевой элемент строки $j$ занулился. Функция должна изменять данную матрицу. Предполагайте данным, что в первой строке содержится в нужном столбце ненулевой элемент."
      ],
      "metadata": {
        "id": "wgcsmv01D-WE"
      }
    },
    {
      "cell_type": "code",
      "source": [
        "def simplify_row (A, j):\n",
        "  # Your code here"
      ],
      "metadata": {
        "id": "Fql7O924Gjfm"
      },
      "execution_count": null,
      "outputs": []
    },
    {
      "cell_type": "code",
      "source": [
        "# Test cases\n",
        "A1 = np.array([[1, 2, 3], [4, 5, 6], [7, 8, 9]], dtype=np.float64)\n",
        "simplify_row(A1, 1)\n",
        "print(A1)  # Expected output: [[1,2,3],[0,-3,-6],[7,8,9]]\n",
        "\n",
        "A2 = np.array([[1, 0, 3], [4, 5, 6], [7, 8, 9]], dtype=np.float64)\n",
        "simplify_row(A2, 1)\n",
        "print(A2)  # Expected output: [[1,0,3],[0,5,-6],[7,8,9]]\n",
        "\n",
        "A3 = np.array([[1, 2, 3], [4, 5, 6], [7, 8, 9]], dtype=np.float64)\n",
        "simplify_row(A3, 2)\n",
        "print(A3)  # Expected output: [[1,2,3],[4,5,6],[0,-6,-12]]\n",
        "\n",
        "A4 = np.array([[1, 2, 3], [1, 2, 3], [7, 8, 9]], dtype=np.float64)\n",
        "simplify_row(A4, 1)\n",
        "print(A4) # Expected output: [[1,2,3],[0,0,0],[7,8,9]]\n",
        "\n",
        "A5 = np.array([[0, 2, 3], [0, 5, 6], [0, 8, 9]], dtype=np.float64)\n",
        "simplify_row(A5, 1)\n",
        "print(A5) # Expected output: [[0,2,3],[0,0,-1.5],[0,8,9]]"
      ],
      "metadata": {
        "id": "g6zgONsOGzLf"
      },
      "execution_count": null,
      "outputs": []
    },
    {
      "cell_type": "markdown",
      "source": [
        "![87d8fb2s-960.jpg](data:image/jpeg;base64,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)"
      ],
      "metadata": {
        "id": "TgNsz1DEHynS"
      }
    },
    {
      "cell_type": "markdown",
      "source": [
        "**Задание 2.5 [1 балл]**\n",
        "Теперь реализуйте функцию `my_det`, вычисляющую определитель. Функция должна выкидывать `ValueError` в случаях, если матрица не является квадратной. Функция не должна быть деструктивной – исходная матрица не должна измениться."
      ],
      "metadata": {
        "id": "aR644wOAHKsI"
      }
    },
    {
      "cell_type": "code",
      "execution_count": null,
      "metadata": {
        "collapsed": true,
        "id": "g943MUT2r-Dd"
      },
      "outputs": [],
      "source": [
        "def my_det(X):\n",
        "    '''\n",
        "    Parameters\n",
        "    ----------\n",
        "    X : array_like\n",
        "\n",
        "    Returns\n",
        "    -------\n",
        "    det : float\n",
        "        Determinant of `a`.\n",
        "    '''\n",
        "\n",
        "    # Your code here\n",
        "\n",
        "    return det"
      ]
    },
    {
      "cell_type": "markdown",
      "metadata": {
        "id": "yH3RBFebr-Dd"
      },
      "source": [
        "Простая проверка:"
      ]
    },
    {
      "cell_type": "code",
      "execution_count": null,
      "metadata": {
        "id": "zZkvjyIMr-De",
        "colab": {
          "base_uri": "https://localhost:8080/"
        },
        "outputId": "4a37737b-c4c3-47a2-f858-4bbac51a935b"
      },
      "outputs": [
        {
          "output_type": "stream",
          "name": "stdout",
          "text": [
            "1\n"
          ]
        }
      ],
      "source": [
        "# Запустите этот блок кода\n",
        "X = np.array([[0,0,1], [0,1,0], [1,0,0]], dtype=np.float64)\n",
        "print(my_det(X))"
      ]
    },
    {
      "cell_type": "markdown",
      "metadata": {
        "id": "1s1r8y0lr-Df"
      },
      "source": [
        "На случай, если нам просто повезло с этой матрицей, имеет смысл написать чуть более хитрые тесты. Мы сгенерируем несколько случайных матриц $50\\times50$ с помощью функции `numpy.random.rand` и сравним ответ, выдаваемый нашей функцией, с настоящим определителем (результатом работы библиотечной функции `scipy.linalg.det`):"
      ]
    },
    {
      "cell_type": "code",
      "execution_count": null,
      "metadata": {
        "collapsed": true,
        "id": "SYbzit9Sr-Df",
        "colab": {
          "base_uri": "https://localhost:8080/",
          "height": 1000
        },
        "outputId": "105c033e-0f87-442e-bfd2-7559ad639131"
      },
      "outputs": [
        {
          "output_type": "stream",
          "name": "stdout",
          "text": [
            "[[0.01448566 0.01246844 0.28403418 ... 0.23166346 0.9165174  0.15083651]\n",
            " [0.47889171 0.41226065 0.53278383 ... 0.75567679 0.03224117 0.28529529]\n",
            " [0.80454753 0.75771761 0.03909919 ... 0.08961897 0.52495256 0.20471031]\n",
            " ...\n",
            " [0.7617693  0.10818001 0.84337376 ... 0.49180522 0.36681061 0.67475908]\n",
            " [0.05749496 0.0408635  0.50487654 ... 0.45931862 0.18595403 0.55807915]\n",
            " [0.28028814 0.66759778 0.90609155 ... 0.4596733  0.50827894 0.82022834]]\n",
            "805472.7183004075\n",
            "805472.718383495\n",
            "FAILED\n",
            "[[0.67771624 0.26194025 0.34778629 ... 0.96080055 0.74910562 0.69747898]\n",
            " [0.44893085 0.90334299 0.65381013 ... 0.05906155 0.99039909 0.91813353]\n",
            " [0.46645186 0.90787019 0.46140309 ... 0.29839403 0.02886623 0.54173745]\n",
            " ...\n",
            " [0.2751124  0.69158312 0.38731378 ... 0.82425208 0.99764876 0.65244304]\n",
            " [0.88330995 0.00162025 0.78732499 ... 0.93354937 0.62517409 0.28843317]\n",
            " [0.10337816 0.64279763 0.48693541 ... 0.05565359 0.70259368 0.09065299]]\n",
            "-4631835.857009723\n",
            "-4631835.856986069\n",
            "FAILED\n",
            "[[0.97647862 0.51858737 0.01983187 ... 0.30273443 0.99803491 0.67226206]\n",
            " [0.91639273 0.14840463 0.94410836 ... 0.0341306  0.56090686 0.70598797]\n",
            " [0.60134284 0.01350896 0.75580962 ... 0.81945558 0.3283949  0.91459234]\n",
            " ...\n",
            " [0.3306698  0.95074313 0.17747989 ... 0.70419098 0.24156278 0.91057783]\n",
            " [0.8674412  0.34595787 0.23316282 ... 0.3601665  0.98461992 0.29555404]\n",
            " [0.31390085 0.90961436 0.34992076 ... 0.51773746 0.51676974 0.1260325 ]]\n",
            "213102.34136743436\n",
            "213102.3413898544\n",
            "FAILED\n",
            "[[7.37051381e-05 6.95094502e-02 2.14332625e-01 ... 1.95234819e-01\n",
            "  1.54985157e-01 8.95920222e-01]\n",
            " [7.07410639e-01 6.88482939e-01 2.98000771e-01 ... 7.51484137e-01\n",
            "  6.13171408e-01 6.05161129e-01]\n",
            " [5.10530967e-01 7.55470357e-01 2.36571996e-01 ... 8.92830043e-01\n",
            "  7.64351383e-01 9.97217179e-01]\n",
            " ...\n",
            " [3.44518369e-01 4.91227733e-01 8.34201666e-01 ... 8.47549312e-01\n",
            "  7.95458503e-01 4.43375767e-01]\n",
            " [2.80363981e-01 2.50759760e-01 6.23540941e-01 ... 5.82475207e-01\n",
            "  9.22591288e-01 1.82425856e-01]\n",
            " [8.49060449e-01 8.54252229e-01 7.39364890e-01 ... 8.54102150e-02\n",
            "  6.49974806e-01 4.69756197e-01]]\n",
            "1833867.5199331744\n",
            "1833867.5199157873\n",
            "FAILED\n",
            "[[0.80916761 0.00933188 0.85454894 ... 0.31660972 0.93557004 0.44601607]\n",
            " [0.64632228 0.40019724 0.02207061 ... 0.66578836 0.59044361 0.1215715 ]\n",
            " [0.25606667 0.3440039  0.64447797 ... 0.19480652 0.71118035 0.44559297]\n",
            " ...\n",
            " [0.58170866 0.00300873 0.50569859 ... 0.21934405 0.31137995 0.37400477]\n",
            " [0.97215306 0.46027351 0.2317026  ... 0.67969394 0.5261498  0.8089693 ]\n",
            " [0.41216597 0.060641   0.70192168 ... 0.36767515 0.52151663 0.42435218]]\n",
            "9994514.684049774\n",
            "9994514.683963729\n",
            "FAILED\n",
            "[[0.84704848 0.57550768 0.49753331 ... 0.39435524 0.78436815 0.62279765]\n",
            " [0.25561239 0.70204648 0.43731964 ... 0.36857581 0.53332615 0.13430106]\n",
            " [0.52423966 0.54411614 0.38386825 ... 0.59135091 0.43035777 0.32578369]\n",
            " ...\n",
            " [0.58152557 0.92624588 0.22524531 ... 0.17591412 0.55706784 0.08830999]\n",
            " [0.6858534  0.36164954 0.70923634 ... 0.88860539 0.2244162  0.82811799]\n",
            " [0.90169355 0.63858049 0.48168464 ... 0.31739498 0.95821265 0.0670071 ]]\n",
            "22003689.89621192\n",
            "22003689.89627771\n",
            "FAILED\n",
            "[[0.86694149 0.22090917 0.01072885 ... 0.32916232 0.04376863 0.89320078]\n",
            " [0.98818638 0.60557431 0.90173128 ... 0.06911835 0.79757907 0.45779375]\n",
            " [0.15021899 0.6386386  0.15699149 ... 0.33116166 0.84256824 0.52256715]\n",
            " ...\n",
            " [0.20564797 0.17470415 0.87738459 ... 0.18762752 0.88323153 0.18369285]\n",
            " [0.07754301 0.14528485 0.53342292 ... 0.39077579 0.40171871 0.32845675]\n",
            " [0.03557869 0.31436568 0.06148041 ... 0.14797271 0.57863037 0.3688613 ]]\n",
            "-5838126.01458926\n",
            "-5838126.01463825\n",
            "FAILED\n",
            "[[0.02208764 0.99238699 0.91757504 ... 0.02044275 0.55983722 0.37016927]\n",
            " [0.85308606 0.98984409 0.05575537 ... 0.14258331 0.09241226 0.93986916]\n",
            " [0.73164119 0.88518473 0.4273654  ... 0.33601929 0.6842506  0.80238235]\n",
            " ...\n",
            " [0.04254815 0.34169606 0.68464537 ... 0.12256887 0.6356813  0.491443  ]\n",
            " [0.89355576 0.10089388 0.17436533 ... 0.93224155 0.16522266 0.88126537]\n",
            " [0.02795719 0.23821256 0.81613019 ... 0.07863853 0.5141022  0.49038068]]\n",
            "-18009.288249146026\n",
            "-18009.288269565444\n",
            "FAILED\n",
            "[[0.71583939 0.93226317 0.02596969 ... 0.31800668 0.42977868 0.21366978]\n",
            " [0.06225857 0.06591067 0.91269659 ... 0.76684316 0.1122151  0.2503015 ]\n",
            " [0.10354141 0.11161772 0.32082432 ... 0.49146703 0.97980745 0.50149462]\n",
            " ...\n",
            " [0.71895527 0.03805321 0.12359468 ... 0.84333904 0.36623913 0.56007794]\n",
            " [0.66310912 0.54536223 0.86747327 ... 0.4984528  0.81245422 0.18070143]\n",
            " [0.93619939 0.26027779 0.4962558  ... 0.50461082 0.81493318 0.20137124]]\n",
            "-1264617.5942777793\n",
            "-1264617.5942556718\n",
            "FAILED\n",
            "[[0.44687547 0.2745696  0.39701549 ... 0.67337588 0.96005461 0.94122401]\n",
            " [0.28503389 0.80414582 0.82150665 ... 0.46908079 0.83424345 0.85048148]\n",
            " [0.49358603 0.74370995 0.5445072  ... 0.54107457 0.32130623 0.24138339]\n",
            " ...\n",
            " [0.86077097 0.33120389 0.0603352  ... 0.59016843 0.07893475 0.3939062 ]\n",
            " [0.99450707 0.73389702 0.70101322 ... 0.06195631 0.4901717  0.93312661]\n",
            " [0.37827476 0.6490205  0.94042759 ... 0.25648882 0.42007809 0.14055966]]\n",
            "-3722375.990185648\n",
            "-3722375.9901961386\n",
            "FAILED\n",
            "[[1.07868236e-01 2.38410239e-01 7.62185111e-01 ... 9.26377022e-01\n",
            "  9.65236145e-01 8.21411005e-01]\n",
            " [4.53159386e-01 4.27995065e-01 8.41895069e-01 ... 5.84761417e-01\n",
            "  9.58653508e-01 5.52696983e-02]\n",
            " [4.65126174e-02 6.14503480e-01 7.94997395e-01 ... 3.64592198e-01\n",
            "  7.46818593e-01 6.21769099e-01]\n",
            " ...\n",
            " [8.88024328e-01 5.49870968e-01 7.87046898e-01 ... 8.91290025e-01\n",
            "  5.79919113e-01 8.95970243e-01]\n",
            " [6.51712325e-02 6.92829958e-01 7.16712843e-01 ... 1.63122072e-02\n",
            "  4.20880657e-02 3.80473237e-01]\n",
            " [1.80283161e-04 1.02656983e-01 5.25648798e-01 ... 4.71393403e-01\n",
            "  9.18114325e-02 1.48944693e-01]]\n",
            "-2984276.8128919136\n",
            "-2984276.812873336\n",
            "FAILED\n",
            "[[0.24191895 0.30219104 0.65653289 ... 0.56759743 0.03963484 0.61568086]\n",
            " [0.26558814 0.33171241 0.49873603 ... 0.78018074 0.82351084 0.41663413]\n",
            " [0.62487289 0.9661552  0.53780085 ... 0.37561927 0.38584922 0.68640509]\n",
            " ...\n",
            " [0.67548528 0.61491558 0.70508749 ... 0.96527164 0.48071987 0.65817516]\n",
            " [0.94331627 0.16464162 0.85201632 ... 0.60779792 0.86952685 0.89260143]\n",
            " [0.57564227 0.4423238  0.43862142 ... 0.38649124 0.85234328 0.3368682 ]]\n",
            "687065.8724811528\n",
            "687065.8724590372\n",
            "FAILED\n"
          ]
        },
        {
          "output_type": "error",
          "ename": "KeyboardInterrupt",
          "evalue": "ignored",
          "traceback": [
            "\u001b[0;31m---------------------------------------------------------------------------\u001b[0m",
            "\u001b[0;31mKeyboardInterrupt\u001b[0m                         Traceback (most recent call last)",
            "\u001b[0;32m<ipython-input-17-9bb2d1fdcec8>\u001b[0m in \u001b[0;36m<cell line: 2>\u001b[0;34m()\u001b[0m\n\u001b[1;32m      2\u001b[0m \u001b[0;32mfor\u001b[0m \u001b[0m_\u001b[0m \u001b[0;32min\u001b[0m \u001b[0mrange\u001b[0m\u001b[0;34m(\u001b[0m\u001b[0;36m5000\u001b[0m\u001b[0;34m)\u001b[0m\u001b[0;34m:\u001b[0m\u001b[0;34m\u001b[0m\u001b[0;34m\u001b[0m\u001b[0m\n\u001b[1;32m      3\u001b[0m     \u001b[0mX\u001b[0m \u001b[0;34m=\u001b[0m \u001b[0mnp\u001b[0m\u001b[0;34m.\u001b[0m\u001b[0mrandom\u001b[0m\u001b[0;34m.\u001b[0m\u001b[0mrand\u001b[0m\u001b[0;34m(\u001b[0m\u001b[0;36m50\u001b[0m\u001b[0;34m,\u001b[0m \u001b[0;36m50\u001b[0m\u001b[0;34m)\u001b[0m\u001b[0;34m\u001b[0m\u001b[0;34m\u001b[0m\u001b[0m\n\u001b[0;32m----> 4\u001b[0;31m     \u001b[0;32mif\u001b[0m \u001b[0mnp\u001b[0m\u001b[0;34m.\u001b[0m\u001b[0mabs\u001b[0m\u001b[0;34m(\u001b[0m\u001b[0mmy_det\u001b[0m\u001b[0;34m(\u001b[0m\u001b[0mX\u001b[0m\u001b[0;34m)\u001b[0m \u001b[0;34m-\u001b[0m \u001b[0msla\u001b[0m\u001b[0;34m.\u001b[0m\u001b[0mdet\u001b[0m\u001b[0;34m(\u001b[0m\u001b[0mX\u001b[0m\u001b[0;34m)\u001b[0m\u001b[0;34m)\u001b[0m \u001b[0;34m>\u001b[0m \u001b[0;36m1e-5\u001b[0m\u001b[0;34m:\u001b[0m\u001b[0;34m\u001b[0m\u001b[0;34m\u001b[0m\u001b[0m\n\u001b[0m\u001b[1;32m      5\u001b[0m         \u001b[0mprint\u001b[0m\u001b[0;34m(\u001b[0m\u001b[0mX\u001b[0m\u001b[0;34m)\u001b[0m\u001b[0;34m\u001b[0m\u001b[0;34m\u001b[0m\u001b[0m\n\u001b[1;32m      6\u001b[0m         \u001b[0mprint\u001b[0m\u001b[0;34m(\u001b[0m\u001b[0mmy_det\u001b[0m\u001b[0;34m(\u001b[0m\u001b[0mX\u001b[0m\u001b[0;34m)\u001b[0m\u001b[0;34m)\u001b[0m\u001b[0;34m\u001b[0m\u001b[0;34m\u001b[0m\u001b[0m\n",
            "\u001b[0;32m<ipython-input-11-94f4348ecf09>\u001b[0m in \u001b[0;36mmy_det\u001b[0;34m(X)\u001b[0m\n\u001b[1;32m     23\u001b[0m       \u001b[0mY\u001b[0m\u001b[0;34m[\u001b[0m\u001b[0mi\u001b[0m\u001b[0;34m,\u001b[0m\u001b[0;34m:\u001b[0m\u001b[0;34m]\u001b[0m \u001b[0;34m=\u001b[0m \u001b[0mY\u001b[0m\u001b[0;34m[\u001b[0m\u001b[0mi\u001b[0m\u001b[0;34m,\u001b[0m\u001b[0;34m:\u001b[0m\u001b[0;34m]\u001b[0m\u001b[0;34m/\u001b[0m\u001b[0mY\u001b[0m\u001b[0;34m[\u001b[0m\u001b[0mi\u001b[0m\u001b[0;34m,\u001b[0m\u001b[0mi\u001b[0m\u001b[0;34m]\u001b[0m\u001b[0;34m\u001b[0m\u001b[0;34m\u001b[0m\u001b[0m\n\u001b[1;32m     24\u001b[0m       \u001b[0;32mfor\u001b[0m \u001b[0mj\u001b[0m \u001b[0;32min\u001b[0m \u001b[0mrange\u001b[0m\u001b[0;34m(\u001b[0m\u001b[0mi\u001b[0m\u001b[0;34m+\u001b[0m\u001b[0;36m1\u001b[0m\u001b[0;34m,\u001b[0m\u001b[0mn\u001b[0m\u001b[0;34m)\u001b[0m\u001b[0;34m:\u001b[0m\u001b[0;34m\u001b[0m\u001b[0;34m\u001b[0m\u001b[0m\n\u001b[0;32m---> 25\u001b[0;31m         \u001b[0mY\u001b[0m\u001b[0;34m[\u001b[0m\u001b[0mj\u001b[0m\u001b[0;34m,\u001b[0m\u001b[0;34m:\u001b[0m\u001b[0;34m]\u001b[0m \u001b[0;34m=\u001b[0m \u001b[0mY\u001b[0m\u001b[0;34m[\u001b[0m\u001b[0mj\u001b[0m\u001b[0;34m,\u001b[0m\u001b[0;34m:\u001b[0m\u001b[0;34m]\u001b[0m \u001b[0;34m-\u001b[0m \u001b[0mY\u001b[0m\u001b[0;34m[\u001b[0m\u001b[0mi\u001b[0m\u001b[0;34m,\u001b[0m\u001b[0;34m:\u001b[0m\u001b[0;34m]\u001b[0m\u001b[0;34m*\u001b[0m\u001b[0mY\u001b[0m\u001b[0;34m[\u001b[0m\u001b[0mj\u001b[0m\u001b[0;34m,\u001b[0m\u001b[0mi\u001b[0m\u001b[0;34m]\u001b[0m\u001b[0;34m\u001b[0m\u001b[0;34m\u001b[0m\u001b[0m\n\u001b[0m\u001b[1;32m     26\u001b[0m \u001b[0;34m\u001b[0m\u001b[0m\n\u001b[1;32m     27\u001b[0m     \u001b[0;32mreturn\u001b[0m \u001b[0mdet\u001b[0m\u001b[0;34m\u001b[0m\u001b[0;34m\u001b[0m\u001b[0m\n",
            "\u001b[0;31mKeyboardInterrupt\u001b[0m: "
          ]
        }
      ],
      "source": [
        "# Запустите этот блок кода\n",
        "for _ in range(50):\n",
        "    X = np.random.rand(50, 50)\n",
        "    if np.abs(my_det(X) - sla.det(X)) > 1e-6:\n",
        "        print(X)\n",
        "        print(my_det(X))\n",
        "        print(sla.det(X))\n",
        "        print('FAILED')"
      ]
    },
    {
      "cell_type": "markdown",
      "metadata": {
        "id": "4SYA688Er-Dg"
      },
      "source": [
        "Если вы ни разу не получили `FAILED`, то ваша функция работает правильно.\n",
        "\n",
        "<small>Обратите внимание на способ сравнения: проверка на точное равенство не подходит из-за машинной точности; см. следующее задание.</small>"
      ]
    },
    {
      "cell_type": "markdown",
      "metadata": {
        "id": "Lw3SUmFcr-Dg"
      },
      "source": [
        "Теперь давайте сравним скорость работы вашей функции и библиотечной функции `scipy.linalg.det`. В Питоне есть несколько способов измерения времени; мы воспользуемся декоратором `%timeit`. Будучи написан перед функцией, он запускает её некоторое количество раз, выбирает три случайных запуска и возвращает длительность самого быстрого из них. <small>Вопрос для размышления: зачем запускать много раз, если рассматривать только три из этих запусков?..</small> Модификатор `-o` между декоратором и функцией позволяет сохранять результаты работы декоратора в переменную.\n",
        "\n",
        "Приготовьтесь, что следующий блок может работать сравнительно долго."
      ]
    },
    {
      "cell_type": "code",
      "execution_count": null,
      "metadata": {
        "collapsed": true,
        "id": "J8MHVMDTr-Dh"
      },
      "outputs": [],
      "source": [
        "# Запустите этот блок кода\n",
        "lib_times = []\n",
        "my_times = []\n",
        "dimensions = [10, 100, 1000]\n",
        "for dim in dimensions:\n",
        "    A = np.random.rand(dim, dim)\n",
        "    res_lib = %timeit -o sla.det(A)\n",
        "    lib_times.append(res_lib.best)\n",
        "    res_my = %timeit -o my_det(A)\n",
        "    my_times.append(res_my.best)\n",
        "\n",
        "plt.plot(dimensions, lib_times, color='blue', label='Library function')\n",
        "plt.plot(dimensions, my_times, color='red', label='My function')\n",
        "plt.title('My function vs library function, log y scale')\n",
        "plt.ylabel('Time')\n",
        "plt.xlabel('Matrix dimension')\n",
        "plt.legend()"
      ]
    },
    {
      "cell_type": "markdown",
      "metadata": {
        "id": "3snj6Ssyr-Dh"
      },
      "source": [
        "У вас должны были получиться графики, показывающие, как растёт с ростом размерности матрицы время вычисления определителя. Поскольку они вышли не больно-то красивыми, мы нарисуем их в *логарифмическом масштабе* по оси у:"
      ]
    },
    {
      "cell_type": "code",
      "execution_count": null,
      "metadata": {
        "collapsed": true,
        "id": "DvHEs5bpr-Di"
      },
      "outputs": [],
      "source": [
        "# Запустите этот блок кода\n",
        "plt.semilogy(dimensions, lib_times, color='blue', label='Library function')\n",
        "plt.semilogy(dimensions, my_times, color='red', label='My function')\n",
        "plt.title('My function vs library function, log y scale')\n",
        "plt.ylabel('Time')\n",
        "plt.xlabel('Matrix dimension')\n",
        "plt.legend()"
      ]
    },
    {
      "cell_type": "markdown",
      "metadata": {
        "id": "1hNKxIy_r-Di"
      },
      "source": [
        "Вы можете убедиться, что библиотечная функция работает *гораздо* быстрее."
      ]
    },
    {
      "cell_type": "markdown",
      "metadata": {
        "id": "jpswHTx4r-Di"
      },
      "source": [
        "## Часть 3. Точность\n",
        "\n",
        "Наверняка вы уже что-то знаете про floating point arithmetics и связанные с этим трудности и понимаете, что на компьютере вычисления с вещественными числами производятся лишь с ограниченной точностью."
      ]
    },
    {
      "cell_type": "markdown",
      "metadata": {
        "id": "sbHBREf1r-Dj"
      },
      "source": [
        "**Задание 3.1 [1 балл]** В качестве первого примера, показывающего различие между длинной арифметикой целых чисел и floating point arithmetics, предлагаем вам перемножить две пары матриц:\n",
        "\n",
        "$$\n",
        "\\begin{pmatrix}\n",
        "1 & 0\\\\\n",
        "10^{20} & 1\n",
        "\\end{pmatrix}\n",
        "\\cdot\n",
        "\\begin{pmatrix}\n",
        "10^{-20} & 1\\\\\n",
        "0 & 1 - 10^{20}\n",
        "\\end{pmatrix}\n",
        "$$\n",
        "и\n",
        "$$\n",
        "\\begin{pmatrix}\n",
        "1. & 0.\\\\\n",
        "10.^{20} & 1.\n",
        "\\end{pmatrix}\n",
        "\\cdot\n",
        "\\begin{pmatrix}\n",
        "10.^{-20} & 1.\\\\\n",
        "0. & 1. - 10.^{20}\n",
        "\\end{pmatrix}\n",
        "$$\n",
        "Во втором случае мы специально указали Питону (поставив везде десятичные точки), что хотим работать не с целыми числами, а с числами с плавающей точкой. Посмотрим, получатся ли одинаковые ответы:"
      ]
    },
    {
      "cell_type": "code",
      "execution_count": null,
      "metadata": {
        "collapsed": true,
        "id": "DrPBRd5xr-Dj"
      },
      "outputs": [],
      "source": [
        "# Your code here"
      ]
    },
    {
      "cell_type": "markdown",
      "metadata": {
        "id": "Pt3aLW1Or-Dk"
      },
      "source": [
        "И какой из них правильный?\n",
        "\n",
        "---\n",
        "**Напишите здесь свой ответ**"
      ]
    },
    {
      "cell_type": "markdown",
      "metadata": {
        "id": "jiY-QrKPr-Dk"
      },
      "source": [
        "**Задание 3.2 [1 балл]** Впрочем, и с целыми числами тоже не всегда всё хорошо. Напишите функцию, генерирующую *матрицу Паскаля* заданной размерности $n$, то есть матрицу $P$, в которой $P_{ij} = C_{i+j}^i$. В этом задании нельзя пользоваться библиотечной функцией `scipy.linalg.pascal` или её аналогами из других библиотек. Обратите внимание, что использование факториалов крайне нежелательно, так как быстро приведёт к переполнению.\n",
        "\n",
        "В этом задании вы можете использовать цикл ``for``."
      ]
    },
    {
      "cell_type": "code",
      "execution_count": null,
      "metadata": {
        "collapsed": true,
        "id": "rDU_5JgZr-Dl"
      },
      "outputs": [],
      "source": [
        "def my_pascal(dim):\n",
        "    '''\n",
        "    Мы создали для вас матрицу из нулей размера dim x dim,\n",
        "    но вы можете ей не пользоваться, если не хотите\n",
        "    '''\n",
        "    P = np.zeros((dim, dim))\n",
        "\n",
        "    # Your code here\n",
        "\n",
        "    return P"
      ]
    },
    {
      "cell_type": "markdown",
      "metadata": {
        "id": "PcK88FAmr-Dl"
      },
      "source": [
        "Можно показать теоретической выкладкой, что её определитель всегда равен 1."
      ]
    },
    {
      "cell_type": "markdown",
      "metadata": {
        "id": "9FtlxI5xr-Dl"
      },
      "source": [
        "А теперь вычислите определитель матрицы Паскаля $30\\times30$ с помощью библиотечной функции `scipy.linalg.det`:"
      ]
    },
    {
      "cell_type": "code",
      "execution_count": null,
      "metadata": {
        "collapsed": true,
        "id": "LF-9p43cr-Dm"
      },
      "outputs": [],
      "source": [
        "# Your code here"
      ]
    },
    {
      "cell_type": "markdown",
      "metadata": {
        "id": "XkP5Lz39r-Dn"
      },
      "source": [
        "Разница заметна невооружённым взглядом!"
      ]
    },
    {
      "cell_type": "markdown",
      "metadata": {
        "id": "P-Lw8ufLr-Dn"
      },
      "source": [
        "## Часть 4. Матричные вычисления"
      ]
    },
    {
      "cell_type": "markdown",
      "metadata": {
        "id": "vhYgy7k_r-Do"
      },
      "source": [
        "Вы уже видели, что использования циклов (и самописных вычислений в целом) в numpy лучше по возможности избегать, и важно уметь находить способы делать всё библиотечными средствами.\n",
        "\n",
        "В качестве примера рассмотрим две задачи:\n",
        "\n",
        "**1.** Предположим, нужно вычислить суммы элементов в каждой строке матрицы `A`. Ясно, что можно написать простую функцию с двумя циклами, которая это посчитает, но так лучше не делать. Правильный способ такой:\n",
        "```\n",
        "A.sum(axis=1)\n",
        "```\n",
        "Параметр `axis=1` означает, что суммы берутся по строкам. Если вы хотите просуммировать по столбцам, укажите `axis=0`. Если вообще пропустить параметр `axis` (вызвать `A.sum()`), то функция вернёт сумму *всех* элементов матрицы.\n",
        "\n",
        "**2.** Теперь допустим, что нам нужно каждый столбец матрицы `A` умножить на некоторое число. Более точно, пусть у нас есть (одномерный) вектор `w = np.array([w_1,...,w_n])`, и мы должны `i`-й столбец `A` умножить на число `w_i`. Опять же, это можно сделать в пару циклов, но лучше использовать операцию поэлементного умножения:\n",
        "```\n",
        "A * w.reshape((1,n))\n",
        "```\n",
        "Оператор `reshape` нужен для того, чтобы из одномерного вектора сделать вектор-строку.\n",
        "\n",
        "Аналогично, если на числа `w_1,...,w_n` умножаются *строки* матрицы, нужно превратить `w` в вектор-столбец:\n",
        "```\n",
        "A * w.reshape((n,1))\n",
        "```"
      ]
    },
    {
      "cell_type": "markdown",
      "metadata": {
        "id": "Hat1t__0r-Do"
      },
      "source": [
        "Дальше вам будет предложено попрактиковаться в матричных вычислениях. В следующих трёх заданиях нельзя пользоваться циклами, а также конструкциями `map` и `reduce` и им подобными; вместо этого постарайтесь свести всё к матричным операциям из `numpy` (но, опять же, не `np.vectorize` или чему-то подобному). Чтобы убедиться, что получилось именно то, что нужно, пишите собственные тесты со случайными матрицами."
      ]
    },
    {
      "cell_type": "markdown",
      "metadata": {
        "id": "kMJB7H_Rr-Dp"
      },
      "source": [
        "**Задание 4.1 [1 балл]** Напишите функцию `prod_and_sq_sum(A)`, вычисляющую произведение диагональных элементов, а также сумму квадратов диагональных элементов квадратной матрицы `A`."
      ]
    },
    {
      "cell_type": "code",
      "execution_count": null,
      "metadata": {
        "collapsed": true,
        "id": "_y-KXozGr-Dp"
      },
      "outputs": [],
      "source": [
        "# Your code here"
      ]
    },
    {
      "cell_type": "markdown",
      "metadata": {
        "id": "BmTUHs8Ar-Dp"
      },
      "source": [
        "**Задание 4.2 [1.5 балла]** Для матриц `A` и `B` размера $m\\times n$ обозначим через $a_1,\\ldots,a_n$ и $b_1,\\ldots,b_n$ соответственно их столбцы; пусть также $\\lambda_1, \\ldots, \\lambda_n$ – некоторые числа. Напишите функцию `f(A, B, lmbd, k)`, вычисляющую\n",
        "\n",
        "$$\\sum_{i=1}^{\\min(k,n)}\\lambda_ia_ib_i^T$$"
      ]
    },
    {
      "cell_type": "code",
      "execution_count": null,
      "metadata": {
        "collapsed": true,
        "id": "rXVb6AARr-Dq"
      },
      "outputs": [],
      "source": [
        "# Your code here"
      ]
    },
    {
      "cell_type": "markdown",
      "metadata": {
        "id": "RFlCOb_1r-Dq"
      },
      "source": [
        "**Задание 4.3 [1.5 балла]** Напишите функцию `get_diag(A,B)`, принимающую две квадратных матрицы матрицы `A` и `B` одного размера и возвращающую вектор диагональных элементов произведения `AB`, не вычисляя произведение целиком."
      ]
    },
    {
      "cell_type": "code",
      "execution_count": null,
      "metadata": {
        "collapsed": true,
        "id": "UafXckVtr-Dr"
      },
      "outputs": [],
      "source": [
        "# Your code here"
      ]
    },
    {
      "cell_type": "markdown",
      "metadata": {
        "id": "jjJJYMLcr-Dv"
      },
      "source": [
        "## Часть 5 (бонус). Метод Гаусса или обратные матрицы?"
      ]
    },
    {
      "cell_type": "markdown",
      "metadata": {
        "id": "Pu8CLGhmr-Dw"
      },
      "source": [
        "**Задание 5.1 [1.5 балла]** Пусть нам дано матричное уравнение $Ax = B$, где $A$ – матрица размера $n\\times n$, а $B$ – матрица размера $n\\times m$ (отметим, что это уравнение можно интерпретировать как $m$ систем с векторными правыми частями и однаковыми левыми). Вообще говоря, методов решения таких уравнений очень много, но мы пока рассмотрим два из них, с которыми вы уже хорошо знакомы.\n",
        "1. Метод Гаусса;\n",
        "2. Умножение на обратную матрицу: $x = A^{-1}B$.\n",
        "\n",
        "В этом задании вы попробуете ответить на вопрос о том, какой из этих методов эффективнее. Проведите два эксперимента:\n",
        "- сравните скорости решения системы при фиксированном `m = 10` и `n`, изменяющемся в пределах от 10 до 1000, например, для `n=10, 50, 100, 200, 500, 1000` (рост числа неизвестных при фиксированном количестве правых частей);\n",
        "- сравните скорости решения системы при фиксированном `n = 100` и `m`, меняющемся от 10 до 10000, например, для `m = 10, 100, 500, 1000, 2000, 5000, 10000` (рост числа правых частей при фиксированном числе неизвестных).\n",
        "\n",
        "При проведении экспериментов не возбраняется использовать циклы `for`.\n",
        "\n",
        "Эксперименты проведите на случайных матрицах, созданных с помощью функции `numpy.random.rand`. Постройте графики времени выполнения функции от размерности (лучше в логарифмическом масштабе). Сделайте выводы (в письменном виде!) о том, какой из методов оказывается лучше в каких обстоятельствах.\n",
        "\n",
        "Чтобы всё это не казалось вам чёрной магией, найдите число операций (суммарно сложения, умножения и деления), необходимых для решения системы каждым из методов. Обратите внимания на члены суммарной степени 3 (суммарной по $m$ и $n$; члены меньшего порядка можете даже не считать). Постарайтесь объяснить полученные ранее результаты."
      ]
    },
    {
      "cell_type": "code",
      "execution_count": null,
      "metadata": {
        "collapsed": true,
        "id": "MxNqxkTbr-Dw"
      },
      "outputs": [],
      "source": [
        "# Your code here"
      ]
    }
  ],
  "metadata": {
    "colab": {
      "collapsed_sections": [
        "jjJJYMLcr-Dv"
      ],
      "provenance": []
    },
    "kernelspec": {
      "display_name": "Python 3 (ipykernel)",
      "language": "python",
      "name": "python3"
    },
    "language_info": {
      "codemirror_mode": {
        "name": "ipython",
        "version": 3
      },
      "file_extension": ".py",
      "mimetype": "text/x-python",
      "name": "python",
      "nbconvert_exporter": "python",
      "pygments_lexer": "ipython3",
      "version": "3.9.12"
    }
  },
  "nbformat": 4,
  "nbformat_minor": 0
}