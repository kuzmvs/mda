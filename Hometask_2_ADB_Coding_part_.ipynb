{
  "cells": [
    {
      "cell_type": "code",
      "execution_count": 52,
      "metadata": {
        "id": "1CUi7JibJFms"
      },
      "outputs": [],
      "source": [
        "import numpy as np\n",
        "import copy as cp\n",
        "import matplotlib.pyplot as plt"
      ]
    },
    {
      "cell_type": "markdown",
      "metadata": {
        "id": "DByxpqmGHHp1"
      },
      "source": [
        "### Задача 1. (1 балл)\n",
        "\n",
        "Сделайте задания ниже, используя библиотеки numpy и/или scipy."
      ]
    },
    {
      "cell_type": "markdown",
      "metadata": {
        "id": "0VsmpAItHHp3"
      },
      "source": [
        "1. Найдите определитель матрицы\n",
        "\n",
        "$$ \\begin{pmatrix} 1 & 6 & 4 & 2 & 4 \\\\ 4 & 3 & 1 & 34 & 1 \\\\ 45 & 4 & 1 & 3 & 4 \\\\ 12 & 7 & 11 & 2 & 0 \\\\ 43 & 42 & 10 & 1 & 2 \\end{pmatrix}$$"
      ]
    },
    {
      "cell_type": "code",
      "execution_count": 2,
      "metadata": {
        "id": "fADpV22kTxc8"
      },
      "outputs": [
        {
          "name": "stdout",
          "output_type": "stream",
          "text": [
            "Определитель: 2366668.9999999986\n"
          ]
        }
      ],
      "source": [
        "m_1 = np.array([\n",
        "    [1, 6, 4, 2, 4],\n",
        "    [4, 3, 1, 34, 1],\n",
        "    [45, 4, 1, 3, 4],\n",
        "    [12, 7, 11, 2, 0],\n",
        "    [43, 42, 10, 1, 2]\n",
        "])\n",
        "det_m_1 = np.linalg.det(m_1)\n",
        "print(f\"Определитель матрицы: {det_m_1}\")"
      ]
    },
    {
      "cell_type": "markdown",
      "metadata": {
        "id": "ovYSt30bHHp7"
      },
      "source": [
        "2. Найдите матрицу, обратную матрице\n",
        "\n",
        "$$ \\begin{pmatrix} 1 & 12 & 3 & 2 \\\\ 4 & 30 & 0 & 1 \\\\ 12 & 4 & 3 & 5 \\\\ 1 & 5 & 1 & 10  \\end{pmatrix}$$\n"
      ]
    },
    {
      "cell_type": "code",
      "execution_count": 3,
      "metadata": {
        "id": "BJC5FiMpTx3B"
      },
      "outputs": [
        {
          "name": "stdout",
          "output_type": "stream",
          "text": [
            "Обратная матрица: [[-7.43236448e-02  2.34335714e-02  8.41798250e-02 -2.95685407e-02]\n",
            " [ 1.09624862e-02  3.03731268e-02 -1.10630594e-02  3.01719803e-04]\n",
            " [ 3.35311274e-01 -1.26018304e-01  1.94106407e-02 -6.41657447e-02]\n",
            " [-3.15800060e-02 -4.92809011e-03 -4.82751685e-03  1.09222569e-01]]\n"
          ]
        }
      ],
      "source": [
        "m_2 = np.array([\n",
        "    [1, 12, 3, 2],\n",
        "    [4, 30, 0, 1],\n",
        "    [12, 4, 3, 5],\n",
        "    [1, 5, 1, 10]\n",
        "])\n",
        "inv_m_2= np.linalg.inv(m_2)\n",
        "print(f\"Обратная матрица: {inv_m_2}\")"
      ]
    },
    {
      "cell_type": "markdown",
      "metadata": {
        "id": "jAVkO5tYHHp9"
      },
      "source": [
        "3. Найдите собственные значения матрицы\n",
        "$$ \\begin{pmatrix} 1 & 10 & 3 & 12 \\\\ 3 & 20 & 0 & 2 \\\\ 11 & 3 & 3 & 6 \\\\ 1 & 8 & 1 & 10   \\end{pmatrix}$$\n"
      ]
    },
    {
      "cell_type": "code",
      "execution_count": 4,
      "metadata": {
        "id": "vLpgBnDKczRw"
      },
      "outputs": [
        {
          "name": "stdout",
          "output_type": "stream",
          "text": [
            "Собственные значения: [24.07073984 -3.82947026  4.1150109   9.64371953]\n"
          ]
        }
      ],
      "source": [
        "m_3 = np.array([\n",
        "    [1, 10, 3, 12],\n",
        "    [3, 20, 0, 2],\n",
        "    [11, 3, 3, 6],\n",
        "    [1, 8, 1, 10]\n",
        "])\n",
        "eig_m_3 = np.linalg.eigvals(m_3)\n",
        "print(f\"Собственные значения матрицы: {eig_m_3}\")"
      ]
    },
    {
      "cell_type": "markdown",
      "metadata": {
        "id": "k43Pgpz5HHp-"
      },
      "source": [
        "4. Найдите спектральное разложение матрицы\n",
        "\n",
        "$$ \\begin{pmatrix} 1 & 10 & 3 & 12 \\\\ 3 & 20 & 0 & 2 \\\\ 11 & 3 & 3 & 6 \\\\ 1 & 8 & 1 & 10   \\end{pmatrix}$$"
      ]
    },
    {
      "cell_type": "code",
      "execution_count": 5,
      "metadata": {},
      "outputs": [
        {
          "name": "stdout",
          "output_type": "stream",
          "text": [
            "Собственные значения: [24.07073984 -3.82947026  4.1150109   9.64371953]\n",
            "Собственные векторы: [[-0.52393658 -0.51316051  0.19831329  0.43097922]\n",
            " [-0.58401432  0.07006812 -0.01518686 -0.17116613]\n",
            " [-0.47136585  0.85294691  0.96393249  0.85289473]\n",
            " [-0.40278031 -0.06510238 -0.1768484   0.23985338]]\n"
          ]
        }
      ],
      "source": [
        "m_4 = np.array([\n",
        "    [1, 10, 3, 12],\n",
        "    [3, 20, 0, 2],\n",
        "    [11, 3, 3, 6],\n",
        "    [1, 8, 1, 10]\n",
        "])\n",
        "eigen_vals, eigen_vectors = np.linalg.eig(m_4)\n",
        "print(f\"Собственные значения матрицы: {eigen_vals}\")\n",
        "print(f\"Собственные векторы матрицы: {eigen_vectors}\")"
      ]
    },
    {
      "cell_type": "markdown",
      "metadata": {
        "id": "i1lFQ95lHHp_"
      },
      "source": [
        "### Задача 2 (0.5)\n",
        "\n",
        "Рассмотрим задачу:\n",
        "\n",
        "Сколько существует 5-значных чисел, которые начинаются с цифры 2 или 4, содержат только четные цифры и при этом каждая цифра повторяется не более трёх раз?"
      ]
    },
    {
      "cell_type": "markdown",
      "metadata": {
        "id": "BsRKh50-HHp_"
      },
      "source": [
        "1. Приведите \"математическое\" решение этой задачи. (0.1).\n",
        "2. Напишите код на python, который перебирает все числа, проверяет, удовлетворяют ли они условию и в конце выводит количество нужных чисел. (0.4)"
      ]
    },
    {
      "cell_type": "code",
      "execution_count": 53,
      "metadata": {},
      "outputs": [
        {
          "data": {
            "text/plain": [
              "'\\nПункт 1\\n  Поскольку первая цифра 2 или 4, то уже есть два варианта размещения - 2!.\\n  Далее, на каждом месте может быть по одному сочетанию из 5 - 5**4.\\n  Но подсчитаны в двойном объеме случаи для 2 и 4, которые не должны попадать в выборку:\\n    - 20000/40000 = 1 + 1 = 2\\n    - 2(02468)222/4(02468)444 = 5 + 5 = 10\\n    - 22(02468)22/44(02468)44 = 5 + 5 = 10\\n    - 222(02468)2/444(02468)4 = 5 + 5 = 10\\n    - 2222(02468)/4444(02468) = 5 + 5 = 10\\n  Итого:\\n    Общее количество комбирнаций с повторениями = 2! * 5**4 = 1 * 2 * 25 * 25 = 2 * 625 = 1250\\n    Общее количество повторений = 2 + 10 + 10 + 10 + 10 = 42\\n    Комбирнации без повторений = 1250 - 42 = 1208\\n    Ответ: Существует 1208 5-значных чисел, которые начинаются с цифры 2 или 4,\\n    содержат только четные цифры и при этом каждая цифра повторяется не более трёх раз.\\n'"
            ]
          },
          "execution_count": 53,
          "metadata": {},
          "output_type": "execute_result"
        }
      ],
      "source": [
        "\"\"\"\n",
        "Пункт 1\n",
        "  Поскольку первая цифра 2 или 4, то уже есть два варианта размещения - 2!.\n",
        "  Далее, на каждом месте может быть по одному сочетанию из 5 - 5**4.\n",
        "  Но подсчитаны в двойном объеме случаи для 2 и 4, которые не должны попадать в выборку:\n",
        "    - 20000/40000 = 1 + 1 = 2\n",
        "    - 2(02468)222/4(02468)444 = 5 + 5 = 10\n",
        "    - 22(02468)22/44(02468)44 = 5 + 5 = 10\n",
        "    - 222(02468)2/444(02468)4 = 5 + 5 = 10\n",
        "    - 2222(02468)/4444(02468) = 5 + 5 = 10\n",
        "  Итого:\n",
        "    Общее количество комбирнаций с повторениями = 2! * 5**4 = 1 * 2 * 25 * 25 = 2 * 625 = 1250\n",
        "    Общее количество повторений = 2 + 10 + 10 + 10 + 10 = 42\n",
        "    Комбирнации без повторений = 1250 - 42 = 1208\n",
        "    Ответ: Существует 1208 5-значных чисел, которые начинаются с цифры 2 или 4,\n",
        "    содержат только четные цифры и при этом каждая цифра повторяется не более трёх раз.\n",
        "\"\"\""
      ]
    },
    {
      "cell_type": "code",
      "execution_count": 25,
      "metadata": {},
      "outputs": [],
      "source": [
        "# Пункт 2\n",
        "def check_number(num):\n",
        "    # Преобразованеи числа в строку.\n",
        "    num_str = str(num)\n",
        "    \n",
        "    # Проверка первой цифры.\n",
        "    if num_str[0] not in '24':\n",
        "        return False\n",
        "    \n",
        "    # Проверка, что все цифры четные.\n",
        "    for digit in num_str:\n",
        "        if int(digit) % 2 != 0:\n",
        "            return False\n",
        "    \n",
        "    # Проверка количества повторений.\n",
        "    for digit in set(num_str):\n",
        "        if num_str.count(digit) > 3:\n",
        "            # Числа, которые не подошли.\n",
        "            # print(num)\n",
        "            return False\n",
        "    \n",
        "    return True"
      ]
    },
    {
      "cell_type": "code",
      "execution_count": 26,
      "metadata": {
        "id": "VCq9ZL-QUdB_"
      },
      "outputs": [
        {
          "name": "stdout",
          "output_type": "stream",
          "text": [
            "Количество подходящих чисел: 1208\n"
          ]
        }
      ],
      "source": [
        "# Перебор всех 5-значных чисел, начиная с 2хххх\n",
        "count = 0\n",
        "for num in range(20000, 100000):\n",
        "    if check_number(num):\n",
        "        count += 1\n",
        "\n",
        "print(f\"Количество подходящих чисел: {count}\")"
      ]
    },
    {
      "cell_type": "markdown",
      "metadata": {
        "id": "WXiChW49HHqA"
      },
      "source": [
        "### Задача 3 (1 балл)\n",
        "\n",
        "\n",
        "*Это задача на \"отлично (превосходит ожидания)\" по шкале перевода оценок НИУ ВШЭ:  https://www.hse.ru/studyspravka/Scale*\n",
        "\n",
        "*Но она на самом деле не такая уж сложная.*\n",
        "\n",
        "\n",
        "\n",
        "a. (0.8). Напишите свою функцию-реализацию метода Гаусса для решения систем линейных уравнений.\n",
        "\n",
        "Программа должна принимать на вход Матрицу A и вектор-столбец b и решать систему уравнений $Ax=b$.\n",
        "\n",
        "Вы можете самостотельно определить формат входных и выходных данных. Например, вы можете хранить A как двумерный numpy массив A или список списков, вектор-столбец b - как одномерный numpy-массив или список (list). Программа должна возвращать вектор x. Отдельно подумайте над ситуациями, когда решений нет или бесконечно много.\n",
        "\n",
        "Разрешено использовать numpy, но только для операций над массивами (нельзя использовать numpy.linalg, за исключением numpy.linalg.det, если понадобится).\n",
        "\n",
        "b. (0.2).Напишите свою функцию-реализацию метода Крамера для решения систем линейных уравнений.\n",
        "\n",
        "Все дополнительные условия - как в п.а. Если система не может быть решена методом Крамера, функция должна вывести соответствующее сообщение.\n",
        "\n"
      ]
    },
    {
      "cell_type": "code",
      "execution_count": 47,
      "metadata": {},
      "outputs": [],
      "source": [
        "A_1 = np.array([\n",
        "    [1, 6, 1],\n",
        "    [0, 5, 2],\n",
        "    [2, 4, 1]\n",
        "])\n",
        "b = np.array([1,2,3])"
      ]
    },
    {
      "cell_type": "code",
      "execution_count": 116,
      "metadata": {},
      "outputs": [],
      "source": [
        "# Пункт \"A\"\n",
        "def gauss_impl(A, b):\n",
        "    \"\"\"\n",
        "    Реализация метода Гаусса для решения системы линейных уравнений Ax = b\n",
        "\n",
        "    Параметры:\n",
        "    A : numpy.ndarray или list\n",
        "        Квадратная матрица коэффициентов размера (n x n)\n",
        "    b : numpy.ndarray или list\n",
        "        Вектор-столбец свободных членов размера (n)\n",
        "\n",
        "    Возвращает:\n",
        "    numpy.ndarray\n",
        "        Вектор решения x размера (n)\n",
        "\n",
        "    Исключения:\n",
        "    ValueError\n",
        "        Если матрица вырождена (определитель равен 0)\n",
        "        \n",
        "    Пример:\n",
        "    >>> A = np.array([[1, 6, 1], [0, 5, 2], [2, 4, 1]])\n",
        "    >>> b = np.array([1, 2, 3]) \n",
        "    >>> gauss_impl(A, b)\n",
        "    array([1.27272727 -0.36363636  1.90909091])\n",
        "    \"\"\"\n",
        "    \n",
        "    n = len(A)\n",
        "    print(f\"A={A}\")\n",
        "    print(f\"b={b}\")\n",
        "    \n",
        "    # Создание расширенной матрицы.\n",
        "    Ab = np.concatenate((A, b.reshape(n, 1)), axis=1)\n",
        "    Ab = Ab.astype(float)\n",
        "    print(f\"Ab={Ab}\")\n",
        "    print(f\"len(a)=n={n}\")\n",
        "    \n",
        "    # Прямой ход\n",
        "    for i in range(n):\n",
        "        print(f\"\\nПрямой ход для i={i}\")\n",
        "        # Поиск максимального элемента для частичного выбора\n",
        "        col_i = Ab[i:, i]\n",
        "        print(f\"col_i={col_i}\")\n",
        "        max_j = abs(col_i).argmax() + i\n",
        "        print(f\"max_j={max_j}\")\n",
        "        \n",
        "        if Ab[max_j, i] == 0:\n",
        "            raise ValueError(\"Матрица является вырожденной\")\n",
        "        \n",
        "        # Перестановка строк местами\n",
        "        if max_j != i:\n",
        "            print(f\"Ab before swap =\\n{Ab}\")\n",
        "            Ab[i], Ab[max_j] = cp.deepcopy(Ab[max_j]), cp.deepcopy(Ab[i])\n",
        "            print(f\"Ab after swap=\\n{Ab}\")\n",
        "            \n",
        "        # Нормализация строки\n",
        "        print(f\"Ab before norm =\\n{Ab}\")\n",
        "        Ab[i] = Ab[i] / Ab[i, i]\n",
        "        print(f\"Ab after norm =\\n{Ab}\")\n",
        "        \n",
        "        # Исключение переменной из уравнений ниже\n",
        "        for j in range(i + 1, n):\n",
        "            print(f\"Ab before exclude =\\n{Ab}\")\n",
        "            print(f\"Ab[j] before =\\n{Ab[j]}\")\n",
        "            Ab[j] -= Ab[i] * Ab[j, i]\n",
        "            print(f\"Ab[j] after =\\n{Ab[j]}\")\n",
        "            print(f\"Ab after exclude =\\n{Ab}\")\n",
        "    \n",
        "    # Обратный ход\n",
        "    x = np.zeros(n)\n",
        "    for i in range(n-1, -1, -1):\n",
        "        x[i] = Ab[i, -1] - np.dot(Ab[i, i+1:n], x[i+1:])\n",
        "    print()\n",
        "    return x"
      ]
    },
    {
      "cell_type": "code",
      "execution_count": 117,
      "metadata": {},
      "outputs": [
        {
          "name": "stdout",
          "output_type": "stream",
          "text": [
            "A=[[1 6 1]\n",
            " [0 5 2]\n",
            " [2 4 1]]\n",
            "b=[1 2 3]\n",
            "Ab=[[1. 6. 1. 1.]\n",
            " [0. 5. 2. 2.]\n",
            " [2. 4. 1. 3.]]\n",
            "len(a)=n=3\n",
            "\n",
            "Прямой ход для i=0\n",
            "col_i=[1. 0. 2.]\n",
            "max_j=2\n",
            "Ab before swap =\n",
            "[[1. 6. 1. 1.]\n",
            " [0. 5. 2. 2.]\n",
            " [2. 4. 1. 3.]]\n",
            "Ab after swap=\n",
            "[[2. 4. 1. 3.]\n",
            " [0. 5. 2. 2.]\n",
            " [1. 6. 1. 1.]]\n",
            "Ab before norm =\n",
            "[[2. 4. 1. 3.]\n",
            " [0. 5. 2. 2.]\n",
            " [1. 6. 1. 1.]]\n",
            "Ab after norm =\n",
            "[[1.  2.  0.5 1.5]\n",
            " [0.  5.  2.  2. ]\n",
            " [1.  6.  1.  1. ]]\n",
            "Ab before exclude =\n",
            "[[1.  2.  0.5 1.5]\n",
            " [0.  5.  2.  2. ]\n",
            " [1.  6.  1.  1. ]]\n",
            "Ab[j] before =\n",
            "[0. 5. 2. 2.]\n",
            "Ab[j] after =\n",
            "[0. 5. 2. 2.]\n",
            "Ab after exclude =\n",
            "[[1.  2.  0.5 1.5]\n",
            " [0.  5.  2.  2. ]\n",
            " [1.  6.  1.  1. ]]\n",
            "Ab before exclude =\n",
            "[[1.  2.  0.5 1.5]\n",
            " [0.  5.  2.  2. ]\n",
            " [1.  6.  1.  1. ]]\n",
            "Ab[j] before =\n",
            "[1. 6. 1. 1.]\n",
            "Ab[j] after =\n",
            "[ 0.   4.   0.5 -0.5]\n",
            "Ab after exclude =\n",
            "[[ 1.   2.   0.5  1.5]\n",
            " [ 0.   5.   2.   2. ]\n",
            " [ 0.   4.   0.5 -0.5]]\n",
            "\n",
            "Прямой ход для i=1\n",
            "col_i=[5. 4.]\n",
            "max_j=1\n",
            "Ab before norm =\n",
            "[[ 1.   2.   0.5  1.5]\n",
            " [ 0.   5.   2.   2. ]\n",
            " [ 0.   4.   0.5 -0.5]]\n",
            "Ab after norm =\n",
            "[[ 1.   2.   0.5  1.5]\n",
            " [ 0.   1.   0.4  0.4]\n",
            " [ 0.   4.   0.5 -0.5]]\n",
            "Ab before exclude =\n",
            "[[ 1.   2.   0.5  1.5]\n",
            " [ 0.   1.   0.4  0.4]\n",
            " [ 0.   4.   0.5 -0.5]]\n",
            "Ab[j] before =\n",
            "[ 0.   4.   0.5 -0.5]\n",
            "Ab[j] after =\n",
            "[ 0.   0.  -1.1 -2.1]\n",
            "Ab after exclude =\n",
            "[[ 1.   2.   0.5  1.5]\n",
            " [ 0.   1.   0.4  0.4]\n",
            " [ 0.   0.  -1.1 -2.1]]\n",
            "\n",
            "Прямой ход для i=2\n",
            "col_i=[-1.1]\n",
            "max_j=2\n",
            "Ab before norm =\n",
            "[[ 1.   2.   0.5  1.5]\n",
            " [ 0.   1.   0.4  0.4]\n",
            " [ 0.   0.  -1.1 -2.1]]\n",
            "Ab after norm =\n",
            "[[ 1.          2.          0.5         1.5       ]\n",
            " [ 0.          1.          0.4         0.4       ]\n",
            " [-0.         -0.          1.          1.90909091]]\n",
            "\n",
            "Решение СЛАУ методом Гаусса: [ 1.27272727 -0.36363636  1.90909091]\n"
          ]
        }
      ],
      "source": [
        "print(f\"Решение СЛАУ методом Гаусса: {gauss_impl(A_1, b)}\")"
      ]
    },
    {
      "cell_type": "code",
      "execution_count": 115,
      "metadata": {
        "id": "7JZqUwImc6_c"
      },
      "outputs": [],
      "source": [
        "# Пункт \"B\"\n",
        "def kramer_impl(A, b):\n",
        "    \"\"\"\n",
        "    Решает систему линейных алгебраических уравнений (СЛАУ) методом Крамера.\n",
        "\n",
        "    Параметры:\n",
        "    A : numpy.ndarray или list\n",
        "        Квадратная матрица коэффициентов размера (n x n)\n",
        "    b : numpy.ndarray или list\n",
        "        Вектор-столбец свободных членов размера (n)\n",
        "\n",
        "    Возвращает:\n",
        "    numpy.ndarray\n",
        "        Вектор решения x размера (n)\n",
        "\n",
        "    Исключения:\n",
        "    ValueError\n",
        "        Если определитель матрицы A равен 0 (система не имеет единственного решения)\n",
        "        \n",
        "    Пример:\n",
        "    >>> A = np.array([[1, 6, 1], [0, 5, 2], [2, 4, 1]])\n",
        "    >>> b = np.array([1, 2, 3])\n",
        "    >>> kramer_impl(A, b)\n",
        "    array([1.27272727 -0.36363636  1.90909091])\n",
        "    \"\"\"\n",
        "    \n",
        "    # Расчёт определителя матрицы.\n",
        "    det_A = np.linalg.det(A)\n",
        "    \n",
        "    # Проверка определителя матрицы.\n",
        "    if det_A == 0:\n",
        "        raise ValueError(\"Определитель равен 0, система не имеет решения\")\n",
        "    \n",
        "    n = len(A)\n",
        "    x = np.zeros(n)\n",
        "    \n",
        "    for i in range(n):\n",
        "        # Создание матрицы Ai с вектором b вместо столбца i.\n",
        "        Ai = cp.deepcopy(A)\n",
        "        Ai[:, i] = b\n",
        "        \n",
        "        # Вычисление корня уравнения через часное определителей матриц.\n",
        "        x[i] = np.linalg.det(Ai) / det_A\n",
        "    \n",
        "    return x"
      ]
    },
    {
      "cell_type": "code",
      "execution_count": 118,
      "metadata": {},
      "outputs": [
        {
          "name": "stdout",
          "output_type": "stream",
          "text": [
            "Решение СЛАУ методом Крамера: [ 1.27272727 -0.36363636  1.90909091]\n"
          ]
        }
      ],
      "source": [
        "print(f\"Решение СЛАУ методом Крамера: {kramer_impl(A_1, b)}\")"
      ]
    },
    {
      "cell_type": "markdown",
      "metadata": {
        "id": "NwzGdKdNHHqB"
      },
      "source": [
        "### Задача 4 (1 балл)\n",
        "\n",
        "*Это задача на \"отлично (существенно превосходит ожидания)\" по шкале перевода оценок НИУ ВШЭ:  https://www.hse.ru/studyspravka/Scale*.\n",
        "\n",
        "*Даже из команды курса за неё не все готовы были бы взяться.*"
      ]
    },
    {
      "cell_type": "markdown",
      "metadata": {
        "id": "Pw_sKR_FJEwP"
      },
      "source": [
        "Система может находиться в одном из двух состояний $A$ или $B$. Экспериментатор умеет измерять косвенную величину $x$, которая поможет ему определить состояние, в котором находится система. Тем не менее, метод, которым экспериментатор измеряет величину $x$ обладает погрешностью. Будем считать, что функция распределения величины $x$ имеет гауссов вид, причем среднее значение равно $\\pm \\tilde x$ для состояний $A$ и $B$ соответственно, а дисперсия равна $\\sigma^2$ и не зависит от состояния:\n",
        "\n",
        "\\begin{equation}\n",
        "  P(x\\ |\\ A) = \\frac{1}{\\sqrt{2 \\pi \\sigma}}\\exp\\left(\\frac{-(x-\\tilde x)^2}{2 \\sigma^2}\\right), \\quad P(x\\ |\\ B) = \\frac{1}{\\sqrt{2 \\pi \\sigma}}\\exp\\left(\\frac{-(x+\\tilde x)^2}{2 \\sigma^2}\\right).\n",
        "\\end{equation}\n",
        "\n",
        "В случае, когда $\\sigma \\gg \\tilde x$ погрешность метода слишком велика и отдельное измерение не позволяет достоверно определить состояние, в котором находится система. Пусть $\\tilde x = 1$, $\\sigma = 10$ и каждое измерение не изменяет состояния системы. Предлагается выполнить $N$ измерений, чтобы определить состояние системы."
      ]
    },
    {
      "cell_type": "code",
      "execution_count": 122,
      "metadata": {
        "id": "e6sTBdEsJDsS"
      },
      "outputs": [],
      "source": [
        "X_MEAN = 1\n",
        "SIGMA = 10"
      ]
    },
    {
      "cell_type": "markdown",
      "metadata": {
        "id": "DQHMQhYiI3zp"
      },
      "source": [
        "1. (0.3 Балла) Пусть априорные вероятности нахождения системы в состояниях A и B равны друг другу, $P(A) = P(B) = 1/2$. Сгенерируйте состояние системы, а затем проведите $N$ измерений величины $x$ в соотвествии с вероятностями, приведенными выше, получится массив $\\{x_1,x_2, \\dots, x_N\\}$. Изобразите результат на графике, по оси абсцисс отложите $i$ (номер измерения), а по оси ординат $x_i/\\tilde x$. Можно ли определить состояние системы по этому графику? Каким выбрать параметр $N$?"
      ]
    },
    {
      "cell_type": "code",
      "execution_count": 182,
      "metadata": {
        "id": "aEtNcJo7JzPf"
      },
      "outputs": [],
      "source": [
        "def generate_measurements(N, true_state='A'):\n",
        "    \"\"\"\n",
        "    Генерирует N измерений для системы в заданном состоянии и визуализирует результаты.\n",
        "\n",
        "    Параметры:\n",
        "    ----------\n",
        "    N : int\n",
        "        Количество измерений для генерации\n",
        "    true_state : str, optional\n",
        "        Истинное состояние системы ('A' или 'B'), по умолчанию 'A'\n",
        "        Для состояния 'A' среднее значение = +X_MEAN\n",
        "        Для состояния 'B' среднее значение = -X_MEAN\n",
        "\n",
        "    Возвращает:\n",
        "    -----------\n",
        "    numpy.ndarray\n",
        "        Массив из N сгенерированных измерений\n",
        "\n",
        "    Примечания:\n",
        "    -----------\n",
        "    Измерения генерируются из нормального распределения со средним ±X_MEAN\n",
        "    (знак зависит от состояния) и стандартным отклонением SIGMA.\n",
        "    Результаты визуализируются на графике, где:\n",
        "    - По оси X отложены номера измерений\n",
        "    - По оси Y отложены нормированные значения измерений (x/X_MEAN)\n",
        "    - Красная пунктирная линия показывает нулевой уровень\n",
        "    \"\"\"\n",
        "    \n",
        "    x_mean = X_MEAN if true_state == 'A' else -X_MEAN\n",
        "    measurements = np.random.default_rng().normal(x_mean, SIGMA, N)\n",
        "    \n",
        "    plt.figure(figsize=(10, 6))\n",
        "    plt.plot(range(N), measurements/X_MEAN, 'b.')\n",
        "    plt.axhline(y=0, color='r', linestyle='--')\n",
        "    plt.xlabel('Номер измерения')\n",
        "    plt.ylabel('x/x̃')\n",
        "    plt.title(f'Результаты {N} измерений (текущее состояние системы: {true_state})')\n",
        "    plt.grid(True)\n",
        "    plt.show()\n",
        "    \n",
        "    return measurements\n",
        "\n",
        "    \"\"\"\n",
        "    Опытным путем подобран вариант с наблюдениями в количестве 500.\n",
        "    Можно и больше/меньше, но тогда на график надосмотреть более пристально,\n",
        "    чтобы понять куда \"уходит разброс\"\n",
        "    \"\"\""
      ]
    },
    {
      "cell_type": "code",
      "execution_count": 232,
      "metadata": {},
      "outputs": [
        {
          "data": {
            "image/png": "[encoded data removed]",
            "text/plain": [
              "<Figure size 1000x600 with 1 Axes>"
            ]
          },
          "metadata": {},
          "output_type": "display_data"
        }
      ],
      "source": [
        "# Генерируем состояние и измерения\n",
        "N = 500\n",
        "true_state = np.random.choice(['A', 'B'])\n",
        "measurements = generate_measurements(N, true_state)"
      ]
    },
    {
      "cell_type": "markdown",
      "metadata": {
        "id": "-fXbtv6EI0Gl"
      },
      "source": [
        "2. (0.7 Баллов) Попробуем теперь вычислить вероятность нахождения системы в состоянии $A$ при условии проведенных измерений. Вероятность после первого измерения выражается с помощью формулы Байеса как\n",
        "\\begin{equation}\n",
        "  P(A\\ |\\ x_1) = \\frac{P(x_1\\ |\\ A) P(A)}{P(x_1)}, \\quad P(x_1) = P(x_1\\ |\\ A) P(A) + P(x_1\\ |\\ B) P(B).\n",
        "\\end{equation}\n",
        "В соответствии с этими формулами мы можем обновлять наше знание о вероятности нахождения системы в состоянии $A$ и $B$. В начале следующего шага $P(A) = P(A\\ |\\ x_1)$, $P(B) = 1 - P(A\\ |\\ x_1)$ и нам нужно будет учесть аналогичным образом уже измерение $x_2$, чтобы получить обновленнные вероятности. Постройте график $P(A)$ в зависимости от номера шага и прокомментируйте его. Подберите хорошее значение для параметра $N$, объясните свой выбор. Сравните результаты с первым пунктом."
      ]
    },
    {
      "cell_type": "code",
      "execution_count": 185,
      "metadata": {
        "id": "NYXHhln1J0km"
      },
      "outputs": [
        {
          "data": {
            "image/png": "[encoded data removed]",
            "text/plain": [
              "<Figure size 1000x600 with 1 Axes>"
            ]
          },
          "metadata": {},
          "output_type": "display_data"
        }
      ],
      "source": [
        "def update_probability(measurements):\n",
        "    \"\"\"\n",
        "    Обновляет и возвращает историю вероятности состояния A на основе последовательности измерений.\n",
        "\n",
        "    Параметры:\n",
        "    -----------\n",
        "    measurements : numpy.ndarray\n",
        "        Массив измерений.\n",
        "\n",
        "    Возвращает:\n",
        "    -----------\n",
        "    list\n",
        "        Список, содержащий историю вероятности состояния A на основе последовательности измерений.\n",
        "    \"\"\"\n",
        "    \n",
        "    P_A = 0.5  # Начальная вероятность состояния A\n",
        "    P_A_history = [P_A]\n",
        "    \n",
        "    for x in measurements:\n",
        "        # Вычисляем P(x|A) и P(x|B)\n",
        "        P_x_A = np.exp(-(x - X_MEAN)**2/(2*SIGMA**2)) / (np.sqrt(2*np.pi*SIGMA**2))\n",
        "        P_x_B = np.exp(-(x + X_MEAN)**2/(2*SIGMA**2)) / (np.sqrt(2*np.pi*SIGMA**2))\n",
        "        \n",
        "        # Обновляем вероятность по формуле Байеса\n",
        "        P_A = (P_x_A * P_A) / (P_x_A * P_A + P_x_B * (1 - P_A))\n",
        "        P_A_history.append(P_A)\n",
        "    \n",
        "    plt.figure(figsize=(10, 6))\n",
        "    plt.plot(range(len(P_A_history)), P_A_history)\n",
        "    plt.axhline(y=0.5, color='r', linestyle='--')\n",
        "    plt.xlabel('Номер измерения')\n",
        "    plt.ylabel('P(A)')\n",
        "    plt.title('Эволюция вероятности состояния A')\n",
        "    plt.grid(True)\n",
        "    plt.show()\n",
        "    \n",
        "    return P_A_history\n",
        "\n",
        "prob_history = update_probability(measurements)"
      ]
    }
  ],
  "metadata": {
    "colab": {
      "provenance": []
    },
    "kernelspec": {
      "display_name": "Python 3",
      "name": "python3"
    },
    "language_info": {
      "codemirror_mode": {
        "name": "ipython",
        "version": 3
      },
      "file_extension": ".py",
      "mimetype": "text/x-python",
      "name": "python",
      "nbconvert_exporter": "python",
      "pygments_lexer": "ipython3",
      "version": "3.13.1"
    }
  },
  "nbformat": 4,
  "nbformat_minor": 0
}
