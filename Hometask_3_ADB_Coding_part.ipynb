{
  "cells": [
    {
      "cell_type": "markdown",
      "metadata": {
        "id": "rfv1T-hV15Tv"
      },
      "source": [
        "# Лабораторная работа 3"
      ]
    },
    {
      "cell_type": "markdown",
      "metadata": {
        "id": "fgr1DMKW15T4"
      },
      "source": [
        "## Сингулярное разложение и его приложения"
      ]
    },
    {
      "cell_type": "markdown",
      "metadata": {
        "id": "uhwILlIy15T5"
      },
      "source": [
        "Напомним, что сингулярным разложением (SVD, Singular value decomposition) матрицы $A$ размера $m\\times n$ называется представление\n",
        "\n",
        "$$A = U\\Sigma V^T,$$\n",
        "\n",
        "где $U$ — ортогональная матрица размера $m\\times m$, $V$ — ортогональная матрица размера $n\\times n$, $\\Sigma = \\mathrm{diag}(\\sigma_1,\\sigma_2,\\sigma_3,\\ldots)$ — диагональная матрица размера $m\\times n$, в которой $\\sigma_1\\geqslant\\sigma_2\\geqslant\\ldots\\geqslant0$.\n",
        "\n",
        "На самом деле требование, чтобы матрицы $U$ и $V$ были квадратными, избыточно. *Усечённым сингулярным разложением* мы будем называть разложение\n",
        "\n",
        "$$A = U\\Sigma V^T,$$\n",
        "\n",
        "где $U$ и $V$ — матрицы с ортонормированными столбцами размеров $m\\times k$ и $n \\times k$ соответственно, $\\Sigma$ — диагональная матрица размера $k\\times k$, где $k = \\min(m,n)$. Далее мы будем работать исключительно с усечённым разложением."
      ]
    },
    {
      "cell_type": "markdown",
      "metadata": {
        "id": "8vdCDhNM15T7"
      },
      "source": [
        "### Сжатие данных с помощью SVD = построение низкорангового приближения"
      ]
    },
    {
      "cell_type": "markdown",
      "metadata": {
        "id": "ZcBVbQ4R15T8"
      },
      "source": [
        "Введём *норму Фробениуса* матрицы как\n",
        "\n",
        "$$||A||_{frob} = \\sqrt{\\mathrm{tr}{A^TA}} = \\sqrt{\\sum\\limits_{i,j}a^2_{i,j}}$$\n",
        "\n",
        "Иными словами, это обычное евклидово расстояние на пространстве, которое получается, если все матрицы вытянуть в длинные векторы.\n",
        "\n",
        "Зададимся вопросом: как найти матрицу $A_{r}$ ранга $r$, наименее отличающуюся от $A$ по норме Фробениуса (то есть для которой норма разности $||A - A_{r}||_{frob}$ минимальна). Оказывается, это можно сделать с помощью сингулярного разложения:\n",
        "\n",
        "**Теорема.** Пусть $\\Sigma_{r}$ — это матрица, полученная из $\\Sigma$ заменой диагональных элементов $\\sigma_{i}$ ($i > r$) нулями, тогда $A_{r} = U\\Sigma_{r}V^T$.\n",
        "\n",
        "Это можно переписать и в более экономичном виде. Если\n",
        "\n",
        "$$A = \\underbrace{\n",
        "\\begin{pmatrix}\n",
        "u_{11} & \\ldots & u_{1k}\\\\\n",
        "\\vdots & & \\vdots\\\\\n",
        "u_{m1} & \\ldots & u_{mk}\n",
        "\\end{pmatrix}}_{=U}\\cdot\\underbrace{{\n",
        "\\begin{pmatrix}\n",
        "\\sigma_{1} & &\\\\\n",
        " & \\sigma_{2} & \\\\\n",
        " & & \\ddots\n",
        "\\end{pmatrix}}\n",
        "}_{=\\Sigma}\\cdot \\underbrace{\n",
        "\\begin{pmatrix}\n",
        "v_{11} & \\ldots & v_{n1}\\\\\n",
        "\\vdots & & \\vdots\\\\\n",
        "v_{1k} & \\ldots & v_{nk}\n",
        "\\end{pmatrix}}_{=V^T}$$\n",
        "\n",
        "то\n",
        "\n",
        "$$A_{r} = \\underbrace{\n",
        "\\begin{pmatrix}\n",
        "u_{11} & \\ldots & u_{1r}\\\\\n",
        "\\vdots & & \\vdots\\\\\n",
        "u_{m1} & \\ldots & u_{mr}\n",
        "\\end{pmatrix}}_{=U_r}\\cdot\\underbrace{{\n",
        "\\begin{pmatrix}\n",
        "\\sigma_{1} & &\\\\\n",
        " & \\ddots & \\\\\n",
        " & & \\sigma_{r}\n",
        "\\end{pmatrix}}\n",
        "}_{=\\Sigma_r}\\cdot \\underbrace{\n",
        "\\begin{pmatrix}\n",
        "v_{11} & \\ldots & v_{n1}\\\\\n",
        "\\vdots & & \\vdots\\\\\n",
        "v_{1r} & \\ldots & v_{nr}\n",
        "\\end{pmatrix}}_{=V^T_r}$$\n",
        "\n",
        "При этом\n",
        "\n",
        "$$||A - A_{r}||_{frob} = \\sqrt{\\sum\\limits_{i\\geqslant r+1} \\sigma_{i}^2}$$\n",
        "\n",
        "Если сингулярные значения матрицы падают достаточно быстро (а в реальных задачах часто бывает именно так), то норма разности будет малой при сравнительно небольшом значении $r$.\n",
        "\n",
        "На хранение исходной матрицы нам требовалось $m\\times n$ памяти. Теперь же, если мы будем хранить отдельно $U_r$, $V_r$ и диагональные элементы $\\Sigma_r$, затраты памяти составят $mr + nr + r = r(m + n + 1)$."
      ]
    },
    {
      "cell_type": "markdown",
      "metadata": {
        "id": "F99NO4WV15UA"
      },
      "source": [
        "**Разложение на компоненты ранга 1**\n",
        "\n",
        "Обозначим через $u_1,\\ldots, u_k$ столбцы матрицы $U$, а через $v_1, \\ldots, v_k$ столбцы матрицы $V$. Тогда имеет место равенство\n",
        "\n",
        "$$A = u_1\\sigma_{1}v_1^T + u_2\\sigma_{2}v_2^T + u_3\\sigma_{3}v_3^T + \\ldots$$\n",
        "\n",
        "Матрицу $u_k\\sigma_{k}v_k^T = \\sigma_{k}u_kv_k^T$ мы будем называть $k$-й компонентой ранга 1 матрицы $A$. Отметим, что слагаемые в этой сумме ортогональны относительно скалярного произведения $(X, Y) = \\mathrm{tr}(X^TY)$ (порождающего норму Фробениуса).\n",
        "\n",
        "Как нетрудно заметить,\n",
        "\n",
        "$$A_{r} = \\sigma_{1}u_1v_1^T + \\sigma_{2}u_2v_2^T + \\ldots + \\sigma_{r}u_rv_r^T$$"
      ]
    },
    {
      "cell_type": "markdown",
      "metadata": {
        "id": "BJ83NKsy15UI"
      },
      "source": [
        "**Технические детали (SVD в Питоне)**\n",
        "\n",
        "Есть несколько способов сделать в Питоне сингулярное разложение; мы пока предлагаем Вам использовать\n",
        "\n",
        "`import scipy.linalg as sla`\n",
        "\n",
        "`U, S, Vt = sla.svd(X, full_matrices=False)`\n",
        "\n",
        "Для ознакомления с особенностями этой функции рекомендуем обратиться к [документации](https://docs.scipy.org/doc/scipy/reference/generated/scipy.linalg.svd.html) (в частности, обратите внимание на то, какие именно объекты она возвращает)."
      ]
    },
    {
      "cell_type": "markdown",
      "metadata": {
        "id": "8Z68OQHu15UM"
      },
      "source": [
        "### Правила оформления графиков\n",
        "\n",
        "При работе с данными часто неудобно делать какие-то выводы, если смотреть на таблицу и числа в частности, поэтому важно уметь визуализировать данные.\n",
        "\n",
        "У matplotlib, конечно же, есть [документация](https://matplotlib.org/users/index.html) с большим количеством [примеров](https://matplotlib.org/examples/), но для начала достаточно знать про несколько основных типов графиков:\n",
        "- plot — обычный поточечный график, которым можно изображать кривые или отдельные точки;\n",
        "- hist — гистограмма, показывающая распределение некоторой величины;\n",
        "- scatter — график, показывающий взаимосвязь двух величин;\n",
        "- bar — столбцовый график, показывающий взаимосвязь количественной величины от категориальной.\n",
        "\n",
        "Ещё одна библиотека для визуализации: [seaborn](https://jakevdp.github.io/PythonDataScienceHandbook/04.14-visualization-with-seaborn.html). Это настройка над matplotlib, иногда удобнее и красивее делать визуализации через неё.\n",
        "\n",
        "Не забывайте про базовые принципы построения приличных графиков:\n",
        "- оси должны быть подписаны, причём не слишком мелко;\n",
        "- у графика должно быть название;\n",
        "- если изображено несколько графиков, то необходима поясняющая легенда;\n",
        "- для точек из разных выборок, необходимо использовать разные цвета;\n",
        "- все линии на графиках должны быть чётко видны (нет похожих цветов или цветов, сливающихся с фоном);\n",
        "- размер графика должен быть таким, чтобы по нему несложно было сделать необходимые выводы о данных;\n",
        "- если отображена величина, имеющая очевидный диапазон значений (например, проценты могут быть от 0 до 100), то желательно масштабировать ось на весь диапазон значений (исключением является случай, когда вам необходимо показать малое отличие, которое незаметно в таких масштабах).\n",
        "\n",
        "Помните, что проверяющий имеет право снизить оценку за неопрятные графики."
      ]
    },
    {
      "cell_type": "markdown",
      "metadata": {
        "id": "jXzoQkRu15UO"
      },
      "source": [
        "### Оценивание\n",
        "\n",
        "Обратите внимание, что в каждом разделе есть задания на написания кода и есть вопросы. Вопросы дополняют задачи и направлены на то, чтобы проинтерпретировать или обосновать происходящее. Код без интерпретации не имеет смысла, поэтому отвечать на вопросы обязательно — за отсутствие ответов мы будем снижать баллы за задачи. Если Вы ответите на вопросы, но не напишете корректный код к соответствующим оцениваемым задачам, то в подавляющем большинстве случаев баллы за такое выставлены не будут."
      ]
    },
    {
      "cell_type": "markdown",
      "metadata": {
        "id": "uxL6yBcy15US"
      },
      "source": [
        "### Задание 1. Сжатие данных с помощью SVD"
      ]
    },
    {
      "cell_type": "markdown",
      "metadata": {
        "id": "mBfms6ws15UT"
      },
      "source": [
        "Загрузите выложенную по ссылке https://drive.google.com/file/d/1_2H5SJGM2TmBCs3b95aXHIH6R8ANd4ug/view?usp=sharing фотографию."
      ]
    },
    {
      "cell_type": "code",
      "execution_count": null,
      "metadata": {
        "id": "1uoLZe1w15UW"
      },
      "outputs": [],
      "source": [
        "import numpy as np\n",
        "from skimage.io import imread\n",
        "\n",
        "img = imread(r'chain_small.JPG')\n",
        "img = img.mean(axis=2) # это матрица из интенсивностей серого цвета; её уже можно подвергать SVD"
      ]
    },
    {
      "cell_type": "markdown",
      "metadata": {
        "id": "ocEvx03s15Ud"
      },
      "source": [
        "Нарисуйте картинку:"
      ]
    },
    {
      "cell_type": "code",
      "source": [
        "import matplotlib.pyplot as plt\n",
        "%matplotlib inline\n",
        "\n",
        "imgplot = plt.imshow(img, cmap='gray')"
      ],
      "metadata": {
        "id": "HG2_vXD-E4Jr"
      },
      "execution_count": null,
      "outputs": []
    },
    {
      "cell_type": "markdown",
      "metadata": {
        "id": "RLt_AWf915Ug"
      },
      "source": [
        "Постройте сингулярное разложение этой матрицы."
      ]
    },
    {
      "cell_type": "code",
      "execution_count": null,
      "metadata": {
        "id": "f5SxwbTb15Uh"
      },
      "outputs": [],
      "source": [
        "from numpy.linalg import svd\n",
        "\n",
        "U, S, VT = svd(img, full_matrices=False)"
      ]
    },
    {
      "cell_type": "markdown",
      "metadata": {
        "id": "zkrOqszZ15Uh"
      },
      "source": [
        "**1. [0.1 балла]** Нарисуйте график диагональных элементов матрицы $\\Sigma$:"
      ]
    },
    {
      "cell_type": "code",
      "execution_count": null,
      "metadata": {
        "id": "MTQqBm_R15Ui"
      },
      "outputs": [],
      "source": [
        "#╰( ͡° ͜ʖ ͡° )つ──☆*:・ﾟ"
      ]
    },
    {
      "cell_type": "markdown",
      "metadata": {
        "id": "upQNYeW415Ui"
      },
      "source": [
        "Кажется, что они убывают достаточно быстро и есть надежда, что первые несколько компонент дадут картинку, близкую к исходной.\n",
        "\n",
        "**Важно:** при визуализации различных компонент в этом задании используйте только матричные операции. В частности, избегайте циклов, функций `map` и `reduce`, а также специальных функций, находящих суммы компонент."
      ]
    },
    {
      "cell_type": "markdown",
      "metadata": {
        "id": "pajLcdrf15Uj"
      },
      "source": [
        "**2. [0.3 балла]** Визуализуйте первую компоненту ранга 1. Ожидали ли Вы увидеть именно это? Поясните."
      ]
    },
    {
      "cell_type": "code",
      "execution_count": null,
      "metadata": {
        "id": "sbulseUu15Uj"
      },
      "outputs": [],
      "source": [
        "#╰( ͡° ͜ʖ ͡° )つ──☆*:・ﾟ"
      ]
    },
    {
      "cell_type": "markdown",
      "metadata": {
        "id": "CmvkyVOA15Uk"
      },
      "source": [
        "**3. [0.5 балла]** Визуализуйте суммы компонент ранга 1 с первой по двадцатую, с первой по пятидесятую, с двадцатой по сотую, с двадцатой по последнюю. Сделайте выводы."
      ]
    },
    {
      "cell_type": "code",
      "execution_count": null,
      "metadata": {
        "collapsed": true,
        "id": "tqYmJHF415Ul"
      },
      "outputs": [],
      "source": [
        "#╰( ͡° ͜ʖ ͡° )つ──☆*:・ﾟ"
      ]
    },
    {
      "cell_type": "markdown",
      "metadata": {
        "id": "X-AZWBFO15Um"
      },
      "source": [
        "**4. [0.5 балла]** Как Вам кажется, какие компоненты нужно взять для достаточно хорошего восстановления исходного изображения? Аргументируйте свой ответ. Не забудьте визуализировать сумму выбранных компонент."
      ]
    },
    {
      "cell_type": "markdown",
      "metadata": {
        "id": "PGl9Ir5a15Un"
      },
      "source": [
        "*Комментарий: для получения полного балла за это задание постарайтесь привести более убедительный аргумент, нежели Ваши субъективные впечатления от сравнения полученного изображения с исходным.*"
      ]
    },
    {
      "cell_type": "code",
      "execution_count": null,
      "metadata": {
        "collapsed": true,
        "id": "LTs7i6u415Uo"
      },
      "outputs": [],
      "source": [
        "#╰( ͡° ͜ʖ ͡° )つ──☆*:・ﾟ"
      ]
    },
    {
      "cell_type": "markdown",
      "metadata": {
        "id": "4knXmVyj15Uq"
      },
      "source": [
        "**5. [0.35 балла]** Во сколько раз меньше памяти (теоретически) потребуется для хранения нового изображения по сравнению с исходным?"
      ]
    },
    {
      "cell_type": "markdown",
      "metadata": {
        "id": "7zSEf2nE15Ut"
      },
      "source": [
        "╰( ͡° ͜ʖ ͡° )つ──☆*:・ﾟ"
      ]
    },
    {
      "cell_type": "markdown",
      "metadata": {
        "id": "cLkHwki915Uu"
      },
      "source": [
        "**6. [0.35 балла]** Подсчитайте, сколько в действительности места в памяти компьютера занимают исходная матрица и компоненты её сингулярного разложения. Согласуется ли этот результат с ответом предыдущего пункта? Сделайте выводы."
      ]
    },
    {
      "cell_type": "markdown",
      "metadata": {
        "id": "c6J38FtD15Uv"
      },
      "source": [
        "╰( ͡° ͜ʖ ͡° )つ──☆*:・ﾟ"
      ]
    },
    {
      "cell_type": "markdown",
      "metadata": {
        "collapsed": true,
        "id": "teBtX30_15Uw"
      },
      "source": [
        "### Задание 2. Геометрия SVD. Визуализация данных с помощью SVD"
      ]
    },
    {
      "cell_type": "markdown",
      "metadata": {
        "id": "y3q8wUH215Uw"
      },
      "source": [
        "**Геометрический смысл SVD**\n",
        "\n",
        "Допустим, что у нас есть выборка $x_1,\\ldots,x_m\\in\\mathbb{R}^n$. Запишем её в матрицу объекты-признаки\n",
        "\n",
        "$$X = \\begin{pmatrix}\n",
        "x_{11} & \\ldots & x_{1n}\\\\\n",
        "\\vdots & & \\vdots\\\\\n",
        "x_{m1} & \\ldots & x_{mn}\n",
        "\\end{pmatrix}$$\n",
        "\n",
        "(строки — объекты, столбцы — признаки) и сделаем SVD-разложение: $X = U\\Sigma V^T$. Его можно интерпретировать следующим образом:\n",
        "\n",
        "$$X = U\\Sigma\\cdot V^T,$$\n",
        "\n",
        "где $U\\Sigma$ — это матрица объекты-признаки для тех же объектов, но в новых признаках, полученных из исходных с помощью линейного преобразования $V$ (напоминаем, что умножение на матрицу справа соответствует преобразованию столбцов). Попробуем понять, чем замечательны эти признаки.\n",
        "\n",
        "Рассмотрим матрицу $X^TX = V\\Sigma^2V^T$. Из лекций вы знаете, что $\\sigma_1^2$, квадрат первого сингулярного числа, это наибольшее собственное значение матрицы $X^TX$, а $v_1$, первый столбец матрицы $V$, — это соответствующий собственный вектор. Можно показать, что\n",
        "\n",
        "$$\\sigma_1 = \\mathrm{max}_{w}\\frac{|Xw|}{|w|} = \\mathrm{max}_{|w| = 1}\\left(|Xw|\\right).$$\n",
        "\n",
        "Попробуем осознать физический смысл этой штуки. Напомним, что строки матрицы $X$ — это координаты объектов $x_1,\\ldots,x_m$ в пространстве признаков. Произведение $Xw$ — это вектор из значений на тех же самых объектах некоторого нового признака, являющегося линейной комбинацией исходных с коэффициентами $w_1,\\ldots,w_n$:\n",
        "\n",
        "$$Xw = w_1\\begin{pmatrix} x_{11}\\\\ \\ldots \\\\ x_{m1}\n",
        "\\end{pmatrix} + w_2\\begin{pmatrix} x_{12}\\\\ \\ldots \\\\ x_{m2}\n",
        "\\end{pmatrix} + \\ldots + w_n\\begin{pmatrix} x_{1n}\\\\ \\ldots \\\\ x_{mn}\n",
        "\\end{pmatrix}$$\n",
        "\n",
        "Соответственно, $|Xw|^2$ — это квадрат длины вектора, составленного из значений нового признака.\n",
        "\n",
        "Таким образом, первому сингулярному значению $\\sigma_1$ отвечает такой признак, у которого сумма квадратов значений максимальна, то есть признак, принимающий, условно говоря, самые большие значения.\n",
        "\n",
        "Резюмируя, мы можем сказать, что сингулярное разложение делает следующее:\n",
        "- находит новый признак (новое направление) вдоль которого \"дисперсия\"$^1$ (специальная мера разброса) максимальна;\n",
        "- в ортогональной ему плоскости находит признак, вдоль которого \"дисперсия\" максимальна;\n",
        "- и так далее.\n",
        "\n",
        "---\n",
        "$^1$ настоящая выборочная дисперсия с точностью до числового множителя была бы равна $|Xw - \\overline{Xw}|^2$, где $\\overline{Xw} = \\frac1m\\sum_{i=1}^m(Xw)_i$ — среднее значения признака."
      ]
    },
    {
      "cell_type": "markdown",
      "metadata": {
        "id": "9JNxC0tZ15U5"
      },
      "source": [
        "**Визуализация данных с помощью SVD**\n",
        "\n",
        "Выше мы обсудили, что первые из \"новых\" признаков — это признаки, значения которых, скажем так, наиболее разнообразны. Зачастую (хотя и не всегда) именно они несут в себе наиболее важные черты датасета. И если взять два-три первых, то датасет можно нарисовать и посмотреть на него — и, возможно, обнаружить какую-то структуру.\n",
        "\n",
        "С помощью функции `dsklearn.datasets.load_digits()` загрузите датасет рукописных цифр [MNIST](http://yann.lecun.com/exdb/mnist/). В нём есть несколько атрибутов; вам сейчас будут нужны `digits.data` (`np.array`, строки которого — это вытянутые в одну строку значения пикселей) и `digits.target` (в них записаны соответствующие цифры)."
      ]
    },
    {
      "cell_type": "code",
      "execution_count": null,
      "metadata": {
        "id": "Ykk5jMJx15U5",
        "outputId": "6ace8b7a-c0c1-4275-c07b-9303809a1cb6"
      },
      "outputs": [
        {
          "name": "stdout",
          "output_type": "stream",
          "text": [
            "0\n"
          ]
        },
        {
          "data": {
            "text/plain": [
              "<matplotlib.image.AxesImage at 0xb989f28>"
            ]
          },
          "execution_count": 58,
          "metadata": {},
          "output_type": "execute_result"
        },
        {
          "data": {
            "image/png": "[encoded data removed]",
            "text/plain": [
              "<matplotlib.figure.Figure at 0xb62acf8>"
            ]
          },
          "metadata": {},
          "output_type": "display_data"
        }
      ],
      "source": [
        "from sklearn import datasets\n",
        "\n",
        "digits = datasets.load_digits()\n",
        "\n",
        "print(digits.target[0])\n",
        "\n",
        "plt.imshow(digits.data[0].reshape((8,8)))"
      ]
    },
    {
      "cell_type": "markdown",
      "metadata": {
        "id": "n2MmGqUn15U6"
      },
      "source": [
        "**5. [0.1 балла]** Примените к матрице `digits.data` сингулярное разложение."
      ]
    },
    {
      "cell_type": "code",
      "execution_count": null,
      "metadata": {
        "id": "Qiv2Oiid15U6"
      },
      "outputs": [],
      "source": [
        "#╰( ͡° ͜ʖ ͡° )つ──☆*:・ﾟ"
      ]
    },
    {
      "cell_type": "markdown",
      "metadata": {
        "id": "GerbsJQR15U7"
      },
      "source": [
        "**6. [1 балл]** Визуализируйте данные, спроецировав их на такую плоскость, чтобы координаты точек соответствовали первым двум новым признакам. Не забудьте покрасить точки, отвечающие различным цифрам, в разные цвета (если Вы любите красивые визуализации, разберитесь, как вместо точек рисовать маленькие цифры)."
      ]
    },
    {
      "cell_type": "code",
      "execution_count": null,
      "metadata": {
        "id": "9GxiVFPk15U7"
      },
      "outputs": [],
      "source": [
        "#╰( ͡° ͜ʖ ͡° )つ──☆*:・ﾟ"
      ]
    },
    {
      "cell_type": "markdown",
      "metadata": {
        "id": "Xnmoqkwm15U7"
      },
      "source": [
        "**7. [0.5 балла]** Теперь вычтите из каждого признака его среднее значение, снова сделайте SVD и нарисуйте разноцветные точки."
      ]
    },
    {
      "cell_type": "code",
      "execution_count": null,
      "metadata": {
        "collapsed": true,
        "id": "Qv5U3GO_15U8"
      },
      "outputs": [],
      "source": [
        "#╰( ͡° ͜ʖ ͡° )つ──☆*:・ﾟ"
      ]
    },
    {
      "cell_type": "markdown",
      "metadata": {
        "id": "zESwPZV615U9"
      },
      "source": [
        "**8. [0.5 балла]** Сравните выполненные Вами в двух предыдущих пунктах визуализации. Чем последняя выгодно отличается от первой?"
      ]
    },
    {
      "cell_type": "markdown",
      "metadata": {
        "id": "qELLp6MI15U9"
      },
      "source": [
        "╰( ͡° ͜ʖ ͡° )つ──☆*:・ﾟ"
      ]
    },
    {
      "cell_type": "markdown",
      "source": [
        "### Задание 3. Поиск похожих изображений с помощью SVD."
      ],
      "metadata": {
        "id": "TfJwCk-J4-G1"
      }
    },
    {
      "cell_type": "markdown",
      "source": [
        "В этой задаче мы познакомимся с одним из возможных приложений сингулярного разложения — поиск \"хорошего\" базиса (eigenfaces) в наборе изображений и использования его для поиска похожих изображений.\n",
        "\n",
        "**Замечание:** пользоваться циклами по изображениям **запрещено**, если это явно не прописано в условии.\n",
        "\n",
        "Для этого сначала загрузим набор изображений, на котором будем обучаться. Это набор фотографий лиц, взятый с [сайта](http://vis-www.cs.umass.edu/lfw/) проекта \"Labeled faces in the wild\". Скачайте лица людей с именами, начинающимися на \"А\" и положите в папку `data/` в рабочей директории ноутбука.\n",
        "\n",
        "Импортируем необходимые библиотеки и загрузим картинки в виде numpy-массивов."
      ],
      "metadata": {
        "id": "7u1IiEZt5CC9"
      }
    },
    {
      "cell_type": "code",
      "source": [
        "import matplotlib.pyplot as plt\n",
        "import PIL\n",
        "import tarfile\n",
        "import os\n",
        "import numpy as np\n",
        "\n",
        "def load_images(targz, size):\n",
        "    images = {}\n",
        "    tar = tarfile.open(targz, \"r:gz\")\n",
        "    for tarinfo in tar:\n",
        "        if tarinfo.isreg():\n",
        "            file = tar.extractfile(tarinfo)\n",
        "            image = PIL.Image.open(file)\n",
        "            image = image.convert(\"L\")\n",
        "            image = image.resize(size, PIL.Image.LANCZOS)\n",
        "            image = np.asarray(image, dtype=np.double)\n",
        "            image /= np.linalg.norm(image)\n",
        "            parts = os.path.normpath(tarinfo.name).split(os.path.sep)\n",
        "            images.setdefault(parts[-2], []).append(image)\n",
        "    return images"
      ],
      "metadata": {
        "id": "2pSg_cGg5KSu"
      },
      "execution_count": null,
      "outputs": []
    },
    {
      "cell_type": "code",
      "source": [
        "size = 256\n",
        "images = load_images(\"data/lfw-a.tgz\", (size, size))"
      ],
      "metadata": {
        "id": "cnrOuUhF5MBH"
      },
      "execution_count": null,
      "outputs": []
    },
    {
      "cell_type": "code",
      "source": [
        "_ = plt.imshow(images[\"Aaron_Eckhart\"][0], cmap=\"gray\")"
      ],
      "metadata": {
        "id": "0cVJiSM15Nft"
      },
      "execution_count": null,
      "outputs": []
    },
    {
      "cell_type": "markdown",
      "source": [
        "Сразу отложим одно изображение для последующего поиска."
      ],
      "metadata": {
        "id": "9k3hcNbh5Qe4"
      }
    },
    {
      "cell_type": "code",
      "source": [
        "test_image = images[\"Alejandro_Toledo\"][10]\n",
        "del images[\"Alejandro_Toledo\"][10]"
      ],
      "metadata": {
        "id": "SumGGTv75OyN"
      },
      "execution_count": null,
      "outputs": []
    },
    {
      "cell_type": "markdown",
      "source": [
        "#### a. Применение базового алгоритма SVD\n",
        "\n",
        "1. **(0.5 балла)** С помощью функции ```np.reshape(...)``` получите из словаря `images` массив ```M``` размера ```(size * size, nframes)```, каждым столбцом которого является изображение размера ```(size, size)```, представленное в виде вектора длины ```size**2``` (используйте такое значение параметра `order`, чтобы обходить картинки по столбцам).\n",
        "\n",
        "*В этом пункте (и только в этом) можно использовать цикл по изображениям.*"
      ],
      "metadata": {
        "id": "JWPbIy5k5z_w"
      }
    },
    {
      "cell_type": "code",
      "source": [
        "M = # TO BE FILLED"
      ],
      "metadata": {
        "id": "jMcpQQWw51rI"
      },
      "execution_count": null,
      "outputs": []
    },
    {
      "cell_type": "markdown",
      "source": [
        "2. **(0.6 баллов)** Вычислите сингулярное разложение матрицы ```M``` с помощью ```np.linalg.svd``` и постройте график сингулярных чисел, отсортированных по убыванию. Шкала с сингулярными числами должна быть логарифмической. Например, для этого можно использовать функцию ```plt.semilogy```.\n",
        "\n",
        "    **Замечание:** При построении графиков величин с отличающимися на порядки значениями полезно использовать логарифмическую шкалу. Чтобы убедиться в этом, попробуйте построить график не в логарифмической шкале; из него будет фактически невозможно понять характер убывания сингулярных чисел."
      ],
      "metadata": {
        "id": "MLK_VmBp53nx"
      }
    },
    {
      "cell_type": "markdown",
      "source": [
        " 3. **(0.5 баллов)** Заполните пропуск в следующей функции, которая должна визуализировать вектор-столбцы нашей матрицы в виде таблицы. Затем с её помощью визуализируйте несколько первых сингулярных векторов. Опишите неформально, за что отвечают три старших сингулярных вектора."
      ],
      "metadata": {
        "id": "9oRwvtGC56of"
      }
    },
    {
      "cell_type": "code",
      "source": [
        "def plot_as_images(mat, rows, cols):\n",
        "    '''\n",
        "        Visualize images from the columns of mat in a table of shape (rows, cols).\n",
        "\n",
        "        Input\n",
        "            mat: numpy array of shape (size * size, rows * cols)\n",
        "            rows: number of rows in the table\n",
        "            cols: number of columns in the table\n",
        "    '''\n",
        "\n",
        "    fig, axes = plt.subplots(rows, cols, figsize=(cols*2,rows*2))\n",
        "    for i in range(rows):\n",
        "        for j in range(cols):\n",
        "            axes[i,j].imshow(mat[:,i*cols + j].reshape(......), cmap=\"gray\")\n",
        "            axes[i,j].get_xaxis().set_visible(False)\n",
        "            axes[i,j].get_yaxis().set_visible(False)"
      ],
      "metadata": {
        "id": "I_tUdnw_58K7"
      },
      "execution_count": null,
      "outputs": []
    },
    {
      "cell_type": "markdown",
      "source": [
        "4. **(0.6 балла)** Напишите функцию-обёртку ```trunc_svd(M, r)```, которая повторяет вычисление svd из пункта 2, а потом вычисляет для матрицы $M$ оптимальное приближение $M_{r}$ заданного ранга. Функция должна возвращать матрицы $U$ и $C$ такие, что столбцы матрицы $U$ составляют ортонормированный базис столбцов $M_{r}$, а $UC = M_{r}$. Также функция `trunc_svd` возвращает **относительную** точность приближения во Фробениусовой норме, т.е.\n",
        "$$\n",
        "    \\frac{\\|M - M_{r}\\|_F}{\\|M\\|_F}.\n",
        "$$"
      ],
      "metadata": {
        "id": "4lnus8FZ5-Wn"
      }
    },
    {
      "cell_type": "code",
      "source": [
        "def trunc_svd(M, r):\n",
        "    '''\n",
        "        Input\n",
        "            M: original 2D numpy array\n",
        "            r: rank value for truncation\n",
        "\n",
        "        Output\n",
        "            U: orthonormal basis of columns of Mr\n",
        "            C: coefficients in equality Mr = UC\n",
        "            rel_eps: relative error of rank-r approximation Mr\n",
        "    '''\n",
        "\n",
        "    # TO BE FILLED\n",
        "\n",
        "    raise NotImplementedError()"
      ],
      "metadata": {
        "id": "tHYLc7KL6AKp"
      },
      "execution_count": null,
      "outputs": []
    },
    {
      "cell_type": "markdown",
      "source": [
        "5. **(0.6 баллов)** Проверим работу написанной функции. Для этого воспользуемся функцией, которая рисует исходное изображение, приближение некоторого ранга, а также первые `count` сингулярных векторов в разложении вместе с их коэффициентами. Заполните пропуски в ней с помощью метода `reshape`."
      ],
      "metadata": {
        "id": "b61dYUqN5_0o"
      }
    },
    {
      "cell_type": "code",
      "source": [
        "def plot_as_combination(M, U, C, count, indices):\n",
        "    '''\n",
        "        Input\n",
        "            M: original 2D numpy array\n",
        "            U: orthonormal basis of columns of Mr\n",
        "            C: coefficients in equality Mr = UC\n",
        "            count: desired number of images of singular vectors\n",
        "            indices: indices of columns of M which are visualized\n",
        "    '''\n",
        "\n",
        "    fig, all_axes = plt.subplots(len(indices), count + 2, figsize=(count * 2, len(indices)*2))\n",
        "\n",
        "    for i, index in enumerate(indices):\n",
        "        axes = all_axes[i, :]\n",
        "\n",
        "        axes[0].imshow(......, cmap=\"gray\") # Original image\n",
        "        axes[0].set_xlabel(\"Orig\")\n",
        "\n",
        "        appr = U @ C[:, index]\n",
        "        axes[1].imshow(......, cmap=\"gray\") # Approximation image\n",
        "        axes[1].set_xlabel(\"Appr\")\n",
        "\n",
        "        for j in range(count):\n",
        "            axes[2 + j].imshow(......, cmap=\"gray\") # i-th singular vector image\n",
        "            axes[2 + j].set_xlabel(\"{:.7}\".format(C[j, index]))\n",
        "\n",
        "        for ax in axes:\n",
        "            ax.set_xticks([])\n",
        "            ax.get_yaxis().set_visible(False)"
      ],
      "metadata": {
        "id": "_jfXMB_D6QUA"
      },
      "execution_count": null,
      "outputs": []
    },
    {
      "cell_type": "code",
      "source": [
        "U, C, eps = trunc_svd(M, 100)\n",
        "plot_as_combination(M, U, C, 7, range(10))"
      ],
      "metadata": {
        "id": "78U7jcN56Ryy"
      },
      "execution_count": null,
      "outputs": []
    },
    {
      "cell_type": "markdown",
      "source": [
        "#### b. Поиск нового изображения"
      ],
      "metadata": {
        "id": "gOHkwqw5Kkxb"
      }
    },
    {
      "cell_type": "markdown",
      "source": [
        "Представьте, что нам выдали новое изображение `new`, которого в нашей базе нет. Чтобы найти в базе похожие, можно посчитать норму разности с каждым имеющимся изображением. Для проверки напишем вспомогательную функцию, которая будет показывать подписанные картинки."
      ],
      "metadata": {
        "id": "Lj-QGBpLKqEC"
      }
    },
    {
      "cell_type": "code",
      "source": [
        "def show_images(M, indices, names):\n",
        "    fig, axes = plt.subplots(1, len(indices), figsize=(len(indices)*3, 3))\n",
        "    for ax, index in zip(axes, indices):\n",
        "        ax.imshow(M[:,index].reshape((size, size), order=\"F\"), cmap=\"gray\")\n",
        "        ax.get_xaxis().set_ticks([])\n",
        "        ax.set_xlabel(names[index])\n",
        "        ax.get_yaxis().set_visible(False)"
      ],
      "metadata": {
        "id": "1Lm-gHiXKrw0"
      },
      "execution_count": null,
      "outputs": []
    },
    {
      "cell_type": "markdown",
      "source": [
        "   1. **(1 балл)** Напишите функцию, находящее ближайшее во фробениусовой норме изображение."
      ],
      "metadata": {
        "id": "lUR84GbFKt3c"
      }
    },
    {
      "cell_type": "code",
      "source": [
        "def get_closest_naive(M, new_v, count):\n",
        "    \"\"\"\n",
        "        Input\n",
        "            M: matrix of vectorized images\n",
        "            new_v: new image as a vector of shape (size**2,)\n",
        "            count: desired number of closest images\n",
        "\n",
        "        Output\n",
        "            indices: list of count indices of closest images\n",
        "    \"\"\"\n",
        "\n",
        "    raise NotImplementedError()"
      ],
      "metadata": {
        "id": "iIUFAgq7Kwgz"
      },
      "execution_count": null,
      "outputs": []
    },
    {
      "cell_type": "markdown",
      "source": [
        "Проверим её на тестовом изображении. Как минимум один Алехандро Толедо должен найтись."
      ],
      "metadata": {
        "id": "f0sqOv2gKyC2"
      }
    },
    {
      "cell_type": "code",
      "source": [
        "new = test_image\n",
        "_ = plt.imshow(new, cmap=\"gray\")"
      ],
      "metadata": {
        "id": "Vth-FI1MK0fL"
      },
      "execution_count": null,
      "outputs": []
    },
    {
      "cell_type": "code",
      "source": [
        "new_v = new.ravel(order=\"F\")\n",
        "names = sum(map(lambda item: [item[0]] * len(item[1]), images.items()), [])\n",
        "show_images(M, get_closest_naive(M, new_v, 5), names)"
      ],
      "metadata": {
        "id": "YDh-GKwmK1uL"
      },
      "execution_count": null,
      "outputs": []
    },
    {
      "cell_type": "markdown",
      "source": [
        "Помимо того, что такой подход может оказаться неприемлемым с точки зрения производительности, он также не устойчив:  например, изменение освещения или фона может очень сильно изменить норму разности.\n",
        "\n",
        "   2. **(2 балла)** Применим подход, использующий SVD. Именно, спроецируем новое изображение на пространство, задаваемое ортонормированным базисом $U$, и будем сравнивать норму разности проекций. Причём для устойчивости к изменению освещения не будем учитывать первую компоненту в разложении по столбцам матрицы $U$. Напишите функцию `get_closest_proj`, которая возвращает индексы `count` изображений по описанному алгоритму."
      ],
      "metadata": {
        "id": "1enqOgMbK0BD"
      }
    },
    {
      "cell_type": "code",
      "source": [
        "def get_closest_proj(U, C, new_v, count):\n",
        "    \"\"\"\n",
        "        Input\n",
        "            U: orthonormal basis of columns of Mr\n",
        "            C: coefficients in equality Mr = UC\n",
        "            new_v: new image as a vector of shape (size**2,)\n",
        "            count: desired number of closest images\n",
        "\n",
        "        Output\n",
        "            indices: list (of len `count`) of indices of closest images\n",
        "    \"\"\"\n",
        "\n",
        "    raise NotImplementedError()"
      ],
      "metadata": {
        "id": "SCe6tV5_K6yz"
      },
      "execution_count": null,
      "outputs": []
    },
    {
      "cell_type": "markdown",
      "source": [
        "Проверим подход с SVD  том же тестовом изображении. Правильно реализованный метод должен найти как минимум два изображения Алехандро."
      ],
      "metadata": {
        "id": "J7NksktiK8S2"
      }
    },
    {
      "cell_type": "code",
      "source": [
        "show_images(M, get_closest_proj(U, C, new_v, 5), names)"
      ],
      "metadata": {
        "id": "SRnUJqezK9-b"
      },
      "execution_count": null,
      "outputs": []
    }
  ],
  "metadata": {
    "kernelspec": {
      "display_name": "Python 3",
      "language": "python",
      "name": "python3"
    },
    "language_info": {
      "codemirror_mode": {
        "name": "ipython",
        "version": 3
      },
      "file_extension": ".py",
      "mimetype": "text/x-python",
      "name": "python",
      "nbconvert_exporter": "python",
      "pygments_lexer": "ipython3",
      "version": "3.8.5"
    },
    "colab": {
      "provenance": []
    }
  },
  "nbformat": 4,
  "nbformat_minor": 0
}