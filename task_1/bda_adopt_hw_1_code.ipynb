{
 "cells": [
  {
   "cell_type": "markdown",
   "metadata": {
    "id": "ye_4O1r4eDZ_"
   },
   "source": [
    "### Задача 1 (1 балл)\n",
    "\n",
    "\n",
    "$ 1.$\n",
    "\n",
    "Создайте с помощью np.random.randint numpy массив из 20-ти рандомных чисел.\n",
    "Посчитайте с помощью методов numpy и выведите на экран:\n",
    "\n",
    "* среднее значение в массиве\n",
    "* минимальное значение в массиве\n",
    "* максимальное значение в массиве\n",
    "* индекс минимального элемента в массиве\n",
    "* массив, который содержит те элементы исходного массива, которые больше 10\n",
    "\n",
    "\n",
    "$ 2.$\n",
    "1. Сгенерируйте рандомный массив b размера 3x1.\n",
    "2. Сгенерируйте матрицу С размера 3x3.\n",
    "3. Решите систему Cx = b с помощью numpy.linalg.solve (как это делать - можно почитать в документации: https://numpy.org/doc/stable/reference/generated/numpy.linalg.solve.html)\n",
    "4. Подумайте/погуглите, в каком случае numpy.linalg.solve вернет ошибку LinAlgError. Воспроизведите этот случай."
   ]
  },
  {
   "cell_type": "markdown",
   "metadata": {
    "id": "m8DDcNCt03NQ"
   },
   "source": [
    "Пользуйтесь документацией numpy:  https://numpy.org"
   ]
  },
  {
   "cell_type": "code",
   "execution_count": 8,
   "metadata": {
    "ExecuteTime": {
     "end_time": "2024-12-05T19:49:03.276756Z",
     "start_time": "2024-12-05T19:49:03.275328Z"
    },
    "id": "GqO9jTvhofAf"
   },
   "outputs": [],
   "source": [
    "import numpy as np"
   ]
  },
  {
   "cell_type": "code",
   "execution_count": 31,
   "metadata": {
    "ExecuteTime": {
     "end_time": "2024-12-05T19:49:04.105729Z",
     "start_time": "2024-12-05T19:49:04.103518Z"
    }
   },
   "outputs": [
    {
     "name": "stdout",
     "output_type": "stream",
     "text": [
      "Исходный массив:\n",
      " [94  1 13 12 26 99 12 10 94 14 93 91 57 86 44 24  0 78 55 25]\n"
     ]
    }
   ],
   "source": [
    "# Задача 1.1:\n",
    "# Создание массива из 20 случайных чисел от 0 до 100:\n",
    "array = np.random.randint(0, 100, size=20)\n",
    "print(\"Исходный массив:\\n\", array)"
   ]
  },
  {
   "cell_type": "code",
   "execution_count": 32,
   "metadata": {
    "ExecuteTime": {
     "end_time": "2024-12-05T19:49:05.240168Z",
     "start_time": "2024-12-05T19:49:05.237862Z"
    }
   },
   "outputs": [
    {
     "name": "stdout",
     "output_type": "stream",
     "text": [
      "Среднее значение:\n",
      " 46.4\n",
      "Минимальное значение:\n",
      " 0\n",
      "Максимальное значение:\n",
      " 99\n",
      "Индекс минимального элемента:\n",
      " 16\n",
      "Элементы больше 10:\n",
      " [94 13 12 26 99 12 94 14 93 91 57 86 44 24 78 55 25]\n"
     ]
    }
   ],
   "source": [
    "# Вычисления:\n",
    "print(\"Среднее значение:\\n\", np.mean(array))\n",
    "print(\"Минимальное значение:\\n\", np.min(array))\n",
    "print(\"Максимальное значение:\\n\", np.max(array))\n",
    "print(\"Индекс минимального элемента:\\n\", np.argmin(array))\n",
    "print(\"Элементы больше 10:\\n\", array[array > 10])"
   ]
  },
  {
   "cell_type": "code",
   "execution_count": 33,
   "metadata": {
    "ExecuteTime": {
     "end_time": "2024-12-05T19:49:15.483522Z",
     "start_time": "2024-12-05T19:49:15.481478Z"
    }
   },
   "outputs": [
    {
     "name": "stdout",
     "output_type": "stream",
     "text": [
      "\n",
      "Массив b:\n",
      " [[ 7]\n",
      " [21]\n",
      " [73]]\n",
      "\n",
      "Матрица C:\n",
      " [[96  9  2]\n",
      " [45 85 97]\n",
      " [40  2 71]]\n"
     ]
    }
   ],
   "source": [
    "# Задача 1.2:\n",
    "# Генерация массива b размером 3x1:\n",
    "b = np.random.randint(0, 100, size=(3, 1))\n",
    "print(\"\\nМассив b:\\n\", b)\n",
    "\n",
    "# Генерация матрицы C размером 3x3:\n",
    "C = np.random.randint(0, 100, size=(3, 3))\n",
    "print(\"\\nМатрица C:\\n\", C)"
   ]
  },
  {
   "cell_type": "code",
   "execution_count": 34,
   "metadata": {},
   "outputs": [
    {
     "name": "stdout",
     "output_type": "stream",
     "text": [
      "\n",
      "Решение системы x:\n",
      " [[ 0.14077043]\n",
      " [-0.94051913]\n",
      " [ 0.97535522]]\n"
     ]
    }
   ],
   "source": [
    "# Решение системы Cx = b с помощью np.linalg.solve:\n",
    "try:\n",
    "    x = np.linalg.solve(C, b)\n",
    "    print(\"\\nРешение системы x:\\n\", x)\n",
    "except np.linalg.LinAlgError:\n",
    "    print(\"\\nМатрица C вырожденная, решение невозможно\")"
   ]
  },
  {
   "cell_type": "code",
   "execution_count": 35,
   "metadata": {},
   "outputs": [
    {
     "name": "stdout",
     "output_type": "stream",
     "text": [
      "\n",
      "Вырожденная матрица:\n",
      " [[1 2 3]\n",
      " [2 4 6]\n",
      " [1 2 3]]\n",
      "\n",
      "Ошибка LinAlgError для вырожденной матрицы: Singular matrix\n"
     ]
    }
   ],
   "source": [
    "# LinAlgError для вырожденной матрицы:\n",
    "# Создание вырожденной матрицу (с линейно зависимыми строками):\n",
    "singular_C = np.array([[1, 2, 3], \n",
    "                       [2, 4, 6],  # эта строка = 2 * первая строка\n",
    "                       [1, 2, 3]])\n",
    "print(\"\\nВырожденная матрица:\\n\", singular_C)\n",
    "\n",
    "try:\n",
    "    x = np.linalg.solve(singular_C, b)\n",
    "except np.linalg.LinAlgError as e:\n",
    "    print(\"\\nОшибка LinAlgError для вырожденной матрицы:\", str(e))"
   ]
  },
  {
   "cell_type": "code",
   "execution_count": 36,
   "metadata": {
    "ExecuteTime": {
     "end_time": "2024-12-05T20:02:46.283255Z",
     "start_time": "2024-12-05T20:02:46.280734Z"
    }
   },
   "outputs": [
    {
     "name": "stdout",
     "output_type": "stream",
     "text": [
      "\n",
      "Матрица неправильного размера:\n",
      " [[1 2 3]\n",
      " [1 2 3]]\n",
      "\n",
      "Ошибка LinAlgError для матрицы неправильного размера: Last 2 dimensions of the array must be square\n"
     ]
    }
   ],
   "source": [
    "# LinAlgError для матрицы неправильного размера:\n",
    "# Создание матрицы неправильного размера:\n",
    "wrong_C = np.array([[1, 2, 3],\n",
    "                    [1, 2, 3]])\n",
    "print(\"\\nМатрица неправильного размера:\\n\", wrong_C)\n",
    "\n",
    "try:\n",
    "    x = np.linalg.solve(wrong_C, b)\n",
    "except np.linalg.LinAlgError as e:\n",
    "    print(\"\\nОшибка LinAlgError для матрицы неправильного размера:\", str(e))"
   ]
  },
  {
   "cell_type": "markdown",
   "metadata": {
    "id": "q-oSixsb09RV"
   },
   "source": [
    "### Задача 2 (0.5 балла)\n",
    "Ниже создаются две матрицы A, B."
   ]
  },
  {
   "cell_type": "code",
   "execution_count": 37,
   "metadata": {
    "id": "F93ouxr91AK-"
   },
   "outputs": [],
   "source": [
    "A = np.array([[1, 2, 30], [2, 1, 3], [20, 1, 3]])\n",
    "B = np.array([[8, 12, 19], [12, 13, 11], [10, 2, 3]])"
   ]
  },
  {
   "cell_type": "code",
   "execution_count": 38,
   "metadata": {
    "colab": {
     "base_uri": "https://localhost:8080/"
    },
    "id": "WCm95Nuu1e_L",
    "outputId": "4f360576-c3c8-4732-9529-de9daededc18"
   },
   "outputs": [
    {
     "data": {
      "text/plain": [
       "array([[ 1,  2, 30],\n",
       "       [ 2,  1,  3],\n",
       "       [20,  1,  3]])"
      ]
     },
     "execution_count": 38,
     "metadata": {},
     "output_type": "execute_result"
    }
   ],
   "source": [
    "A"
   ]
  },
  {
   "cell_type": "code",
   "execution_count": 39,
   "metadata": {
    "colab": {
     "base_uri": "https://localhost:8080/"
    },
    "id": "vEL0jLkq1fd_",
    "outputId": "25651af4-775b-46c9-e51c-d319a27c84b7"
   },
   "outputs": [
    {
     "data": {
      "text/plain": [
       "array([[ 8, 12, 19],\n",
       "       [12, 13, 11],\n",
       "       [10,  2,  3]])"
      ]
     },
     "execution_count": 39,
     "metadata": {},
     "output_type": "execute_result"
    }
   ],
   "source": [
    "B"
   ]
  },
  {
   "cell_type": "markdown",
   "metadata": {
    "id": "Unitf67H1lLh"
   },
   "source": [
    "С помощью numpy найдите:\n",
    "1. Сумма матриц A и B\n",
    "2. Произведение матриц A и B\n",
    "3. Произведение матриц B и A\n",
    "4. Определители матриц A и B\n",
    "5. Матрицу $A^T + BA$\n",
    "6. Матрицу, обратную к матрице A\n",
    "\n",
    "Пользуйтесь документацией numpy:  https://numpy.org"
   ]
  },
  {
   "cell_type": "code",
   "execution_count": 40,
   "metadata": {},
   "outputs": [
    {
     "name": "stdout",
     "output_type": "stream",
     "text": [
      "Сумма матриц A и B:\n",
      " [[ 9 14 49]\n",
      " [14 14 14]\n",
      " [30  3  6]]\n",
      "Произведение матриц A и B:\n",
      " [[332  98 131]\n",
      " [ 58  43  58]\n",
      " [202 259 400]]\n",
      "Произведение матриц B и A:\n",
      " [[412  47 333]\n",
      " [258  48 432]\n",
      " [ 74  25 315]]\n",
      "Определитель матрицы A:\n",
      " -432.00000000000017\n",
      "Определитель матрицы B:\n",
      " -990.0000000000001\n",
      "Матрица A^T + BA:\n",
      " [[413  49 353]\n",
      " [260  49 433]\n",
      " [104  28 318]]\n",
      "Матрица, обратная к матрице A:\n",
      " [[-5.55111512e-18 -5.55555556e-02  5.55555556e-02]\n",
      " [-1.25000000e-01  1.38194444e+00 -1.31944444e-01]\n",
      " [ 4.16666667e-02 -9.02777778e-02  6.94444444e-03]]\n"
     ]
    }
   ],
   "source": [
    "# Вычисления:\n",
    "print(\"Сумма матриц A и B:\\n\", A + B)\n",
    "print(\"Произведение матриц A и B:\\n\", A @ B)\n",
    "print(\"Произведение матриц B и A:\\n\", B @ A)\n",
    "print(\"Определитель матрицы A:\\n\", np.linalg.det(A))\n",
    "print(\"Определитель матрицы B:\\n\", np.linalg.det(B))\n",
    "print(\"Матрица A^T + BA:\\n\", A.T + B @ A)\n",
    "print(\"Матрица, обратная к матрице A:\\n\", np.linalg.inv(A))"
   ]
  },
  {
   "cell_type": "code",
   "execution_count": 41,
   "metadata": {
    "id": "PrhUt9Ux1L9X"
   },
   "outputs": [],
   "source": [
    "import time # понадобится для замера времени в следующей задаче"
   ]
  },
  {
   "cell_type": "markdown",
   "metadata": {
    "id": "dQCB9hqE5Mnn"
   },
   "source": []
  },
  {
   "cell_type": "markdown",
   "metadata": {
    "id": "pWPq7FRRkkAF"
   },
   "source": [
    "### Задача 3 (2 балла)\n",
    "\n",
    "Сравните производительность операций умножения матриц с использованием библиотеки NumPy и стандартных списков Python для матриц размером от 2x2 до 100x100.\n",
    "\n",
    "1. Сгенерируйте две матрицы A и B случайного размера от nxn, заполненные случайными целыми числами от 1 до 50.\n",
    "2. Используя библиотеку NumPy, выполните умножение матриц A и B. Измерьте время выполнения операции.\n",
    "3. Реализуйте функцию для умножения матриц с помощью стандартных списков Python. Измерьте время выполнения этой операции.\n",
    "4. Сделайте вышеперечисленные пункты для n=2,...100 (используйте цикл).\n",
    "5. Для какого-нибудь n проверьте, что результаты умножения (получившаяся матрица) совпадают.\n",
    "\n",
    "\n",
    "6. Постройте график, где по оси X будет размер матрицы, по оси Y - время выполнения операции. Постройте два графика (для numpy и для стандартных списков)\n",
    "Сделайте выводы.\n",
    "В качестве шаблона можете использовать части кода ниже (а можете не использовать)\n"
   ]
  },
  {
   "cell_type": "code",
   "execution_count": 51,
   "metadata": {},
   "outputs": [],
   "source": [
    "import matplotlib.pyplot as plt"
   ]
  },
  {
   "cell_type": "code",
   "execution_count": 60,
   "metadata": {
    "id": "2PHx1CNP2vaS"
   },
   "outputs": [
    {
     "name": "stdout",
     "output_type": "stream",
     "text": [
      "\n",
      "Проверка для n = 10:\n",
      "Результаты совпадают: True\n"
     ]
    }
   ],
   "source": [
    "def multiply(A, B):\n",
    "    n = len(A)\n",
    "    # Создание пустой матрицы для сохранения результата\n",
    "    result = [[0 for _ in range(n)] for _ in range(n)]\n",
    "    for i in range(n):          # Перебор строк\n",
    "        for j in range(n):      # Перебор столбцов\n",
    "            for k in range(n):  # Перебор и умножениеэлементов\n",
    "                result[i][j] += A[i][k] * B[k][j]\n",
    "    return result\n",
    "\n",
    "# Списки для хранения времени выполнения\n",
    "sizes = list(range(2, 101))\n",
    "numpy_times = []\n",
    "list_times = []\n",
    "\n",
    "for n in range(2, 101):\n",
    "    A = np.random.randint(1, 51, size=(n, n))\n",
    "    B = np.random.randint(1, 51, size=(n, n))\n",
    "    A_list = A.tolist()\n",
    "    B_list = B.tolist()\n",
    "    \n",
    "    # Замер времени для NumPy\n",
    "    start_time = time.time()\n",
    "    numpy_result = A @ B\n",
    "    numpy_times.append((time.time() - start_time) * 1000)  # время в миллисекундах\n",
    "    \n",
    "    # Замер времени для списков Python\n",
    "    start_time = time.time()\n",
    "    list_result = multiply(A_list, B_list)\n",
    "    list_times.append((time.time() - start_time) * 1000)  # время в миллисекундах\n",
    "    \n",
    "    # Проверка совпадения результатов для n = 10\n",
    "    if n == 10:\n",
    "        print(f\"\\nПроверка для n = {n}:\")\n",
    "        print(\"Результаты совпадают:\", np.allclose(numpy_result, list_result))"
   ]
  },
  {
   "cell_type": "code",
   "execution_count": 61,
   "metadata": {
    "id": "FKD4JOEHlCLq"
   },
   "outputs": [
    {
     "data": {
      "image/png": "[encoded data removed]",
      "text/plain": [
       "<Figure size 1200x600 with 1 Axes>"
      ]
     },
     "metadata": {},
     "output_type": "display_data"
    },
    {
     "name": "stdout",
     "output_type": "stream",
     "text": [
      "\n",
      "Статистика производительности:\n",
      "Среднее время NumPy: 0.11 мс\n",
      "Среднее время Python Lists: 13.88 мс\n",
      "Отношение времени Lists/NumPy: 122.97x\n"
     ]
    }
   ],
   "source": [
    "# Построение графика:\n",
    "plt.figure(figsize=(12, 6))\n",
    "plt.plot(sizes, numpy_times, label='NumPy', color='blue')\n",
    "plt.plot(sizes, list_times, label='Python Lists', color='red')\n",
    "plt.xlabel('Размер матрицы (n)')\n",
    "plt.ylabel('Время выполнения (мс)')\n",
    "plt.title('Сравнение производительности умножения матриц')\n",
    "plt.legend()\n",
    "plt.grid(True)\n",
    "plt.show()\n",
    "\n",
    "# Статистика производительности:\n",
    "print(\"\\nСтатистика производительности:\")\n",
    "print(f\"Среднее время NumPy: {np.mean(numpy_times):.2f} мс\")\n",
    "print(f\"Среднее время Python Lists: {np.mean(list_times):.2f} мс\")\n",
    "print(f\"Отношение времени Lists/NumPy: {np.mean(list_times)/np.mean(numpy_times):.2f}x\")"
   ]
  }
 ],
 "metadata": {
  "colab": {
   "provenance": []
  },
  "kernelspec": {
   "display_name": "Python 3 (ipykernel)",
   "language": "python",
   "name": "python3"
  },
  "language_info": {
   "codemirror_mode": {
    "name": "ipython",
    "version": 3
   },
   "file_extension": ".py",
   "mimetype": "text/x-python",
   "name": "python",
   "nbconvert_exporter": "python",
   "pygments_lexer": "ipython3",
   "version": "3.12.7"
  }
 },
 "nbformat": 4,
 "nbformat_minor": 0
}
